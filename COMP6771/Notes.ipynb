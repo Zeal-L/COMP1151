{
 "cells": [
  {
   "attachments": {},
   "cell_type": "markdown",
   "metadata": {},
   "source": [
    "# cmake\n",
    "cmake -S . -B ./build -DCMAKE_BUILD_TYPE=Debug && cmake --build build -t all\n",
    "ctest -j18 -C Debug -T test --output-on-failure"
   ]
  },
  {
   "attachments": {},
   "cell_type": "markdown",
   "metadata": {},
   "source": [
    "# Pacman\n",
    "- pacman -Syu       强制刷新所有包列表并升级\n",
    "- pacman -S         安装\n",
    "- pacman -Ss        搜索\n",
    "- pacman -Qe        安装的所有软件包"
   ]
  },
  {
   "attachments": {},
   "cell_type": "markdown",
   "metadata": {
    "vscode": {
     "languageId": "plaintext"
    }
   },
   "source": [
    "# conda - in wsl\n",
    "- conda list\n",
    "- conda install                 安装包\n",
    "- conda remove                  删除包\n",
    "- conda create -n cling         创建环境\n",
    "- conda remove -n cling --all   删除环境\n",
    "- conda activate cling          激活环境\n",
    "- conda deactivate              退出环境\n",
    "- jupyter notebook              启动jupyter\n",
    "\n",
    "1. wget https://repo.anaconda.com/miniconda/Miniconda3-latest-Linux-x86_64.sh\n",
    "2. bash Miniconda3-latest-Linux-x86_64.sh\n",
    "3. conda create -n cling\n",
    "4. conda activate cling\n",
    "5. conda install -c conda-forge mamba\n",
    "6. mamba install xeus-cling -c conda-forge\n",
    "7. mamba install jupyterlab -c conda-forge\n",
    "8. jupyter lab\n",
    "9. code ~/.jupyter/jupyter_notebook_config.py"
   ]
  },
  {
   "attachments": {},
   "cell_type": "markdown",
   "metadata": {},
   "source": [
    "# Fun\n",
    "- sl\n",
    "- curl parrot.live\n",
    "- hollywood\n",
    "- cmatrix"
   ]
  },
  {
   "attachments": {},
   "cell_type": "markdown",
   "metadata": {},
   "source": [
    "# byobu\n",
    "- `ctl - d` or `exit`       退出\n",
    "- F2                        打开一个新的窗口\n",
    "- F3                        进入前一个窗口\n",
    "- F4                        进入后一个窗口\n",
    "- F9                        打开byobu菜单，查看帮助信息和配置信息\n",
    "- F12                       锁住屏幕\n",
    "- F6                        断开链接"
   ]
  },
  {
   "attachments": {},
   "cell_type": "markdown",
   "metadata": {},
   "source": [
    "# 火焰图\n",
    "- SET(CMAKE_CXX_FLAGS \"${CMAKE_CXX_FLAGS} -pg -no-pie\")\n",
    "- gprof debugging.exe | gprof2dot | dot -Tpng -o output.png\n",
    "\n",
    "\n",
    "sudo apt-get install elfutils-devel libdw-dev systemtap-sdt-devel systemtap-sdt-dev libaudit-dev libssl-dev libslang2-dev libgtk2.0-dev libperl-dev libperl-dev libiberty-dev\n",
    "apt install flex bison\n",
    "git clone https://github.com/microsoft/WSL2-Linux-Kernel --depth 1\n",
    "cd WSL2-Linux-Kernel/tools/perf\n",
    "make -j8\n",
    "sudo cp perf /usr/local/bin\n"
   ]
  },
  {
   "attachments": {},
   "cell_type": "markdown",
   "metadata": {},
   "source": [
    "# 共享内存并行系统的多线程程序\n",
    "SET(CMAKE_CXX_FLAGS \"${CMAKE_CXX_FLAGS} -fopenmp\")\n",
    "#include <omp.h>\n",
    "#pragma omp parallel for schedule(dynamic)\n",
    "#pragma omp critical"
   ]
  },
  {
   "cell_type": "code",
   "execution_count": null,
   "metadata": {
    "vscode": {
     "languageId": "cpp"
    }
   },
   "outputs": [],
   "source": [
    "// 打印语法\n",
    "// std::endl 不建议频繁使用，因为它会刷新缓冲区，导致性能下降\n",
    "// 更多场景下，使用 '\\n' 就可以了\n",
    "#include <iostream>\n",
    "using namespace std;\n",
    "cout << \"Hello, World!\" << endl;"
   ]
  },
  {
   "cell_type": "code",
   "execution_count": null,
   "metadata": {
    "vscode": {
     "languageId": "cpp"
    }
   },
   "outputs": [],
   "source": [
    "// 最大最小值\n",
    "#include <iostream>\n",
    "using namespace std;\n",
    "int imax = numeric_limits <int>::max();\n",
    "int smin = numeric_limits <short>::min();\n",
    "cout << imax << endl;\n",
    "cout << smin << endl;"
   ]
  },
  {
   "cell_type": "code",
   "execution_count": null,
   "metadata": {
    "vscode": {
     "languageId": "cpp"
    }
   },
   "outputs": [],
   "source": [
    "// User Defined Types (UDT)\n",
    "#include <iostream>\n",
    "#include <vector>\n",
    "#include <string>\n",
    "using namespace std;\n",
    "\n",
    "// a bona fide string class\n",
    "string text = \"process me!\";\n",
    "// dynamic array of integers\n",
    "vector<int> ints = {1, 2, 3};\n",
    "// an associative map\n",
    "map<int, int> dict = {{3,1}, {2,2}, {1,3}};\n",
    "// function object (functor)\n",
    "function<void(void*)> my_free = free"
   ]
  },
  {
   "cell_type": "code",
   "execution_count": null,
   "metadata": {
    "vscode": {
     "languageId": "cpp"
    }
   },
   "outputs": [],
   "source": [
    "// Enumerations & Enum Classes\n",
    "#include <cassert>\n",
    "enum class color { RED = 0, GREEN, BLUE, }; \n",
    "enum class rgb : unsigned char {\n",
    "    R = 0, \n",
    "    G, \n",
    "    B, \n",
    "};\n",
    "assert(color::RED == rgb::R);\n"
   ]
  },
  {
   "cell_type": "code",
   "execution_count": null,
   "metadata": {
    "vscode": {
     "languageId": "cpp"
    }
   },
   "outputs": [],
   "source": [
    "// Top level & Bottom level const\n",
    "#include <iostream>\n",
    "using namespace std;\n",
    "\n",
    "int a = 0, b = 1;\n",
    "\n",
    "// Top-level const\n",
    "int * const TOP = &a;\n",
    "// 可以改变指向的值\n",
    "*TOP = 1;\n",
    "// 指针是常量，不能改变指向\n",
    "//! TOP = &b;\n",
    "\n",
    "// Bottom-level const\n",
    "const int *btm = &a;\n",
    "// 指针指向的值是常量，不能通过这个指针改变a的值\n",
    "//! *btm = 1;\n",
    "// 但是可以直接更改 a\n",
    "a++;\n",
    "\n",
    "// 可以改变指向\n",
    "btm = &b;\n"
   ]
  },
  {
   "cell_type": "code",
   "execution_count": null,
   "metadata": {
    "vscode": {
     "languageId": "cpp"
    }
   },
   "outputs": [],
   "source": [
    "// constexpr与const很相似，只是其值必须在编译时已知或可计算\n",
    "// constexpr变量取代了C语言中的#define宏\n",
    "// 建议将 const 和 constexpr 的功能区分开\n",
    "// 即凡是表达“只读”语义的场景都使用 const，表达“常量”语义的场景都使用 constexp\n",
    "\n",
    "#include <iostream>\n",
    "#include <array>\n",
    "using namespace std;\n",
    "\n",
    "constexpr int sqr1(int arg) {\n",
    "    return arg*arg;\n",
    "}\n",
    "\n",
    "const int sqr2(int arg) {\n",
    "    return arg*arg;\n",
    "}\n",
    "\n",
    "array<int, sqr1(10)> mylist1;    //可以，因为sqr1是constexpr函数\n",
    "array<int, sqr2(10)> mylist1;    //不可以，因为sqr2不是constexpr函数\n"
   ]
  },
  {
   "cell_type": "code",
   "execution_count": null,
   "metadata": {
    "vscode": {
     "languageId": "cpp"
    }
   },
   "outputs": [],
   "source": [
    "#include <iostream>\n",
    "\n",
    "void swap(int &a, int &b) {\n",
    "    int temp = a;\n",
    "    a = b;\n",
    "    b = temp;\n",
    "}\n",
    "\n",
    "\n",
    "int a = 1, b = 2;\n",
    "swap(a, b);\n",
    "std::cout << a << \" \" << b << std::endl;\n"
   ]
  },
  {
   "cell_type": "code",
   "execution_count": null,
   "metadata": {
    "vscode": {
     "languageId": "cpp"
    }
   },
   "outputs": [],
   "source": [
    "// namespace\n",
    "#include <iostream>\n",
    "\n",
    "namespace myspace {\n",
    "    int a = 1;\n",
    "}\n",
    "\n",
    "std::cout << myspace::a << std::endl"
   ]
  },
  {
   "cell_type": "code",
   "execution_count": null,
   "metadata": {
    "vscode": {
     "languageId": "cpp"
    }
   },
   "outputs": [],
   "source": [
    "// Program Errors\n",
    "\n",
    "// compile time error: no type given\n",
    "a = 5;\n",
    "\n",
    "// link time error: no function definition\n",
    "char get_char();\n",
    "char c = get_char();\n",
    "\n",
    "// run time error: file not found\n",
    "auto file = std::ifstream{\"comp6771.txt\"};\n",
    "\n",
    "// logic error: out of bounds memory\n",
    "int arr[4] = {0};\n",
    "arr[4] = 1;\n"
   ]
  },
  {
   "attachments": {},
   "cell_type": "markdown",
   "metadata": {},
   "source": [
    "# Sequential Containers 顺序容器\n",
    "- 将一个有限的对象集组织成一个严格的线性排列。\n",
    "- `std::vector`         动态数组。随机访问，回插，与C语言兼容，首选\n",
    "- `std::array`          固定大小数组\n",
    "- `std::deque`          双端队列，随机访问，前后插入，较慢，不兼容C语言\n",
    "- `std::list`           双向链表，无随机访问，可在任何地方插入\n",
    "- `std::forward_list`   单链表"
   ]
  },
  {
   "attachments": {},
   "cell_type": "markdown",
   "metadata": {},
   "source": [
    "# Associative Containers 关联式容器\n",
    "- 几乎所有的操作都有对数的时间复杂性\n",
    "- 只存储弱严格的有序类型（如数字类型）\n",
    "- 可通过模板参数定制的排序标准。\n",
    "- 可使用哈希版本\n",
    "- `std::set`            存储的item作为key，没有重复\n",
    "- `std::multiset`       允许重复\n",
    "- `std::map[K,V]`       独立的键和值，不允许重复\n",
    "- `std::multimap<K,V>`  允许重复"
   ]
  },
  {
   "attachments": {},
   "cell_type": "markdown",
   "metadata": {},
   "source": [
    "# Container Adaptors 容器适配器\n",
    "- 对于顺序容器，适配器提供了一个限制性的接口\n",
    "- `std::stack`              提供一个堆栈（LIFO)\n",
    "- `std::queue`              提供一个队列 (FIFO)\n",
    "- `std::priority_queue`     提供一个优先级队列（顺序取决于元素的优先级）"
   ]
  },
  {
   "attachments": {},
   "cell_type": "markdown",
   "metadata": {},
   "source": [
    "# 优化\n",
    "- 位运算\n",
    "  - 尽可能的使用位运算来代替常规的乘法、除法、除余运算。\n",
    "  - 优先级: 位运算 -> 自增减运算 -> 加减法运算 -> 乘法运算 -> 除法运算 -> 除余运算\n",
    "  - 例如：\n",
    "    - s = b / 4; 可以替换为 s = b >> 2;\n",
    "    - s = b % 4; 可以替换为 s = b & 3;\n",
    "    - s = b * 3; 可以替换为 s = b << 1 + b;\n",
    "    - s = b / l / w / h; 可以替换为 s = b / (l * w * h);\n",
    "    - s = s + b; 可以代替为 s += b;\n",
    "    - s = s * b; 可以代替为 s *= b;\n",
    "    - s = s / b; 可以代替为 s /= b;\n",
    "\n",
    "- ++前 && 后++\n",
    "  - 尽量使用 ++前  代替 后++\n",
    "\n",
    "- 数据类型\n",
    "  - 能用bool类型的不用char类型，能用char类型的不用short， 能用short的不用int，能用int的不用long。\n",
    "  - 在程序运算中，显而易见的变量范围，应当最小化。\n",
    "\n",
    "- 形参引用\n",
    "   - 调用函数传参的时候，使用引用传参，可以减少不必要的临时对象生成，减少内存消耗\n",
    "   -  如果对形参没有修改,尽可能添加const,以做到兼容更多的参数\n",
    "\n",
    "- 参数最小生命空间\n",
    "  - 用的时候再声明，减少不必要的开销。\n",
    "\n",
    "- 初始化\n",
    "  - 尽可能使用构造初始化，避免使用赋值初始化\n",
    "   ``` c++\n",
    "   std::string str(\"123\"); // good code \n",
    "   std::string str = \"123\";\n",
    "   ```\n",
    "\n",
    "- if 语句\n",
    "  - if 是每一个分支语句都去做一次判断的。这也影响了代码的运行效率\n",
    "  - 如果条件允许的话，使用switch代替if语句\n",
    "  - switch语句中概率较大的情况放在靠前的位置\n",
    "\n",
    "- 变量的声明顺序\n",
    "  - 应从最小的类型开始声明，在某一些编译器里，可以有效的减少内存的占用。因为有些编译器使用的是4字节对齐，以便分界\n",
    "   ``` c++\n",
    "   struct {\n",
    "      bool flag;\n",
    "      bool state;\n",
    "      char name;\n",
    "      int   age;\n",
    "      double sss;\n",
    "   }\n",
    "   ```\n",
    "   \n",
    "- 容器\n",
    "   1. 插入选择 `emplace()` over `insert()`;   可减少复制\n",
    "      1. `emplace()` 会在容器内部直接构造元素，\n",
    "      2. 而 `insert()` 会先构造一个临时元素，然后再拷贝到容器内部\n",
    "      3. 对于原始数据来说，`emplace`和`insert`是一样的，但是对于自定义类型来说，更喜欢`emplace`\n",
    "   2. 下标访问选择 `[]` over `at()`;           更快，但缺少边界检测\n",
    "   3. `Ordered` 红黑树实现；O(log n)\n",
    "      1. 元素数量较小的情况下，例如，小于1000; 更快\n",
    "      2. 因为哈希表需要更多的开销来计算哈希值和处理冲突\n",
    "   4. `Unordered` 哈希表实现；O(1)；\n",
    "      1. 元素数量较大的情况下，例如，大于1000; 更快"
   ]
  },
  {
   "cell_type": "code",
   "execution_count": null,
   "metadata": {
    "vscode": {
     "languageId": "cpp"
    }
   },
   "outputs": [],
   "source": [
    "// member initializer list 例子\n",
    "// 可以避免在初始化一个数据成员时，其值被覆盖\n",
    "// 例如引用类型的数据成员， 如果使用赋值操作符来给引用变量赋值，\n",
    "// 可能会出现一些问题。因为在构造函数体中赋值操作符的调用是在成员变量的初始化之后进行的，\n",
    "// 所以可能会导致引用的生命周期不正确或者引用到一个已经销毁的对象。\n",
    "\n",
    "// 因此，如果涉及到引用变量参数，使用成员初始化列表更好，因为它更高效且更安全，\n",
    "// 可以避免一些潜在的错误。同时，它也更符合现代 C++ 编程风格。\n",
    "#include <iostream>\n",
    "class Student {\n",
    "    public:\n",
    "        Student(int id, std::string name) : id_{id}, name_{name} {}\n",
    "        int id() const { return id_; }\n",
    "        std::string name() const { return name_; }\n",
    "    private:\n",
    "        int id_;\n",
    "        std::string name_;\n",
    "};\n",
    "\n",
    "auto s = Student(1, \"Tom\");\n",
    "std::cout << s.id() << \" \" << s.name() << '\\n';\n"
   ]
  },
  {
   "cell_type": "code",
   "execution_count": null,
   "metadata": {
    "vscode": {
     "languageId": "cpp"
    }
   },
   "outputs": [],
   "source": [
    "// Delegating Constructor 委托构造函数\n",
    "class point2d {\n",
    "    public:\n",
    "        // supplying default values\n",
    "        point2d() : point2d(0, 0) {}\n",
    "        point2d(float x, float y) : x_{x}, y_{y} {}\n",
    "    private:\n",
    "        float x_;\n",
    "        float y_;\n",
    "};"
   ]
  },
  {
   "cell_type": "code",
   "execution_count": null,
   "metadata": {
    "vscode": {
     "languageId": "cpp"
    }
   },
   "outputs": [],
   "source": [
    "// Special Member Functions\n",
    "class foo {\n",
    "    public:\n",
    "        // default constructor\n",
    "        foo();\n",
    "\n",
    "        // destructor\n",
    "        ~foo();\n",
    "\n",
    "        // copy/move constructor\n",
    "        foo(const foo &other);\n",
    "        foo(foo &&other);\n",
    "\n",
    "        // copy/move operators\n",
    "        foo &operator=(const foo &other);\n",
    "        foo &operator(foo &&other);\n",
    "};\n",
    "// does it make sense to have this default member function?\n",
    "// Yes: Does the compile synthesised function make sense?\n",
    "    // • No: write your own definition\n",
    "    // • Yes: write \"<function declaration> = default;\"\n",
    "// No: write \"<function declaration> = delete;\""
   ]
  },
  {
   "cell_type": "code",
   "execution_count": null,
   "metadata": {
    "vscode": {
     "languageId": "cpp"
    }
   },
   "outputs": [],
   "source": [
    "// 打印 iter 类型\n",
    "auto iter = std::ostream_iterator<int>(std::cout, \" \");\n",
    "std::cout << \"iterator_category: \" << typeid(std::iterator_traits<decltype(iter)>::iterator_category).name() << std::endl;"
   ]
  }
 ],
 "metadata": {
  "kernelspec": {
   "display_name": "C++17",
   "language": "C++17",
   "name": "xcpp17"
  },
  "language_info": {
   "codemirror_mode": "text/x-c++src",
   "file_extension": ".cpp",
   "mimetype": "text/x-c++src",
   "name": "C++17",
   "version": "17"
  },
  "orig_nbformat": 4
 },
 "nbformat": 4,
 "nbformat_minor": 2
}
