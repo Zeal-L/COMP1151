{
 "cells": [
  {
   "cell_type": "code",
   "execution_count": null,
   "metadata": {},
   "outputs": [],
   "source": [
    "import matplotlib.pyplot as plt\n",
    "\n",
    "date_list = [[34.51, 22.8], [35.42, 25.2], [34.7, 26.72], [34.56, 31.0], [35.36, 31.04], [33.89, 34.32], [35.06, 36.8], [35.14, 40.84], [33.65, 42.9], [34.87, 46.44], [31.07, 53.68], [34.71, 61.92], [34.58, 69.76], [34.69, 75.06], [34.52, 82.58], [34.47, 87.58], [34.32, 88.16], [32.96, 89.28], [34.23, 90.52], [33.42, 91.08], [33.04, 93.76], [33.65, 95.6], [34.2, 100.08], [32.92, 101.2], [34.06, 103.48], [33.75, 104.2], [34.04, 108.1], [33.99, 108.72], [34.1, 115.64], [32.71, 116.74], [33.81, 119.12], [33.95, 127.86], [33.92, 128.84], [33.74, 138.9], [33.84, 140.64], [33.59, 143.34], [33.79, 149.04], [33.63, 149.54], [33.66, 158.36], [33.49, 170.46], [33.22, 174.66], [33.38, 176.1], [33.35, 179.04], [33.19, 180.42], [35.43, 191.9], [32.94, 192.26], [33.0, 207.9], [33.27, 210.84], [32.79, 211.14], [33.16, 218.44], [33.08, 220.6], [33.14, 221.04], [33.14, 227.06], [33.11, 236.4], [33.09, 240.04], [33.02, 240.22], [32.86, 240.6], [32.85, 241.92], [32.89, 244.34], [35.3, 249.08], [32.91, 250.9], [32.91, 256.66], [32.97, 259.44], [33.0, 265.92], [33.03, 270.3], [32.92, 270.3], [32.97, 270.54], [32.99, 271.5], [32.97, 277.28], [32.92, 278.78], [32.94, 286.5], [32.63, 291.06], [32.88, 292.14], [32.18, 295.08], [32.85, 299.16], [32.82, 308.7], [32.86, 316.3], [32.85, 319.12], [32.89, 326.86], [32.89, 327.2], [32.77, 328.9], [32.68, 332.76], [32.5, 338.66], [32.73, 340.46], [32.76, 340.48], [32.7, 346.16], [32.63, 351.6], [32.72, 359.72], [32.73, 369.16], [32.75, 373.6], [32.65, 382.34], [32.6, 396.0], [32.61, 399.56], [32.19, 399.78], [32.39, 400.06], [32.53, 405.26], [32.68, 406.42], [32.53, 415.2], [32.3, 424.2], [32.55, 432.3], [31.93, 432.46], [32.64, 434.7], [32.24, 436.9], [32.64, 437.2], [32.7, 451.16], [32.66, 451.16], [32.21, 457.2], [32.14, 462.02], [32.78, 462.54], [32.12, 470.28], [32.59, 473.14], [32.17, 474.54], [32.74, 476.82], [32.57, 479.68], [32.11, 482.02], [32.55, 484.18], [32.03, 488.0], [32.32, 488.78], [32.47, 490.3], [32.42, 492.62], [32.41, 494.18], [32.21, 497.98], [32.36, 500.38], [32.49, 503.8], [32.39, 504.62], [32.55, 507.08], [32.08, 518.88], [31.92, 519.02], [32.2, 525.62], [32.14, 545.2], [32.02, 584.18], [32.53, 589.46], [31.93, 600.82], [32.08, 676.72]]\n",
    "\n",
    "# Extracting temperature and distance values from the list\n",
    "temperatures = [item[0] for item in date_list]\n",
    "distances = [item[1] for item in date_list]\n",
    "\n",
    "# Plotting the scatter plot\n",
    "plt.scatter(distances, temperatures)\n",
    "plt.xlabel('Distance (cm)')\n",
    "plt.ylabel('Temperature (C)')\n",
    "plt.title('Temperature vs Distance Scatter Plot')\n",
    "plt.show()\n"
   ]
  },
  {
   "cell_type": "code",
   "execution_count": null,
   "metadata": {},
   "outputs": [],
   "source": [
    "import numpy as np\n",
    "import matplotlib.pyplot as plt\n",
    "\n",
    "# Extracting temperature and distance values from the list\n",
    "temperatures = [item[0] for item in date_list]\n",
    "distances = [item[1] for item in date_list]\n",
    "\n",
    "# Calculate z-scores for temperatures and distances\n",
    "z_temperatures = np.abs((temperatures - np.mean(temperatures)) / np.std(temperatures))\n",
    "z_distances = np.abs((distances - np.mean(distances)) / np.std(distances))\n",
    "\n",
    "# Set a threshold for z-score\n",
    "threshold = 2\n",
    "\n",
    "# Filter out the outliers\n",
    "filtered_temperatures = [temp for i, temp in enumerate(temperatures) if z_temperatures[i] < threshold and z_distances[i] < threshold]\n",
    "filtered_distances = [dist for i, dist in enumerate(distances) if z_temperatures[i] < threshold and z_distances[i] < threshold]\n",
    "\n",
    "# Fit a line to the data\n",
    "fit = np.polyfit(filtered_distances, filtered_temperatures, 2)\n",
    "fit_fn = np.poly1d(fit)\n",
    "\n",
    "# Plotting the scatter plot without outliers and the fitted line\n",
    "plt.scatter(filtered_distances, filtered_temperatures)\n",
    "plt.plot(filtered_distances, fit_fn(filtered_distances), 'r')\n",
    "plt.xlabel('Distance (cm)')\n",
    "plt.ylabel('Temperature (C)')\n",
    "plt.title('Temperature vs Distance Scatter Plot (with fitted line)')\n",
    "plt.show()\n",
    "\n",
    "def standardize_temperature(fit_fn, temperature, distance):\n",
    "    # 计算拟合线的值\n",
    "    fitted_temperature = fit_fn(distance)\n",
    "    # 计算标准温度\n",
    "    return 37.3 + (fitted_temperature - temperature)\n",
    "\n",
    "print(standardize_temperature(fit_fn, 33, 400))\n",
    "print(f\"{fit_fn.coeffs[0]} * x^2 + {fit_fn.coeffs[1]} * x + {fit_fn.coeffs[2]}\")\n"
   ]
  }
 ],
 "metadata": {
  "language_info": {
   "name": "python"
  },
  "orig_nbformat": 4
 },
 "nbformat": 4,
 "nbformat_minor": 2
}
