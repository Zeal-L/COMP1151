{
 "cells": [
  {
   "cell_type": "markdown",
   "metadata": {},
   "source": [
    "<font face=\"黑体\">我是黑体字</font>  \n",
    "<font face=\"微软雅黑\">我是微软雅黑</font>  \n",
    "<font face=\"STCAIYUN\">我是华文彩云</font>  \n",
    "<font color=red>我是红色</font>  \n",
    "<font color=#008000>我是绿色</font>  \n",
    "<font color=Blue>我是蓝色</font>  \n",
    "<font size=5>我是尺寸</font>  \n",
    "<font face=\"黑体\" color=green size=5>我是黑体，绿色，尺寸为5</font> "
   ]
  },
  {
   "cell_type": "markdown",
   "metadata": {},
   "source": [
    "### **基础打印示例**"
   ]
  },
  {
   "cell_type": "code",
   "execution_count": null,
   "metadata": {},
   "outputs": [],
   "source": [
    "print(\"hello world\")\n",
    "name = \"Zeal\"\n",
    "age = 23\n",
    "print(\"My name is {} and I am {} years old.\".format(name, age))\n",
    "print(f\"My name is {name}, and 1 + 1 = {1 + 1}\")\n",
    "print(name, age, age, age, sep = ', ')\n",
    "print(\"Hi~\" * 10)"
   ]
  },
  {
   "cell_type": "markdown",
   "metadata": {},
   "source": [
    "### **用 `enumerate` 迭代一个链表可以同时获取其index和值**\n"
   ]
  },
  {
   "cell_type": "code",
   "execution_count": null,
   "metadata": {},
   "outputs": [],
   "source": [
    "items = ['a', 'b', 'c', 'd']\n",
    "\n",
    "for idx, item in enumerate(items):\n",
    "    print(f\"{idx}: {item}\")"
   ]
  },
  {
   "cell_type": "markdown",
   "metadata": {},
   "source": [
    "### **访问字典的不同方法**"
   ]
  },
  {
   "cell_type": "code",
   "execution_count": null,
   "metadata": {},
   "outputs": [],
   "source": [
    "userData = {\n",
    "    'name'  : 'Sally',\n",
    "    'age'   : 18, \n",
    "    'height': '186cm'\n",
    "}\n",
    "\n",
    "for user in userData.items():\n",
    "    print(user)\n",
    "print(\"====================\")\n",
    "\n",
    "for user in userData.keys():\n",
    "    print(user)\n",
    "\n",
    "print(\"====================\")\n",
    "for user in userData.values():\n",
    "    print(user)"
   ]
  },
  {
   "cell_type": "markdown",
   "metadata": {},
   "source": [
    "### **获取数组的维度**"
   ]
  },
  {
   "cell_type": "code",
   "execution_count": null,
   "metadata": {},
   "outputs": [],
   "source": [
    "import numpy as np\n",
    "\n",
    "a = np.array(42)\n",
    "b = np.array([1, 2, 3, 4, 5])\n",
    "c = np.array([[1, 2, 3], [4, 5, 6]])\n",
    "d = np.array([[[1, 2, 3], [4, 5, 6]], [[1, 2, 3], [4, 5, 6]]])\n",
    "\n",
    "# dimensions\n",
    "print(a.ndim)\n",
    "print(b.ndim)\n",
    "print(c.ndim)\n",
    "print(d.ndim)"
   ]
  },
  {
   "cell_type": "markdown",
   "metadata": {},
   "source": [
    "### **Python 虚拟环境指令**\n",
    "* windows\n",
    "  * python -m virtualenv venv/  \n",
    "  * tree venv\n",
    "  * source venv/Scripts/activate  \n",
    "  * deactivate  \n",
    "\n",
    "* linux\n",
    "  * python -m venv venv/\n",
    "  * . venv/bin/activate\n",
    "  * deactivate\n",
    "\n",
    "\n",
    "### **打包和安装模块包指令** \n",
    "* pip freeze > requirements.txt # Save modules  \n",
    "* pip install -r requirements.txt  \n",
    "\n",
    "### **更新所有包**\n",
    "* pip3 list --outdated\n",
    "* pip3 freeze --local | grep -v '^-e' | cut -d = -f 1  | xargs -n1 pip3 install -U\n",
    "* pip3 list --outdated | sed -n -e '3,$p' | cut -d' ' -f1 | xargs -n1 pip3 install -U\n",
    "\n",
    "### **requirements**\n",
    "* pip freeze > requirements.txt\n",
    "* pip install -r requirements.txt\n"
   ]
  },
  {
   "cell_type": "markdown",
   "metadata": {},
   "source": [
    "### **异常处理示例**"
   ]
  },
  {
   "cell_type": "code",
   "execution_count": null,
   "metadata": {},
   "outputs": [],
   "source": [
    "def _sqrt(x):\n",
    "    if x < 0:\n",
    "        raise Exception(f\"Error, sqrt input {x} < 0\")\n",
    "    return x**0.5\n",
    "\n",
    "if __name__ == '__main__':\n",
    "    print(\"Please enter a number: \",)\n",
    "    while True:\n",
    "        try:\n",
    "            # Juptyer: 直接用int(sys.stdin.readline())和input()会出bug\n",
    "            inputNum = int(input())\n",
    "            print(_sqrt(inputNum))\n",
    "            break\n",
    "        except Exception as e:\n",
    "            print(f\"Error when inputting! {e}. Please try again:\")"
   ]
  },
  {
   "cell_type": "markdown",
   "metadata": {},
   "source": [
    "### **Pytest 示例**"
   ]
  },
  {
   "cell_type": "code",
   "execution_count": null,
   "metadata": {},
   "outputs": [],
   "source": [
    "# Unit tests in IPython notebooks\n",
    "import ipytest\n",
    "ipytest.autoconfig()"
   ]
  },
  {
   "cell_type": "code",
   "execution_count": null,
   "metadata": {},
   "outputs": [],
   "source": [
    "%%ipytest\n",
    "import pytest\n",
    "\n",
    "def sqrt(x):\n",
    "    if x < 0:\n",
    "        raise ValueError(f\"Input {x} is less than 0. Cannot sqrt a number < 0\")\n",
    "    return x**0.5\n",
    "\n",
    "def test_sqrt_ok():\n",
    "    assert sqrt(1) == 1\n",
    "    assert sqrt(4) == 2\n",
    "    assert sqrt(9) == 3\n",
    "    assert sqrt(16) == 4\n",
    "\n",
    "def test_sqrt_bad():\n",
    "    with pytest.raises(Exception):\n",
    "        sqrt(-1)\n",
    "        sqrt(-2)"
   ]
  },
  {
   "cell_type": "code",
   "execution_count": null,
   "metadata": {},
   "outputs": [],
   "source": [
    "%%ipytest\n",
    "from hypothesis import given, strategies, Verbosity, settings\n",
    "\n",
    "def bubblesort(numbers):\n",
    "    numbers = numbers.copy()\n",
    "    for _ in range(len(numbers) - 1):\n",
    "        for i in range(len(numbers) - 1):\n",
    "            if numbers[i] > numbers[i+1]:\n",
    "                numbers[i], numbers[i+1] = numbers[i+1], numbers[i]\n",
    "    return numbers\n",
    "\n",
    "@given(strategies.lists(strategies.integers()))\n",
    "@settings(verbosity=Verbosity.verbose)\n",
    "def test_length(nums):\n",
    "    assert len(bubblesort(nums)) == len(nums)\n",
    "\n",
    "@given(strategies.lists(strategies.integers()))\n",
    "@settings(verbosity=Verbosity.verbose)\n",
    "def test_idempotence(nums):\n",
    "    assert bubblesort(nums) == bubblesort(bubblesort(nums))\n",
    "\n",
    "def is_sorted(nums):\n",
    "    for i in range(len(nums) - 1):\n",
    "        if nums[i] > nums[i+1]:\n",
    "            return False\n",
    "    return True\n",
    "\n",
    "@given(strategies.lists(strategies.integers()))\n",
    "def test_sorted(nums):\n",
    "    assert is_sorted(bubblesort(nums))"
   ]
  },
  {
   "cell_type": "markdown",
   "metadata": {},
   "source": [
    "### **Flask 服务器示例**"
   ]
  },
  {
   "cell_type": "markdown",
   "metadata": {},
   "source": [
    "#### **示例一**"
   ]
  },
  {
   "cell_type": "code",
   "execution_count": null,
   "metadata": {},
   "outputs": [],
   "source": [
    "import threading\n",
    "from json import dumps\n",
    "from urllib.request import urlopen\n",
    "import requests\n",
    "from flask import Flask, request, send_file\n",
    "from IPython.display import Image, display\n",
    "from PIL import Image as PILImage\n",
    "    \n",
    "def connect():\n",
    "    response = requests.get('http://127.0.0.1:1000/')\n",
    "    response_data = response.json()\n",
    "    print(response_data['message'])\n",
    "\n",
    "    # 图像信息\n",
    "    descriptor = urlopen('http://127.0.0.1:1000/cat')\n",
    "    image = PILImage.open(descriptor)\n",
    "    print(image.size)\n",
    "    # 弹出窗口\n",
    "    # image.show()\n",
    "    \n",
    "    # 显示在Jupyter的output\n",
    "    \n",
    "    display(Image(requests.get('http://127.0.0.1:1000/cat').content, width=600, height=600))\n",
    "    \n",
    "    # 终止服务器\n",
    "    print(requests.get('http://127.0.0.1:1000/shutdown').text)\n",
    "\n",
    "\n",
    "APP = Flask(__name__)\n",
    "\n",
    "@APP.route('/', methods=['GET'])\n",
    "def hello_():\n",
    "    return dumps({\"message\" : \"Hello World!\"})\n",
    "\n",
    "@APP.route('/cat', methods=['GET'])\n",
    "def get_cat():\n",
    "    address = \"C:\\\\Users\\\\Zeal\\\\Pictures\\\\图片\\\\壁纸\\\\-klbw3Q5-erocZ1lT3cSxc-xc.jpg\"\n",
    "    return send_file(address, mimetype=\"image/jpg\")\n",
    "\n",
    "def shutdown_server():\n",
    "    func = request.environ.get('werkzeug.server.shutdown')\n",
    "    if func is None:\n",
    "        raise RuntimeError('Not running with the Werkzeug Server')\n",
    "    func()\n",
    "\n",
    "@APP.route('/shutdown', methods=['GET'])\n",
    "def shutdown():\n",
    "    shutdown_server()\n",
    "    return 'Server shutting down...'\n",
    "    \n",
    "if __name__ == '__main__':\n",
    "    # 双线程，一个跑服务器一个跑requests\n",
    "    threading.Timer(1, connect).start()\n",
    "    print('Starting')\n",
    "    APP.run(port=1000) \n",
    "    "
   ]
  },
  {
   "cell_type": "markdown",
   "metadata": {},
   "source": [
    "#### **示例二**"
   ]
  },
  {
   "cell_type": "code",
   "execution_count": null,
   "metadata": {},
   "outputs": [],
   "source": [
    "# heroes\n",
    "from json import dumps\n",
    "from flask import Flask, request\n",
    "\n",
    "APP = Flask(__name__)\n",
    "\n",
    "class Hero:\n",
    "    def __init__(self, id, name, power):\n",
    "        self.id = id\n",
    "        self.name = name\n",
    "        self.power = power\n",
    "\n",
    "heroes = []\n",
    "\n",
    "@APP.route('/heroes', methods=['GET'])\n",
    "def get_all_heroes():\n",
    "    return dumps([hero.__dict__ for hero in heroes])\n",
    "\n",
    "@APP.route('/heroes/<id>', methods=['GET'])\n",
    "def get_hero_by_id(id):\n",
    "    requested_id = int(id)\n",
    "    for hero in heroes:\n",
    "        if hero.id == requested_id:\n",
    "            return dumps(hero.__dict__)\n",
    "    return dumps({})\n",
    "\n",
    "@APP.route('/heroes/<id>', methods=['DELETE'])\n",
    "def delete_hero_by_id(id):\n",
    "    requested_id = int(id)\n",
    "    for hero in heroes:\n",
    "        if hero.id == requested_id:\n",
    "            removed_hero = hero\n",
    "            heroes.remove(hero)\n",
    "            return dumps(removed_hero.__dict__)\n",
    "    return dumps({})\n",
    "\n",
    "@APP.route('/heroes', methods=['POST'])\n",
    "def post_new_hero():\n",
    "    request_data = request.get_json()\n",
    "    new_hero = Hero(len(heroes), request_data['name'], request_data['power'])\n",
    "    heroes.append(new_hero)\n",
    "    return dumps(new_hero.__dict__)\n",
    "\n",
    "if __name__ == '__main__':\n",
    "    heroes.append(Hero(0, \"Superman\", \"Super Strength\"))\n",
    "    heroes.append(Hero(1, \"Wonder Woman\", \"Super Strength\"))\n",
    "    heroes.append(Hero(2, \"Zeal\", \"Super Super Strength\"))\n",
    "    APP.run(port=2000)"
   ]
  },
  {
   "cell_type": "markdown",
   "metadata": {},
   "source": [
    "### **Decorator 示例**"
   ]
  },
  {
   "cell_type": "code",
   "execution_count": null,
   "metadata": {},
   "outputs": [],
   "source": [
    "def make_uppercase(fn):\n",
    "\tdef wrapper(*args, **kwargs):\n",
    "\t\treturn fn(*args, **kwargs).upper()\n",
    "\treturn wrapper\n",
    "\n",
    "@make_uppercase\n",
    "def get_name():\n",
    "\treturn \"Zeal Liang\"\n",
    "\n",
    "if __name__ == '__main__':\n",
    "    print(get_name())"
   ]
  },
  {
   "cell_type": "code",
   "execution_count": null,
   "metadata": {},
   "outputs": [],
   "source": [
    "class Message:\n",
    "    def __init__(self, id, text):\n",
    "        self.id = id\n",
    "        self.text = text\n",
    "\n",
    "messages = [\n",
    "    Message(1, \"Hello\"),\n",
    "    Message(2, \"How are you?\"),\n",
    "]\n",
    "\n",
    "def get_message_by_id(id):\n",
    "    # 因为这个列表里只会匹配到一个元素，所以末尾是[0]\n",
    "    return [m for m in messages if m.id == id][0]\n",
    "\n",
    "def message_id_to_obj(function):\n",
    "    def wrapper(*args, **kwargs):\n",
    "        # “*args”是一个tuple，所以需要[index]来访问\n",
    "        argsList = list(args)\n",
    "        argsList[0] = get_message_by_id(argsList[0])\n",
    "        args = argsList\n",
    "        return function(*args, **kwargs)\n",
    "    return wrapper\n",
    "\n",
    "@message_id_to_obj\n",
    "def printMessage(message):\n",
    "    print(message.text)\n",
    "\n",
    "if __name__ == '__main__':\n",
    "    printMessage(1)\n",
    "    printMessage(2)"
   ]
  },
  {
   "cell_type": "markdown",
   "metadata": {},
   "source": [
    "### **Threading 示例**"
   ]
  },
  {
   "cell_type": "code",
   "execution_count": null,
   "metadata": {},
   "outputs": [],
   "source": [
    "import threading\n",
    "from time import sleep\n",
    "def hello():\n",
    "    print(\"hello, Timer\")\n",
    "\n",
    "if __name__ == '__main__':\n",
    "    t = threading.Timer(2.0, hello)\n",
    "    t.start()\n",
    "    print('Starting')\n",
    "    print(1)\n",
    "    sleep(1)\n",
    "    print(2)"
   ]
  },
  {
   "cell_type": "markdown",
   "metadata": {},
   "source": [
    "### **OOP and Class 示例**"
   ]
  },
  {
   "cell_type": "code",
   "execution_count": null,
   "metadata": {},
   "outputs": [],
   "source": [
    "class Animal:\n",
    "    def __init__(self, name, age):\n",
    "        self.name = name\n",
    "        self.age = age\n",
    "\n",
    "    def cry(self):\n",
    "        print(f\"The animal named {self.name} is crying\")\n",
    "\n",
    "class Dog(Animal):\n",
    "    def __init__(self, name, age, dog_breed):\n",
    "        Animal.__init__(self, name, age)\n",
    "        self.breed = dog_breed\n",
    "\n",
    "    def cry(self):\n",
    "        Animal.cry(self)\n",
    "        print(\"Woof!\")\n",
    "\n",
    "animal = Animal(\"Cat\", 2)\n",
    "animal.cry()\n",
    "\n",
    "dog = Dog(\"Dog\", 3, \"zzz\")\n",
    "dog.cry()"
   ]
  },
  {
   "cell_type": "markdown",
   "metadata": {},
   "source": [
    "### **Progress bar 示例**"
   ]
  },
  {
   "cell_type": "code",
   "execution_count": 1,
   "metadata": {},
   "outputs": [
    {
     "name": "stderr",
     "output_type": "stream",
     "text": [
      "100%|██████████| 1000/1000 [00:15<00:00, 64.34it/s]\n",
      "100%|█████████▉| 499/500 [00:07<00:00, 64.15it/s]"
     ]
    },
    {
     "name": "stdout",
     "output_type": "stream",
     "text": [
      "1220136825991110068701238785423046926253574342803192842192413588385845373153881997605496447502203281863013616477148203584163378722078177200480785205159329285477907571939330603772960859086270429174547882424912726344305670173270769461062802310452644218878789465754777149863494367781037644274033827365397471386477878495438489595537537990423241061271326984327745715546309977202781014561081188373709531016356324432987029563896628911658974769572087926928871281780070265174507768410719624390394322536422605234945850129918571501248706961568141625359056693423813008856249246891564126775654481886506593847951775360894005745238940335798476363944905313062323749066445048824665075946735862074637925184200459369692981022263971952597190945217823331756934581508552332820762820023402626907898342451712006207714640979456116127629145951237229913340169552363850942885592018727433795173014586357570828355780158735432768888680120399882384702151467605445407663535984174430480128938313896881639487469658817504506926365338175055478128640000000000000000000000000000000000000000000000000000000000000000000000000000000000000000000000000000000000000000000000000000\n"
     ]
    },
    {
     "name": "stderr",
     "output_type": "stream",
     "text": [
      "100%|██████████| 500/500 [00:07<00:00, 64.28it/s]\n",
      "Now get s: 100%|██████████| 7/7 [00:07<00:00,  1.01s/it]\n"
     ]
    }
   ],
   "source": [
    "from tqdm import tqdm\n",
    "from time import sleep\n",
    "\n",
    "for _ in tqdm(range(1000)):\n",
    "    sleep(0.01)\n",
    "\n",
    "\n",
    "def factorial(n, bar):\n",
    "    bar.update(1)\n",
    "    sleep(0.01)  # slow-down things a little bit\n",
    "    if n == 1:\n",
    "        return 1\n",
    "    else:\n",
    "        return n * factorial(n-1, bar)\n",
    "\n",
    "n = 500\n",
    "bar = tqdm(total=n)\n",
    "print(factorial(n, bar=bar))\n",
    "\n",
    "\n",
    "a = list('letters')\n",
    "bar = tqdm(a)\n",
    "for letter in bar:\n",
    "    sleep(1)\n",
    "    bar.set_description(f\"Now get {letter}\")\n"
   ]
  },
  {
   "cell_type": "markdown",
   "metadata": {},
   "source": [
    "### **首字母缩写小程序**"
   ]
  },
  {
   "cell_type": "code",
   "execution_count": null,
   "metadata": {},
   "outputs": [],
   "source": [
    "\n",
    "def acronym(input):\n",
    "    return \"It's acronym is \" + ''.join([x[0] if x[0].isupper() else '' for x in input.split(' ')]) + '.'\n",
    "\n",
    "print(acronym(\"People's Republic of China\"))\n",
    "print(acronym(\"University of New South Wales\"))\n"
   ]
  },
  {
   "cell_type": "markdown",
   "metadata": {},
   "source": [
    "### **生成器和迭代器示例**"
   ]
  },
  {
   "cell_type": "code",
   "execution_count": null,
   "metadata": {},
   "outputs": [],
   "source": [
    "def shopping_list():\n",
    "    yield 'apple'\n",
    "    yield 'orange'\n",
    "    yield 'banana'\n",
    "    yield 'pineapple'\n",
    "g = shopping_list()\n",
    "print(next(g))\n",
    "print(next(g))\n",
    "for item in g:\n",
    "    print(item)\n",
    "\n",
    "def squares():\n",
    "    i = 0\n",
    "    while True:\n",
    "        i += 1\n",
    "        yield i * i\n",
    "s = squares()\n",
    "for i in s:\n",
    "    if i > 100:\n",
    "        break\n",
    "    print(i, end=' ')"
   ]
  },
  {
   "cell_type": "markdown",
   "metadata": {},
   "source": [
    "### **McCabe code complexity checker** "
   ]
  },
  {
   "cell_type": "code",
   "execution_count": null,
   "metadata": {},
   "outputs": [],
   "source": [
    "def foo():\n",
    "    i = 0\n",
    "    while i <= 9:\n",
    "        if i % 3 == 0:\n",
    "            print(i*2)\n",
    "        else:\n",
    "            print(i*3)\n",
    "        i += 1\n",
    "    print(\"done\")\n",
    "    \n",
    "\n",
    "# pylint a.py --load-plugins=pylint.extensions.mccabe --max-complexity=0\n",
    "\n",
    "from pylint.extensions import mccabe\n",
    "mccabe.checkers.initialize(foo())"
   ]
  },
  {
   "cell_type": "markdown",
   "metadata": {},
   "source": [
    "`py3 -m cProfile -s tottime <Program>`\n",
    "`python -m cProfile -o request.prof <Program>`\n",
    "`pr.dump_stats(\"pipeline.prof\")`\n",
    "`flameprof <FullPath/pipeline.prof> > pipeline.svg`"
   ]
  }
 ],
 "metadata": {
  "kernelspec": {
   "display_name": "Python 3.9.6 64-bit",
   "language": "python",
   "name": "python3"
  },
  "language_info": {
   "codemirror_mode": {
    "name": "ipython",
    "version": 3
   },
   "file_extension": ".py",
   "mimetype": "text/x-python",
   "name": "python",
   "nbconvert_exporter": "python",
   "pygments_lexer": "ipython3",
   "version": "3.9.6"
  },
  "orig_nbformat": 4,
  "vscode": {
   "interpreter": {
    "hash": "8b40f805f061d321c04a8102d8acec11bee1c272ceac9cdfac525cc428e3c005"
   }
  }
 },
 "nbformat": 4,
 "nbformat_minor": 2
}
