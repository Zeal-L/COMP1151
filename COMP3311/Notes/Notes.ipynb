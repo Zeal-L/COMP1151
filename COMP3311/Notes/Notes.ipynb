{
 "cells": [
  {
   "cell_type": "markdown",
   "metadata": {},
   "source": [
    "\n",
    "## **ER Notation**\n",
    "### **ER design elements:**\n",
    "<img src=\"http://www.cse.unsw.edu.au/~cs3311/21T3/lectures/exercises/Pics/er-rel/er-symbols.png\" width=\"60%\">\n",
    "\n",
    "\n"
   ]
  },
  {
   "cell_type": "markdown",
   "metadata": {},
   "source": [
    "\n",
    "### **Relationships:**\n",
    "<img src=\"http://www.cse.unsw.edu.au/~cs3311/21T3/lectures/exercises/Pics/er-rel/cardinal.png\" width=\"60%\">\n",
    "\n",
    "#### **N:M Relationships:**\n",
    "<img src=\"http://www.cse.unsw.edu.au/~cs3311/21T3/lectures/exercises/Pics/er-rel/relNM.png\" width=\"60%\">\n",
    "\n",
    "#### **1:N Relationships**\n",
    "<img src=\"http://www.cse.unsw.edu.au/~cs3311/21T3/lectures/exercises/Pics/er-rel/rel1N.png\" width=\"60%\">\n",
    "\n",
    "#### **1:1 Relationships**\n",
    "<img src=\"http://www.cse.unsw.edu.au/~cs3311/21T3/lectures/exercises/Pics/er-rel/rel11.png\" width=\"60%\">\n",
    "\n"
   ]
  },
  {
   "cell_type": "markdown",
   "metadata": {},
   "source": [
    "## **继承**\n",
    "<img src=\"https://cgi.cse.unsw.edu.au/~cs3311/21T3/lectures/er-model/Pics/er-rel/inherit.png\" width=\"60%\" style=\"background-color:white;\">"
   ]
  },
  {
   "cell_type": "markdown",
   "metadata": {},
   "source": [
    "## **Types/Constants in SQL**"
   ]
  },
  {
   "cell_type": "code",
   "execution_count": null,
   "metadata": {},
   "outputs": [],
   "source": [
    "create table notes (\n",
    "    整数类型 integer, -- 4字节\n",
    "    整数类型 REAL,    -- 4字节\t可变精度，不精确, 6 位十进制数字精度\n",
    "    任意精度类型 NUMERIC, -- NUMERIC(precision, scale) precision，总精度，可以存储的总位数 \n",
    "                                                    -- scale，小数点后的位数\n",
    "    字符类型 varchar,   -- varchar(n)， 有长度限制的字符串\n",
    "    字符类型 char,      -- char(n)，定长字符串，长度不足则向后填充空白字符\n",
    "    title text,        -- 不限长度\n",
    "    -- Time-related types: DATE, TIME, TIMESTAMP, INTERVAL\n",
    "    -- '2008-04-13'  '13:30:15'  '2004-10-19 10:23:54'\n",
    "    -- 'Wed Dec 17 07:37:16 1997 PST'\n",
    "    -- '10 minutes'  '5 days, 6 hours, 15 seconds'\n",
    "    constraint PayOk check (salary > age*1000)\n",
    "\n",
    ");\n",
    "-- positive integers\n",
    "CREATE DOMAIN PosInt AS integer CHECK (value > 0);\n",
    "\n",
    "-- a UNSW course code\n",
    "CREATE DOMAIN CourseCode AS char(8)\n",
    "    CHECK (value ~ '[A-Z]{4}[0-9]{4}');\n",
    "\n",
    "-- a UNSW student/staff ID\n",
    "CREATE DOMAIN ZID AS integer\n",
    "    CHECK (value betweem 1000000 and 9999999);\n",
    "\n",
    "-- standard UNSW grades (FL,PS,CR,DN,HD)\n",
    "CREATE DOMAIN Grade AS char(2)\n",
    "    CHECK (value in ('FL','PS','CR','DN','HD'));\n",
    "-- or\n",
    "CREATE TYPE Grade AS ENUM ('FL','PS','CR','DN','HD');\n",
    "\n",
    "select * from People where name like 'John%'; --John开头\n",
    "select * from People where name like '%John'; --John结尾\n",
    "select * from People where name like '_o%'; --第二个字母是o\n",
    "select * from People where name like '%o%o%'; --有两个o\n",
    "select * from People where name ilike 'john'; --无视大小写\n",
    "\n",
    "-- name ~ '^Ja'\t\tname begins with 'Ja'\n",
    "-- name ~ '^.i'\t\tname has 'i' as 2nd letter\n",
    "-- name ~ '.*o.*o.*'\tname contains two 'o's\n",
    "-- name ~ 'ith$'\t\tname ends with 'ith'\n",
    "-- name ~ 'John'\t\tname contains 'John'\n"
   ]
  },
  {
   "cell_type": "markdown",
   "metadata": {},
   "source": [
    "## **SQL Expressions**"
   ]
  },
  {
   "cell_type": "code",
   "execution_count": null,
   "metadata": {},
   "outputs": [],
   "source": [
    "‘+ - * / abs ceil floor power sqrt sin’  \n",
    "count(属性)  -- attr列中 的行数  \n",
    "sum(属性)  -- attr值的总和  \n",
    "avg(属性)  -- attr值的平均值  \n",
    "min/max(属性)  -- attr值的最小值/最大值  \n",
    "\n",
    "coalesce(值1,值2,... val n)  \n",
    "-- 返回第一个非空值val i  \n",
    "-- 用于为空值提供“可显示”值  \n",
    "例如 select coalesce(mark,'??') from Marks ...  \n",
    "\n",
    "nullif(值1,值2)\n",
    "\n",
    "-- return NULL如果val 1等于val 2\n",
    "-- 可用于实现“逆” coalesce\n",
    "例如 nullif(mark,'??')\n",
    "\n",
    "-- 字符串匹配\n",
    "insert into Stuff(x,y,s) values (2,4,'green');\n",
    "DELETE FROM Likes WHERE drinker = 'Justin' AND beer = 'Sparkling Ale';\n",
    "UPDATE Drinkers SET addr = 'Coogee', phone = '9665-4321' WHERE  name = 'John';\n",
    "-- Updates all tuples\n",
    "UPDATE Sells SET price = 6.00 WHERE  price > 6.00;\n",
    "UPDATE Sells SET price = price * 1.10;"
   ]
  },
  {
   "cell_type": "markdown",
   "metadata": {},
   "source": [
    "## **SQL Queries**"
   ]
  },
  {
   "cell_type": "code",
   "execution_count": null,
   "metadata": {},
   "outputs": [],
   "source": [
    "-- SELECT\n",
    "SELECT [ ALL | DISTINCT [ ON ( expression [, ...] ) ] ]\n",
    "    [ * | expression [ [ AS ] output_name ] [, ...] ]\n",
    "    [ FROM from_item [, ...] ]\n",
    "    [ { JOIN | LEFT OUTER JOIN | RIGHT OUTER JOIN | FULL OUTER JOIN} join_item on condition ]\n",
    "    [ WHERE condition ]\n",
    "    [ GROUP BY grouping_element [, ...] ]\n",
    "    [ HAVING condition ]\n",
    "    [ { UNION | INTERSECT | EXCEPT } [ ALL | DISTINCT ] select ]\n",
    "    [ ORDER BY expression [ ASC | DESC | USING operator ] [ NULLS { FIRST | LAST } ] [, ...] ]\n",
    "    [ LIMIT { count | ALL } ]\n",
    "    [ OFFSET start [ ROW | ROWS ] ]"
   ]
  },
  {
   "cell_type": "code",
   "execution_count": null,
   "metadata": {},
   "outputs": [],
   "source": [
    "-- The IN Operator\n",
    "SELECT name, brewer\n",
    "FROM   Beers\n",
    "WHERE  name IN\n",
    "        (SELECT beer\n",
    "        FROM   Likes\n",
    "        WHERE  drinker = 'John');\n",
    "\n",
    "-- The EXISTS Operator\n",
    "SELECT name, brewer\n",
    "FROM   Beers b1\n",
    "WHERE  NOT EXISTS\n",
    "        (SELECT *\n",
    "        FROM   Beers b2\n",
    "        WHERE  b2.brewer = b1.brewer AND b2.name <> b1.name);\n",
    "\n",
    "-- Quantifiers ANY and ALL\n",
    "SELECT beer\n",
    "FROM   Sells\n",
    "WHERE  price >= ALL(SELECT price FROM sells);\n",
    "\n",
    "-- Partitions\n",
    "-- Example: show each city with daily temperature and temperature range\n",
    "-- Schema: Weather(city,date,temperature)\n",
    "SELECT city, date, temperature\n",
    "        min(temperature) OVER (PARTITION BY city) as lowest,\n",
    "        max(temperature) OVER (PARTITION BY city) as highest\n",
    "FROM   Weather;\n",
    "-- Output: Result(city, date, temperature, lowest, highest)"
   ]
  },
  {
   "cell_type": "code",
   "execution_count": null,
   "metadata": {},
   "outputs": [],
   "source": [
    "-- WITH- 子句抽象子查询\n",
    "-- 使用定义复杂查询 WITH:\n",
    "WITH CourseMarksWithAvg AS \n",
    "    (SELECT course, student, mark, \n",
    "            avg(mark) OVER (PARTITION BY course) \n",
    "    FROM Enrolments) \n",
    "SELECT course, student, mark, avg \n",
    "FROM CourseMarksWithAvg \n",
    "WHERE mark < avg;\n",
    "-- 避免定义视图的需要。\n",
    "WITH   Name1(a,b,c) AS (Query1),\n",
    "        Name2 AS (Query2), ...\n",
    "SELECT attributes\n",
    "FROM   Name1, Name2, ...\n",
    "WHERE  conditions on attributes of Name1 and Name2"
   ]
  },
  {
   "cell_type": "code",
   "execution_count": null,
   "metadata": {},
   "outputs": [],
   "source": [
    "-- Recursive Queries\n",
    "-- 示例：计算给定零件中所有子零件的数量。\n",
    "-- 架构：零件（零件，子零件，数量）\n",
    "WITH RECURSIVE IncludedParts(sub_part, part,quantity) AS ( \n",
    "    SELECT sub_part, part,quantity \n",
    "    FROM Parts WHERE part = GivenPart \n",
    "    UNION ALL \n",
    "    SELECT p.sub_part, p.part, p.quantity \n",
    "    FROM IncludedParts i, Parts p \n",
    "    WHERE p.part = i .sub_part \n",
    ") \n",
    "SELECT sub_part, SUM(quantity) as total_quantity \n",
    "FROM IncludedParts \n",
    "GROUP BY sub_part\n",
    "-- 包括子零件、子子零件、子子子零件等。"
   ]
  },
  {
   "cell_type": "markdown",
   "metadata": {},
   "source": [
    "## **SQL Views**"
   ]
  },
  {
   "cell_type": "code",
   "execution_count": null,
   "metadata": {},
   "outputs": [],
   "source": [
    "-- VIEW\n",
    "CREATE VIEW\n",
    "    CourseMarksAndAverages(course,term,student,mark,avg)\n",
    "AS\n",
    "SELECT s.code, termName(t.id), e.student, e.mark,\n",
    "    avg(mark) OVER (PARTITION BY course)\n",
    "FROM   CourseEnrolments e\n",
    "    JOIN Courses c on c.id = e.course\n",
    "    JOIN Subjects s on s.id = c.subject\n",
    "    JOIN Terms t on t.id = c.term;"
   ]
  },
  {
   "cell_type": "markdown",
   "metadata": {},
   "source": [
    "## **SQL Functions**"
   ]
  },
  {
   "cell_type": "code",
   "execution_count": null,
   "metadata": {},
   "outputs": [],
   "source": [
    "-- Within the function, arguments are accessed as $1, $2, ...\n",
    "CREATE OR REPLACE\n",
    "    funcName(arg1type, arg2type, ....)\n",
    "    RETURNS setof rettype\n",
    "AS $$\n",
    "DECLARE\n",
    "    result integer;\n",
    "    tup record;\n",
    "BEGIN\n",
    "    select balance into result\n",
    "    from   Accounts\n",
    "    where  acctNo = acctNum;\n",
    "\n",
    "    if (not found) then    \n",
    "        result := 1;  \n",
    "    elsif (condition) then\n",
    "        result := 2;\n",
    "    else\n",
    "        result := 3;\n",
    "    end if;\n",
    "\n",
    "    -- 调试输出\n",
    "    raise notice 'x+1 = %, y = %, z = %' , x+1, y, z;\n",
    "\n",
    "    -- 循环\n",
    "    for i in 1..n loop\n",
    "        result := result * i;\n",
    "    end loop;\n",
    "\n",
    "    FOR tup IN Query \n",
    "    LOOP \n",
    "        Statements;\n",
    "        return next tup;\n",
    "    end loop;\n",
    "\n",
    "    return result;\n",
    "\n",
    "exception\n",
    "    when division_by_zero then\n",
    "        raise notice 'caught division_by_zero';\n",
    "        return result;\n",
    "    when floating_point_exception then\n",
    "        raise notice 'caught floating_point_exception';\n",
    "        return result;\n",
    "END;\n",
    "$$ LANGUAGE plpgsql;"
   ]
  },
  {
   "cell_type": "markdown",
   "metadata": {},
   "source": [
    "## **Aggregates**"
   ]
  },
  {
   "cell_type": "code",
   "execution_count": null,
   "metadata": {},
   "outputs": [],
   "source": [
    "-- Aggregates reduce a collection of values into a single result.\n",
    "CREATE AGGREGATE AggName(BaseType) (\n",
    "    sfunc     = UpdateStateFunction,\n",
    "    stype     = StateType,\n",
    "    initcond  = InitialValue,\n",
    "    finalfunc = MakeFinalFunction,\n",
    "    sortop    = OrderingOperator\n",
    ");\n",
    "-- initcond（类型StateType）是可选的；默认为NULL\n",
    "-- finalfunc是可选的；默认为身份函数\n",
    "-- sortop是可选的；最小/最大类型聚合需要\n",
    "\n",
    "select string_agg(x,'+') from R;"
   ]
  },
  {
   "cell_type": "code",
   "execution_count": null,
   "metadata": {},
   "outputs": [],
   "source": [
    "-- Example: defining the count aggregate (roughly)\n",
    "create aggregate myCount(anyelement) (\n",
    "    stype    = int,    -- the accumulator type\n",
    "    initcond = 0,      -- initial accumulator value\n",
    "    sfunc    = oneMore -- increment function\n",
    ");\n",
    "\n",
    "create function\n",
    "    oneMore(sum int, x anyelement) returns int\n",
    "as $$\n",
    "begin return sum + 1; end;\n",
    "$$ language plpgsql;"
   ]
  },
  {
   "cell_type": "code",
   "execution_count": null,
   "metadata": {},
   "outputs": [],
   "source": [
    "-- Example: product aggregate\n",
    "create function\n",
    "    mult(soFar numeric, next numeric) returns numeric\n",
    "as $$\n",
    "begin return soFar * next; end;\n",
    "$$ language plpgsql;\n",
    "\n",
    "create aggregate prod(numeric) (\n",
    "    stype    = numeric,\n",
    "    initcond = 1,\n",
    "    sfunc    = mult\n",
    ");"
   ]
  },
  {
   "cell_type": "markdown",
   "metadata": {},
   "source": [
    "## **Assertions (不支持)**"
   ]
  },
  {
   "cell_type": "code",
   "execution_count": null,
   "metadata": {},
   "outputs": [],
   "source": [
    "-- Example: #students in any UNSW course must be < 10000\n",
    "create assertion ClassSizeConstraint check (\n",
    "    not exists (\n",
    "        select c.id\n",
    "        from   Courses c\n",
    "        join Enrolments e on (c.id = e.course)\n",
    "        group  by c.id\n",
    "        having count(e.student) > 9999\n",
    "    )\n",
    ");"
   ]
  },
  {
   "cell_type": "code",
   "execution_count": null,
   "metadata": {},
   "outputs": [],
   "source": [
    "-- Example: assets of branch = sum of its account balances\n",
    "create assertion AssetsCheck check (\n",
    "    not exists (\n",
    "        select branchName from Branches b\n",
    "        where  b.assets <>\n",
    "            (select sum(a.balance) from Accounts a\n",
    "            where a.branch = b.location)\n",
    "    )\n",
    ");"
   ]
  },
  {
   "cell_type": "markdown",
   "metadata": {},
   "source": [
    "## **Triggers**"
   ]
  },
  {
   "cell_type": "markdown",
   "metadata": {},
   "source": [
    "<img src=\"https://cgi.cse.unsw.edu.au/~cs3311/21T3/lectures/triggers/Pics/dbms/trigger-seq.png\" width=\"60%\">"
   ]
  },
  {
   "cell_type": "code",
   "execution_count": null,
   "metadata": {},
   "outputs": [],
   "source": [
    "CREATE TRIGGER TriggerName\n",
    "{AFTER|BEFORE}  Event1 [ OR Event2 ... ] -- Possible Events are INSERT, DELETE, UPDATE\n",
    "ON TableName\n",
    "[ WHEN ( Condition ) ]\n",
    "FOR EACH {ROW|STATEMENT}\n",
    "EXECUTE PROCEDURE FunctionName(args...);\n",
    "\n",
    "-- However a BEFORE function must contain one of:\n",
    "RETURN old;    or    RETURN new;"
   ]
  },
  {
   "cell_type": "markdown",
   "metadata": {},
   "source": [
    "### **Examples**"
   ]
  },
  {
   "cell_type": "code",
   "execution_count": null,
   "metadata": {},
   "outputs": [],
   "source": [
    "-- Case 1: new employees arrive\n",
    "create trigger TotalSalary1\n",
    "after insert on Employees\n",
    "for each row execute procedure totalSalary1();\n",
    "\n",
    "create function totalSalary1() returns trigger\n",
    "as $$\n",
    "begin\n",
    "    if (new.dept is not null) then\n",
    "        update Department\n",
    "        set    totSal = totSal + new.salary\n",
    "        where  Department.id = new.dept;\n",
    "    end if;\n",
    "    return new;\n",
    "end;\n",
    "$$ language plpgsql;"
   ]
  },
  {
   "cell_type": "code",
   "execution_count": null,
   "metadata": {},
   "outputs": [],
   "source": [
    "-- Case 2: employees change departments/salaries\n",
    "create trigger TotalSalary2\n",
    "after update on Employee\n",
    "for each row execute procedure totalSalary2();\n",
    "\n",
    "create function totalSalary2() returns trigger\n",
    "as $$\n",
    "begin\n",
    "    update Department\n",
    "    set    totSal = totSal + new.salary\n",
    "    where  Department.id = new.dept;\n",
    "    update Department\n",
    "    set    totSal = totSal - old.salary\n",
    "    where  Department.id = old.dept;\n",
    "    return new;\n",
    "end;\n",
    "$$ language plpgsql;"
   ]
  },
  {
   "cell_type": "code",
   "execution_count": null,
   "metadata": {},
   "outputs": [],
   "source": [
    "-- Case 3: employees leave\n",
    "create trigger TotalSalary3\n",
    "after delete on Employee\n",
    "for each row execute procedure totalSalary3();\n",
    "\n",
    "create function totalSalary3() returns trigger\n",
    "as $$\n",
    "begin\n",
    "    if (old.dept is not null) then\n",
    "        update Department\n",
    "        set    totSal = totSal - old.salary\n",
    "        where  Department.id = old.dept;\n",
    "    end if;\n",
    "    return old;\n",
    "end;\n",
    "$$ language plpgsql;"
   ]
  },
  {
   "cell_type": "markdown",
   "metadata": {},
   "source": [
    "## **psycopg2 示例**"
   ]
  },
  {
   "cell_type": "code",
   "execution_count": null,
   "metadata": {},
   "outputs": [],
   "source": [
    "import psycopg2\n",
    "# dbname ... 数据库名称\n",
    "# user... 用户名（用于身份验证）\n",
    "# password... 用户密码（用于身份验证）\n",
    "# host...服务器在哪里运行（默认=本地主机）\n",
    "# port...服务器正在侦听哪个端口（默认值 = 5432）\n",
    "try:\n",
    "    db = psycopg2.connect(\"dbname = ass1\")\n",
    "    cur = db.cursor()\n",
    "    cur.execute(\"select name from Beers limit 5\")\n",
    "    for tup in cur.fetchall():  # cur.fetchone(), cur.fetchmany(3)\n",
    "        x = tup[0]\n",
    "        print(x)\n",
    "        \n",
    "except Exception as e:\n",
    "    print(\"Unable to connect to the database\\n\", e)\n",
    "\n",
    "else:\n",
    "    cur.close()\n",
    "    db.close()"
   ]
  },
  {
   "cell_type": "markdown",
   "metadata": {},
   "source": [
    "## **Normal Forms**"
   ]
  },
  {
   "cell_type": "markdown",
   "metadata": {},
   "source": [
    "First,Second,Third Normal Forms (1NF,2NF,3NF) (Codd 1972)  \n",
    "Boyce-Codd Normal Form (BCNF) (1974)  \n",
    "Fourth Normal Form (4NF) (Zaniolo 1976, Fagin 1977)  \n",
    "Fifth Normal Form (5NF) (Fagin 1979)  \n",
    "我们说“架构在 xNF 中”，这...  \n",
    "\n",
    "告诉我们一些关于模式中冗余级别的信息  \n",
    "1NF 允许大部分冗余；5NF 允许最少的冗余。  \n",
    "\n",
    "对于大多数实际用途，BCNF（或 3NF）是可接受的 NF。  \n",
    "在实践中，BCNF 和 3NF 是最重要的。  \n",
    "\n",
    "博伊斯-科德范式 (BCNF)：  \n",
    "\n",
    "消除了由于功能依赖性导致的所有冗余, 没有更新异常  \n",
    "但可能不会保留原始的功能依赖  \n",
    "\n",
    "第三范式（3NF）：  \n",
    "由于fd s 消除了大部分（但不是全部）冗余  \n",
    "保证保留所有功能依赖  "
   ]
  },
  {
   "cell_type": "markdown",
   "metadata": {},
   "source": [
    "## **Relational Algebra**\n",
    "\n",
    "\n",
    "Core relational algebra operations:  \n",
    "\n",
    "rename: 更改关系/属性的名称  \n",
    "selection: 选择元组/行的子集  \n",
    "projection: 选择属性/列的子集  \n",
    "union, intersection, difference: 组合关系  \n",
    "product, join: 组合关系  \n",
    "\n",
    "<img src=\"QQ截图20211130121241.png\" width=\"60%\">"
   ]
  },
  {
   "cell_type": "code",
   "execution_count": null,
   "metadata": {},
   "outputs": [],
   "source": [
    "-- Beers made by Sierra Nevada\n",
    "SNBeers = Sel[manf=Sierra Nevada](Beers)\n",
    "Result  = Rename[beer](Proj[name](SNBeers)\n",
    "-- Names of all beers\n",
    "Result = Proj[name](Beers)\n",
    "-- Names of drinkers who live in Newtown\n",
    "Result = Proj[name](Sel[addr=Newtown](Drinkers))\n",
    "-- What are all of the breweries?\n",
    "Result(brewer) = Proj[manf](Beers)"
   ]
  },
  {
   "cell_type": "markdown",
   "metadata": {},
   "source": [
    "### **Union and Intersect**\n",
    "<img src=\"https://cgi.cse.unsw.edu.au/~cs3311/21T3/lectures/ra-set-ops/Pics/relalg/setops.png\" width=\"60%\">"
   ]
  },
  {
   "cell_type": "code",
   "execution_count": null,
   "metadata": {},
   "outputs": [],
   "source": [
    "\n",
    "JohnBars = Proj[bar](Sel[drinker=John](Frequents))\n",
    "GernotBars = Proj[bar](Sel[drinker=Gernot](Frequents))\n",
    "-- Bars where either John or Gernot drinks\n",
    "Result = JohnBars union GernotBars\n",
    "-- Bars where both John and Gernot drink\n",
    "Result = JohnBars intersect GernotBars"
   ]
  },
  {
   "cell_type": "markdown",
   "metadata": {},
   "source": [
    "### **Difference**\n",
    "<img src=\"https://cgi.cse.unsw.edu.au/~cs3311/21T3/lectures/ra-set-ops/Pics/relalg/difference2.png\" width=\"60%\">  \n",
    "\n",
    "Clearly, difference is not symmetric.  "
   ]
  },
  {
   "cell_type": "code",
   "execution_count": null,
   "metadata": {},
   "outputs": [],
   "source": [
    "-- Bars where John drinks and Gernot doesn't\n",
    "JohnBars = Proj[bar](Sel[drinker=John](Frequents))\n",
    "GernotBars = Proj[bar](Sel[drinker=Gernot](Frequents))\n",
    "Result = JohnBars - GernotBars\n",
    "\n",
    "--Bars that sell VB but not New\n",
    "VBBars = Proj[bar](Sel[beer=VB](Sells))\n",
    "NewBars = Proj[bar](Sel[beer=New](Sells))\n",
    "Result = VBBars - NewBars"
   ]
  },
  {
   "cell_type": "markdown",
   "metadata": {},
   "source": [
    "### **Theta Join**"
   ]
  },
  {
   "cell_type": "code",
   "execution_count": null,
   "metadata": {},
   "outputs": [],
   "source": [
    "-- Who drinks in Newtown bars?\n",
    "NewtownBars(nbar) = Sel[addr=Newtown](Bars)\n",
    "Tmp = Frequents Join[bar=nbar] NewtownBars\n",
    "Result(drinker) = Proj[drinker](Tmp)\n",
    "-- Who drinks beers made by Carlton?\n",
    "CarltonBeers = Sel[manf=Carlton](Beers)\n",
    "Tmp = Likes Join[beer=name] CarltonBeers\n",
    "Result(drinker) = Proj[drinker]Tmp"
   ]
  }
 ],
 "metadata": {
  "kernelspec": {
   "display_name": "Python 3",
   "language": "python",
   "name": "python3"
  },
  "language_info": {
   "codemirror_mode": {
    "name": "ipython",
    "version": 3
   },
   "file_extension": ".py",
   "mimetype": "text/x-python",
   "name": "python",
   "nbconvert_exporter": "python",
   "pygments_lexer": "ipython3",
   "version": "3.11.2"
  },
  "orig_nbformat": 4,
  "vscode": {
   "interpreter": {
    "hash": "e85de3d83400f5c985bc9e881d1d5995d558204654cf4e7f2cbcf321ceeee52a"
   }
  }
 },
 "nbformat": 4,
 "nbformat_minor": 2
}
