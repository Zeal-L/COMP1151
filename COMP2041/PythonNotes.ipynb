{
 "cells": [
  {
   "cell_type": "code",
   "execution_count": null,
   "metadata": {},
   "outputs": [],
   "source": [
    "arguments = ['Hello', 'there', 'Andrew']\n",
    "keyword_argments = {'end' : '!!!\\n', 'sep': ' --- '}\n",
    "print(arguments, keyword_argments)\n",
    "print(*arguments, **keyword_argments)"
   ]
  },
  {
   "cell_type": "code",
   "execution_count": null,
   "metadata": {},
   "outputs": [],
   "source": [
    "import subprocess\n",
    "\n",
    "# 通常是用于运行外部命令的函数\n",
    "subprocess.run([\"ls\", \"-Al\"])\n",
    "\n",
    "# 如果需要低级别的控制，可以使用它\n",
    "# subprocess.Popen()\n",
    "\n",
    "# text=True gives us a Unicode string.\n",
    "p = subprocess.run([\"date\"], capture_output=True, text=True)\n",
    "print(p.stdout)\n",
    "\n",
    "# run one command line\n",
    "p = subprocess.run(\"echo abaxxx | grep 'a' | cut -d'a' -f3-\", \n",
    "                    shell=True, \n",
    "                    capture_output=True, \n",
    "                    text=True, \n",
    "                    check=True)\n",
    "print(p.stdout)"
   ]
  },
  {
   "cell_type": "code",
   "execution_count": null,
   "metadata": {},
   "outputs": [],
   "source": [
    "import subprocess\n",
    "\n",
    "proc = subprocess.run([\"date\"], capture_output=True, text=True)\n",
    "if proc.returncode:\n",
    "    print(proc.stderr)\n",
    "    exit(1)\n",
    "    \n",
    "line: str\n",
    "for line in proc.stdout.splitlines():\n",
    "    weekday: str; month: str; day: str; time: str; tz: str; year: str\n",
    "    weekday, month, day, time, tz, year = line.split()\n",
    "    print(f\"{year} {month} {day} - {time} {tz}\")\n",
    "    \n",
    "print(proc.returncode)"
   ]
  },
  {
   "cell_type": "code",
   "execution_count": null,
   "metadata": {},
   "outputs": [],
   "source": [
    "import re\n",
    "string = \"This is A string\"\n",
    "\n",
    "# re.I = case-insensitive\n",
    "print(re.search(\"a\", string, flags=re.I))\n",
    "\n",
    "# same as re.search stating with ^\n",
    "print(re.match(\"a\", string, flags=re.I))\n",
    "\n",
    "# same as re.search stating with ^ and ending with $\n",
    "print(re.fullmatch(\"a\", string, flags=re.I))"
   ]
  },
  {
   "cell_type": "code",
   "execution_count": null,
   "metadata": {},
   "outputs": [],
   "source": [
    "import re\n",
    "string = \"12345 12345 54321\"\n",
    "\n",
    "# re.I = case-insensitive\n",
    "res = re.search(\"(123)(4)\", string)\n",
    "\n",
    "print(res)\n",
    "print(\"pattern =\", res.re.pattern)\n",
    "print(\"string =\", res.string)\n",
    "print(\"group 1 =\", res.group(1), \", group 2 =\", res.group(2))\n",
    "print(\"span =\", res.span())\n",
    "\n",
    "print();\n",
    "print(re.findall(\"(123)|(321)\", string))\n",
    "for i in re.findall(\"(123)|(321)\", string):\n",
    "    print(i)\n"
   ]
  },
  {
   "cell_type": "code",
   "execution_count": null,
   "metadata": {},
   "outputs": [],
   "source": [
    "import re\n",
    "string = \"This is A string\"\n",
    "\n",
    "print(re.sub(\" a \", \" not a \", string, 1, flags=re.I))\n",
    "\n",
    "print(re.findall(\"i\", string))\n",
    "\n",
    "print(re.split(\" \", string))\n",
    "\n",
    "re.sub(r'(\\d+) and (\\d+)', r'\\2 or \\1', \"The answer is 42 and 43?\")"
   ]
  },
  {
   "cell_type": "markdown",
   "metadata": {},
   "source": [
    "- `\\d` matches any digit, for ASCII: [0-9]\n",
    "- `\\D` matches any non-digit, for ASCII: [^0-9]\n",
    "- `\\w` matches any word char, for ASCII: [a-zA-Z_0-9]\n",
    "- `\\W` matches any non-word char, for ASCII: [^a-zA-Z_0-9]\n",
    "- `\\s` matches any whitespace, for ASCII: [ \\t\\n\\r\\f]\n",
    "- `\\S` matches any non-whitespace, for ASCII: [^ \\t\\n\\r\\f]\n",
    "- `\\b` matches at a word boundary\n",
    "- `\\B` matches except at a word boundary\n",
    "- `\\A` matches at the start of the string, same as ^\n",
    "- `\\Z` matches at the end of the string, same as $"
   ]
  },
  {
   "cell_type": "code",
   "execution_count": null,
   "metadata": {},
   "outputs": [],
   "source": [
    "print('Hello\\nAndrew')\n",
    "print(r'Hello\\nAndrew')\n",
    "print(r'Hello\\nAndrew' == 'Hello\\\\nAndrew')\n",
    "len('\\n')\n",
    "len(r'\\n')"
   ]
  },
  {
   "cell_type": "code",
   "execution_count": null,
   "metadata": {},
   "outputs": [],
   "source": [
    "# Back-referencing\n",
    "import re\n",
    "print(re.search(r'^(\\d+) (\\1)$', '42 42'))\n",
    "\n",
    "# Non-Capturing Group (?:...)\n",
    "print(re.search(r'.*(?:[aeiou]).*([aeiou]).*', 'abcde').group(1))"
   ]
  },
  {
   "cell_type": "code",
   "execution_count": null,
   "metadata": {},
   "outputs": [],
   "source": [
    "# Greedy versus non-Greedy Pattern Matching\n",
    "s = \"abbbc\"\n",
    "# greedy 从它能成功的第一个地方开始匹配，使匹配的时间尽可能地长\n",
    "print(re.sub(r'ab+', 'X', s)) \n",
    "# non-greedy 从第一个可能成功的地方开始匹配, 尽可能地缩短匹配时间\n",
    "print(re.sub(r'ab+?', 'X', s)) "
   ]
  },
  {
   "cell_type": "code",
   "execution_count": null,
   "metadata": {},
   "outputs": [],
   "source": [
    "s = \"bcdabdcbabcd\"\n",
    "print(re.sub(r'^(.+)ab', '*', s)) \n",
    "print(re.sub(r'^(.+?)ab', '*', s)) \n",
    "print(re.sub(r'^(.)ab', '*', s)) "
   ]
  },
  {
   "cell_type": "code",
   "execution_count": null,
   "metadata": {},
   "outputs": [],
   "source": [
    "tuples = { 'd': 4, 'c': 3, 'b': 2, 'a': 1 }\n",
    "rearranged_tutples = [(c,n) for (n,c) in tuples.items()]\n",
    "print(rearranged_tutples)\n",
    "for (c, n) in sorted(rearranged_tutples):\n",
    "    print(c, n)"
   ]
  },
  {
   "cell_type": "code",
   "execution_count": null,
   "metadata": {},
   "outputs": [],
   "source": [
    "import collections\n",
    "counts = collections.defaultdict(int)\n",
    "counts2 = collections.OrderedDict()\n",
    "string = \"sdjfhskghxciugvksjhgidxhgisuhgiosggsdkyuoppkjm\"\n",
    "for i in string:\n",
    "    i = i.strip()\n",
    "    counts[i] += 1\n",
    "    \n",
    "print(counts)"
   ]
  },
  {
   "cell_type": "code",
   "execution_count": null,
   "metadata": {},
   "outputs": [],
   "source": [
    "import os, stat\n",
    "\n",
    "mode = os.fstat(0).st_mode\n",
    "if stat.S_ISFIFO(mode):\n",
    "    print(\"stdin is piped\")\n",
    "elif stat.S_ISREG(mode):\n",
    "    print(\"stdin is redirected\")\n",
    "else:\n",
    "    print(\"stdin is terminal\")"
   ]
  },
  {
   "cell_type": "code",
   "execution_count": null,
   "metadata": {},
   "outputs": [],
   "source": [
    "import re\n",
    "\n",
    "print(re.split(r'\\d+', \"-5==10zzz200_\"))\n",
    "print(re.split(r'\\s*,\\s*', \"abc,de, ghi   ,jk ,   mn\"))\n",
    "\n"
   ]
  },
  {
   "cell_type": "code",
   "execution_count": null,
   "metadata": {},
   "outputs": [],
   "source": [
    "import os\n",
    "\n",
    "if os.path.exists(\"test.txt\"):\n",
    "    print(\"test.txt exists\")"
   ]
  },
  {
   "cell_type": "code",
   "execution_count": null,
   "metadata": {},
   "outputs": [],
   "source": [
    "import argparse\n",
    "\n",
    "parser = argparse.ArgumentParser()\n",
    "parser.add_argument(\"regex\", help=\"match against file names\")\n",
    "parser.add_argument(\"replacement\")\n",
    "parser.add_argument(\"-v\", \"--verbose\", action=\"store_true\")\n",
    "parser.add_argument(\"-n\", \"--replace_n_matches\", type=int, default=0)\n",
    "parser.add_argument(\"filenames\", nargs=\"*\")\n",
    "aargs = parser.parse_args()\n",
    "\n",
    "print(aargs.filenames)\n",
    "print(aargs.verbose)"
   ]
  },
  {
   "cell_type": "code",
   "execution_count": null,
   "metadata": {},
   "outputs": [],
   "source": [
    "import subprocess\n",
    "import re\n",
    "\n",
    "res = subprocess.run(\"wget -O- -q https://www.baidu.com\", shell=True, capture_output=True, text=True)\n",
    "\n",
    "res.stdout = re.sub(r\"<!--.*?-->\", \"\", res.stdout, flags=re.DOTALL)\n",
    "\n",
    "for m in re.findall(r'<.*?>', res.stdout):\n",
    "    if m[1] == '/' or m[-2] == '/':\n",
    "        continue\n",
    "    if temp := re.search(r\"<\\s*(\\w+)\", m):\n",
    "        name = temp[1]\n",
    "        print(name, \"---->\", m)\n"
   ]
  },
  {
   "cell_type": "code",
   "execution_count": null,
   "metadata": {},
   "outputs": [],
   "source": [
    "import requests\n",
    "from bs4 import BeautifulSoup\n",
    "from collections import Counter\n",
    "\n",
    "res = requests.get(\"https://www.cse.unsw.edu.au\")\n",
    "counter = Counter()\n",
    "soup = BeautifulSoup(res.text, 'html5lib')\n",
    "# print(soup.prettify())\n",
    "\n",
    "for tag in soup.find_all():\n",
    "    counter[tag.name] += 1\n",
    "    \n",
    "# sort by count\n",
    "for tag, count in sorted(counter.items(), key=lambda x: x[1], reverse=True):\n",
    "    print(f\"{tag:<10} {count:>5}\")\n"
   ]
  },
  {
   "cell_type": "code",
   "execution_count": null,
   "metadata": {},
   "outputs": [],
   "source": [
    "import regex\n",
    "\n",
    "# V0 is fully backward compatible with re\n",
    "# V1 have mire featrues\n",
    "regex.DEFAULT_VERSION = regex.V1\n"
   ]
  }
 ],
 "metadata": {
  "kernelspec": {
   "display_name": "Python 3.9.6 64-bit",
   "language": "python",
   "name": "python3"
  },
  "language_info": {
   "codemirror_mode": {
    "name": "ipython",
    "version": 3
   },
   "file_extension": ".py",
   "mimetype": "text/x-python",
   "name": "python",
   "nbconvert_exporter": "python",
   "pygments_lexer": "ipython3",
   "version": "3.9.6"
  },
  "orig_nbformat": 4,
  "vscode": {
   "interpreter": {
    "hash": "8b40f805f061d321c04a8102d8acec11bee1c272ceac9cdfac525cc428e3c005"
   }
  }
 },
 "nbformat": 4,
 "nbformat_minor": 2
}
