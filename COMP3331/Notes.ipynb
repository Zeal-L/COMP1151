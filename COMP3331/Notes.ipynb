{
 "cells": [
  {
   "cell_type": "markdown",
   "metadata": {},
   "source": [
    "## Ping\n",
    "- ping 实用程序用于检查与主机的连接（检查主机操作和网络连接是否完好）。 \n",
    "- 一个小数据包通过网络发送到特定的 IP 地址。此数据包包含 64 个字节 - 56 个数据字节和 8 个字节的协议头信息。\n",
    "- 发送数据包的主机然后等待（或“侦听”）返回数据包。如果连接良好且目标主机已启动，则会收到良好的返回数据包。 \n",
    "- ping 还可以测量数据包的 往返时间。\n",
    "- `ping -s [1-4] host` \n",
    "  - 选项 -s packetsize 指定要发送的数据字节数。默认值为 56 字节 (Linux)。\n",
    "- `ping -i [1-255] host`\n",
    "  - 选项 -i 间隔 指定发送 ping 请求之间的间隔。默认值为一秒。"
   ]
  },
  {
   "cell_type": "markdown",
   "metadata": {},
   "source": [
    "## traceroute\n",
    "- traceroute 实用程序跟踪 IP 数据包从您的主机到另一个 Internet 主机的路由 。 它显示了主机如何物理连接到 Internet。一路走来，它让我们了解网络如何相互连接。此网络实用程序还可以测量您的主机和沿路径的中间路由器之间的往返时间。\n",
    "- `traceroute host`\n",
    "- `tracert host`"
   ]
  },
  {
   "cell_type": "markdown",
   "metadata": {},
   "source": [
    "# nslookup \n",
    "- `nslookup <address/IP>`查询域名的记录"
   ]
  },
  {
   "cell_type": "markdown",
   "metadata": {},
   "source": [
    "# host\n",
    "- `host <address/IP>` 返回域名的各种记录"
   ]
  },
  {
   "cell_type": "markdown",
   "metadata": {},
   "source": [
    "# whois\n",
    "- `whois <address>` 查询域名的注册情况\n",
    "- 通过 whois 命令，我们可以知道该域名通过哪个服务商注册以及注册地点等信息。"
   ]
  },
  {
   "cell_type": "markdown",
   "metadata": {},
   "source": [
    "# dig\n",
    "- `dig` 显示13个根域服务器\n",
    "- `dig <address/IP>` 查询单个域名的 DNS 信息\n",
    "- `dig <address/IP> +short` 精简结果\n",
    "- `dig -x <address/IP>`  反向查询\n",
    "- `dig -x <address/IP> +noall +answer` 只显示ANSWER SECTION\n",
    "- `dig -x <address/IP> ANY` 查询给定域名的所有DNS记录类型\n",
    "\n",
    "A 地址记录，用来指定域名的 IPv4 地址，如果需要将域名指向一个 IP 地址，就需要添加 A 记录。\n",
    "AAAA 用来指定主机名(或域名)对应的 IPv6 地址记录。\n",
    "CNAME 别名的标准名称；一台机器可能有几个与之相关的名称（别名），但其中只有一个是 \"真实 \"的\n",
    "MX 邮件交换器；域名的邮件服务器。这是由SMTP使用的。\n",
    "NS 域名服务器记录，如果需要把子域名交给其他 DNS 服务器解析，就需要添加 NS 记录。名称服务器；哪个名称服务器负责该域。\n",
    "PTR 指向规范名称的指针；IP地址到主机名的映射。\n",
    "SOA 这种记录是所有区域性文件中的强制性记录。它必须是一个文件中的第一个记录。 域名的授权开始信息；谁负责管理该域名。\n",
    "TXT 可以写任何东西，长度限制为 255。绝大多数的 TXT记录是用来做 SPF 记录(反垃圾邮件)。\n",
    "\n",
    "- Flags\n",
    "    - rd - Recursion Desired\n",
    "    - ra - Recursion Available\n",
    "    - aa - Authoritative Answer\n",
    "    - qr - Query?\n",
    "    - cd - Checking Disabled (not sure what this means)"
   ]
  },
  {
   "cell_type": "markdown",
   "metadata": {},
   "source": [
    "# 缩写\n",
    "- ISP  -- Internet service provider\n",
    "- IXP  -- Internet exchange point\n",
    "- RFC  -- Request for Comments\n",
    "- IETF -- Internet Engineering Task Force\n",
    "- DSL  -- Digital subscriber line 数字订购线路\n",
    "- HTTP -- hypertext transfer protocol\n",
    "- RDT  -- Reliable data transfer protocol"
   ]
  },
  {
   "cell_type": "markdown",
   "metadata": {},
   "source": [
    "## Protocol\n",
    "- 协议定义了网络实体之间发送和接收信息的格式和顺序，以及在信息传输、接收时采取的行动。"
   ]
  },
  {
   "cell_type": "markdown",
   "metadata": {},
   "source": [
    "# Packet-switching\n",
    "- 分组交换：主机将应用层信息分解成数据包\n",
    "- 从一个路由器转发数据包到下一个路由器，跨越从源头到目的地的路径上的链接\n",
    "- 每个数据包以全链路容量传输\n",
    "- 数据以格式化的比特块（Packets）的形式发送\n",
    "- 数据包由 \"header\" 和 \"payload组成\n",
    "- Switches “forward” packets based on their headers\n",
    "- 每个数据包都是独立传输的\n",
    "- 可能出现过度拥堵：缓冲区溢出导致的数据包延迟和丢失\n",
    "- 资源共享\n",
    "- 更简单，没有呼叫设置\n",
    "- 适合 \"突发 \"数据 - 有时有数据要发送，但有时没有\n"
   ]
  },
  {
   "cell_type": "markdown",
   "metadata": {},
   "source": [
    "# Circuit-switching\n",
    "- 电路交换：在传统的电话网络中使用的一种替代方法，在设计互联网的过程中被考虑。\n",
    "- 分配给终端的资源，保留给来源和目的地之间的 \"呼叫\"。\n",
    "- 专用资源：不共享\n",
    "- 类似电路的（保证）性能\n",
    "- 如果不被呼叫使用，电路段闲置（不共享）。\n",
    "- 常用于传统电话网络\n",
    "- **Frequency Division Multiplexing (FDM) 频分复用**\n",
    "  - 光，电磁频率被分为（窄）频段\n",
    "  - 每个呼叫分配自己的频段，可以以该窄带的最大速率传输\n",
    "- **Time Division Multiplexing (TDM) 时分复用**\n",
    "  - 时间被划分为槽点\n",
    "  - 每个呼叫被分配到周期性时隙，可以以（较宽）频段的最大速率传输，但只在其时隙内传输\n",
    "- 为什么电路转换不可行？\n",
    "    - 效率低下\n",
    "      - 计算机通信往往是非常突发性的。例如，浏览一连串的网页\n",
    "      - 专门的电路不能在沉默期使用或共享\n",
    "      - 不能适应网络的动态变化\n",
    "    - 固定的数据速率\n",
    "      - 计算机以非常不同的速率进行通信。例如，观看视频与使用telnet或网页浏览的对比\n",
    "      - 固定的数据速率是没有用的\n",
    "    - 连接状态维护\n",
    "      - 需要维护每个通信状态，这是一个相当大的开销。\n",
    "      - 不具有可扩展性"
   ]
  },
  {
   "cell_type": "markdown",
   "metadata": {},
   "source": [
    "Total delay        = nodal processing + queueing delay + transmission delay + propagation delay\n",
    "nodal processing   = check bit errors, determine output link, typically < msec\n",
    "queueing delay     = time waiting at output link for transmission, depends on congestion level of router\n",
    "transmission delay = packet length (bits) / link transmission rate (bps)\n",
    "propagation delay  = length of physical link / propagation speed (~2x108 m/sec)\n",
    "\n",
    "总延迟  = 节点处理+排队延迟+传输延迟+传播延迟\n",
    "节点处理 = 检查比特错误，确定输出链路，通常<毫秒\n",
    "排队延时 = 在输出链路上等待传输的时间，取决于路由器的拥堵程度\n",
    "传播延迟 = 数据包长度（比特）/链路传输率（bps）。\n",
    "传播延迟 = 物理链路的长度/传播速度（~2x108米/秒）\n",
    "\n",
    "End-to-end delay = sum of all nodal along the path\n",
    "\n",
    "Queueing delay\n",
    "Packet arrival rate = a packets/sec\n",
    "Packet length = L bits\n",
    "Link bandwidth = R bits/sec\n",
    "\n",
    "La/R ~ 0: avg. queueing delay small\n",
    "La/R -> 1: delays become large\n",
    "La/R > 1: more “work” than can be serviced, average delay infinite! (this is when a is random!)\n",
    "\n",
    "这很简单\n",
    "La是有多少比特进入 ->\n",
    "R是有多少比特离开<-\n",
    "取二者之间的比率\n",
    "如果 <1，则La小于R--即比特离开的速度比进来的快\n",
    "如果 =1，位以相同的速度离开，他们进入的速度也相同\n",
    "如果 >1，它们会累积起来，然后数据包开始被丢弃\n"
   ]
  },
  {
   "cell_type": "markdown",
   "metadata": {},
   "source": [
    "# Packet loss\n",
    "- 队列（又称缓冲区）在缓冲区内的链接的容量是有限的\n",
    "- 到达满队的数据包被丢弃（又称丢失）。\n",
    "- 丢失的数据包可能被前一个节点、源端系统重传，或者根本不重传\n",
    "\n",
    "# Throughput\n",
    "- 吞吐量：比特从发送方发送到接收方的速率（比特/时间单位）。\n",
    "- bottleneck link: 限制端部吞吐量的端部路径上的链接"
   ]
  },
  {
   "cell_type": "markdown",
   "metadata": {},
   "source": [
    "# Application\n",
    "- FTP, SMTP, IMAP, HTTP, Skype, DNS\n",
    "\n",
    "# Transport\n",
    "- TCP，UDP\n",
    "\n",
    "# Network\n",
    "- IP，routing protocols\n",
    "\n",
    "# Link\n",
    "- Ethernet、802.11（WiFi）、PPP\n",
    "\n",
    "# Physical"
   ]
  },
  {
   "cell_type": "markdown",
   "metadata": {},
   "source": [
    "HTTP响应状态代码\n",
    "- 200 OK\n",
    "  - 请求成功，请求的对象在本消息的后面\n",
    "- 301 已永久移动\n",
    "  - 被请求的对象被移动，新的位置在本消息中稍后指定\n",
    "- 304 Not Modified\n",
    "  - don’t send object if cache has up-to-date cached version\n",
    "- 400 错误请求\n",
    "  - 请求讯息不被服务器理解\n",
    "- 404 未找到\n",
    "  - 所请求的文件在该服务器上没有找到\n",
    "- 505 HTTP版本不支持"
   ]
  },
  {
   "cell_type": "markdown",
   "metadata": {},
   "source": [
    "# DNS Structure\n",
    "- Root server\n",
    "\n",
    "- Top-level domain (TLD) server\n",
    "  - .com, .edu, .gov\n",
    "\n",
    "- Local server\n",
    "  - clientside ISP\n",
    "  - 不属于严格意义上的等级制度\n",
    "  - 每个ISP（住宅ISP、公司、大学）都有一个\n",
    "  - 有本地缓存的最近的名称-地址转换对（但可能是过时的）\n",
    "\n",
    "- Authoritative server\n",
    "  - domain name owner\n",
    "  - 存储姓名与地址的映射关系\n",
    "  - 由相应的管理机构维护\n"
   ]
  },
  {
   "cell_type": "markdown",
   "metadata": {},
   "source": [
    "# DNS records\n",
    "- distributed database storing resource records (RR)\n",
    "- RR format: (name, value, type, ttl)\n",
    "- type\n",
    "  - A\n",
    "    - name is hostname\n",
    "    - value is IP address\n",
    "  - NS\n",
    "    - name is domain (e.g., foo.com)\n",
    "    - value is hostname of authoritative name server for this domain\n",
    "  - CNAME\n",
    "    - name is alias name for some “canonical” (the real) name\n",
    "    - www.ibm.com is really servereast.backup2.ibm.com\n",
    "    - value is canonical name\n",
    "  - MX\n",
    "    - value is name of mailserver associated with name\n"
   ]
  },
  {
   "cell_type": "markdown",
   "metadata": {},
   "source": [
    "# Transport layer\n",
    "- 发送者：将应用信息分解成片段，传递给网络层\n",
    "- 接收者：将片段重新组合成信息，传递给应用层\n",
    "\n",
    "- UDP(User Datagram Protocol): connectionless transport\n",
    "  - reliable, in-order delivery\n",
    "  - congestion control\n",
    "  - flow control\n",
    "  - checksum\n",
    "\n",
    "\n",
    "- TCP(Transmission Control Protocol): connection-oriented reliable transport\n",
    "  - unreliable, unordered delivery\n",
    "  - no delay guarantees\n",
    "  - no bandwidth guarantees\n",
    "\n",
    "- Multiplexing/demultiplexing\n"
   ]
  }
 ],
 "metadata": {
  "kernelspec": {
   "display_name": "Python 3.9.6 64-bit",
   "language": "python",
   "name": "python3"
  },
  "language_info": {
   "name": "python",
   "version": "3.9.6"
  },
  "orig_nbformat": 4,
  "vscode": {
   "interpreter": {
    "hash": "8b40f805f061d321c04a8102d8acec11bee1c272ceac9cdfac525cc428e3c005"
   }
  }
 },
 "nbformat": 4,
 "nbformat_minor": 2
}
