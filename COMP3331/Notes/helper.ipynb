{
 "cells": [
  {
   "cell_type": "code",
   "execution_count": 1,
   "metadata": {},
   "outputs": [
    {
     "name": "stdout",
     "output_type": "stream",
     "text": [
      "Circuit-switching:\n",
      "\tcan support 10.0 users\n",
      "Packet-switching:\n",
      "\twith 35 users, probability = 10 user active at same time is 0.0013179128\n",
      "\twith 35 users, probability > 10 user active at same time is less than 0.0004242976\n",
      "\twith 35 users, probability < 10 user active at same time is less than 0.9982577896\n",
      "\twith 35 users, probability >= 10 user active at same time is less than 0.0017422104\n",
      "\twith 35 users, probability <= 10 user active at same time is less than 0.9995757024\n"
     ]
    }
   ],
   "source": [
    "# Packet vs Circuit switching\n",
    "\n",
    "from math import comb\n",
    "from functools import reduce\n",
    "\n",
    "link = 1000         # kb/s\n",
    "each_user = 100     # kb/s when user is active\n",
    "active_rate = 0.1   # 10% of the time\n",
    "num_user = 35       # Number of trials\n",
    "num_succ = 10       # Number of successes (x)\n",
    "\n",
    "def prob(n, k, p):\n",
    "    # n is the number of trials, k is the number of successes, p is the probability of success\n",
    "    return comb(n, k) * p**k * (1-p)**(n-k)\n",
    "\n",
    "print(f\"Circuit-switching:\\n\\tcan support {link/each_user} users\")\n",
    "print(\"Packet-switching:\")\n",
    "print(f\"\\twith {num_user} users, probability = {num_succ} user active at same time is {prob(num_user, num_succ, active_rate):.10f}\")\n",
    "print(f\"\\twith {num_user} users, probability > {num_succ} user active at same time is less than {1 - sum((prob(num_user, i, active_rate) for i in range(num_succ+1))):.10f}\")\n",
    "print(f\"\\twith {num_user} users, probability < {num_succ} user active at same time is less than {sum((prob(num_user, i, active_rate) for i in range(num_succ))):.10f}\")\n",
    "print(f\"\\twith {num_user} users, probability >= {num_succ} user active at same time is less than {1-sum((prob(num_user, i, active_rate) for i in range(num_succ))):.10f}\")\n",
    "print(f\"\\twith {num_user} users, probability <= {num_succ} user active at same time is less than {sum((prob(num_user, i, active_rate) for i in range(num_succ+1))):.10f}\")"
   ]
  },
  {
   "cell_type": "code",
   "execution_count": 2,
   "metadata": {},
   "outputs": [
    {
     "name": "stdout",
     "output_type": "stream",
     "text": [
      "hop_delay = proc + trans + prop + queue\n",
      "10 msec + 0.02 msec + 10.0 msec + 0 msec\n",
      "hop_delay = 20.02ms\n",
      "\n",
      "total_delay = hop_delay * num_routers+1\n",
      "20.02 msec * 5\n",
      "total_delay = 100.1 msec\n"
     ]
    }
   ],
   "source": [
    "# Calculate the end-to-end delay\n",
    "\n",
    "packets_length = 10000              # bits\n",
    "link_between = 5000                 # m\n",
    "num_routers = 4                     # between source and destination\n",
    "processing_time = 10                # msec\n",
    "transmission_rate = 10**6           # bit/s\n",
    "propagation_speed = 2.5 * 10**8     # m/s\n",
    "queue_delay = 0\n",
    "\n",
    "print(\"hop_delay = proc + trans + prop + queue\")\n",
    "print(f\"{processing_time} msec + {(link_between/propagation_speed) * 1000} msec + {(packets_length/transmission_rate) * 1000} msec + {queue_delay} msec\")\n",
    "hop_delay = processing_time + ((link_between/propagation_speed) * 1000) + (packets_length/transmission_rate) * 1000 + queue_delay\n",
    "print(f\"hop_delay = {hop_delay}ms\\n\")\n",
    "\n",
    "print(\"total_delay = hop_delay * num_routers+1\")\n",
    "print(f\"{hop_delay} msec * {num_routers+1}\")\n",
    "print(f\"total_delay = {hop_delay * (num_routers+1)} msec\")\n"
   ]
  },
  {
   "cell_type": "code",
   "execution_count": 4,
   "metadata": {},
   "outputs": [
    {
     "name": "stdout",
     "output_type": "stream",
     "text": [
      "136.0 ms\n"
     ]
    }
   ],
   "source": [
    "# 计算超时间隔\n",
    "EstimatedRTT = 100        # ms\n",
    "DevRTT = 9                # ms\n",
    "New_SampleRTT = 108       # ms\n",
    "a = 0.125\n",
    "b = 0.25\n",
    "\n",
    "DevRTT = (1 - b) * DevRTT + b * abs(New_SampleRTT - EstimatedRTT)\n",
    "EstimatedRTT = (1 - a) * EstimatedRTT + a * New_SampleRTT\n",
    "\n",
    "TimeoutInterval = EstimatedRTT + 4 * DevRTT\n",
    "print(TimeoutInterval, 'ms')"
   ]
  },
  {
   "cell_type": "code",
   "execution_count": 5,
   "metadata": {},
   "outputs": [
    {
     "name": "stdout",
     "output_type": "stream",
     "text": [
      "[9.00000000000000]\n"
     ]
    }
   ],
   "source": [
    "# 求造成超时间隔不变的DevRTT\n",
    "from sympy.solvers import solve\n",
    "from sympy import Symbol\n",
    "\n",
    "EstimatedRTT = 100        # ms\n",
    "New_SampleRTT = 108       # ms\n",
    "a = 0.125\n",
    "b = 0.25\n",
    "DevRTT = Symbol('DevRTT')\n",
    "\n",
    "NewDevRTT = (1 - b) * DevRTT + b * abs(New_SampleRTT - EstimatedRTT)\n",
    "NewEstimatedRTT = (1 - a) * EstimatedRTT + a * New_SampleRTT\n",
    "\n",
    "f = EstimatedRTT + 4*DevRTT - NewEstimatedRTT - 4*NewDevRTT\n",
    "\n",
    "result = solve(f, DevRTT)\n",
    "print(result)\n"
   ]
  },
  {
   "cell_type": "code",
   "execution_count": 7,
   "metadata": {},
   "outputs": [
    {
     "name": "stdout",
     "output_type": "stream",
     "text": [
      "1s complement: 11101101\n"
     ]
    }
   ],
   "source": [
    "# Calculate the checksums (8 bits)\n",
    "from functools import reduce\n",
    "\n",
    "def overflowAdd(a, b):\n",
    "    return ((a+b)&0xff) + 1 if (a+b)>>8 == 1 else (a+b)\n",
    "\n",
    "myBits = ['01010101', '01110000', '01001100']\n",
    "res = reduce(overflowAdd, map(lambda x: int(x,2), myBits))\n",
    "print('1s complement: {0:08b}'.format(~res & 0xff))\n",
    "\n",
    "\n",
    "# print('2s complement: {0:08b}'.format(-res & 0xff))\n",
    "\n",
    "# Fancy way to do it\n",
    "# print('1s complement: {0:08b}'.format(~reduce(lambda a, b: ((a+b)&0xff) + 1 if (a+b)>>8 == 1 else (a+b), map(lambda x: int(x,2), ['01010101', '01110000', '01001100'])) & 0xff))\n",
    "# print('2s complement: {0:08b}'.format(-reduce(lambda a, b: ((a+b)&0xff) + 1 if (a+b)>>8 == 1 else (a+b), map(lambda x: int(x,2), ['01010101', '01110000', '01001100'])) & 0xff))\n"
   ]
  },
  {
   "cell_type": "code",
   "execution_count": 8,
   "metadata": {},
   "outputs": [
    {
     "name": "stdout",
     "output_type": "stream",
     "text": [
      "time to transmit packet into channel:\n",
      "\tTransmission delay: 8.0 microsecs\n",
      "\tSender Utilization: 发送者忙于发送的时间的百分比 = 0.00027\n"
     ]
    }
   ],
   "source": [
    "# Performance of rdt3.0 (stop-and-wait)\n",
    "\n",
    "link = 10**9        # bits/sec  1 Gbps link\n",
    "prop_delay = 15     # ms\n",
    "packet_size = 8000  # bits\n",
    "\n",
    "trans_delay = packet_size / link    # sec\n",
    "print(\"time to transmit packet into channel:\")\n",
    "print(f'\\tTransmission delay: {trans_delay*10**6} microsecs')\n",
    "print(f\"\\tSender Utilization: 发送者忙于发送的时间的百分比 = {round((trans_delay*10**3)/(prop_delay*2+trans_delay*10**3), 5)}\")"
   ]
  },
  {
   "cell_type": "code",
   "execution_count": 9,
   "metadata": {},
   "outputs": [
    {
     "name": "stdout",
     "output_type": "stream",
     "text": [
      "2450.98 packets\n"
     ]
    }
   ],
   "source": [
    "# 计算窗口大小必须是多大才能使信道利用率大于某值\n",
    "\n",
    "prop_delay = 15     # ms\n",
    "rtt = (prop_delay*2)*(10**-3)    # sec\n",
    "packets_len = 1500  # bytes\n",
    "trans_link = 10**9  # bits/sec  1 Gbps link\n",
    "channel_U = 0.98    # channel utilization 98%\n",
    "\n",
    "\n",
    "x = ((packets_len*8)/trans_link) / (rtt+(packets_len*8)/trans_link)\n",
    "print(f'{channel_U/x} packets')\n"
   ]
  },
  {
   "cell_type": "code",
   "execution_count": 10,
   "metadata": {},
   "outputs": [
    {
     "name": "stdout",
     "output_type": "stream",
     "text": [
      "Port 3\n",
      "Port 4\n",
      "Port 2\n",
      "None\n"
     ]
    }
   ],
   "source": [
    "import ipaddress\n",
    "\n",
    "dest = {\n",
    "    \"Port 1\": \"128.8.16.0/20\",\n",
    "    \"Port 2\": \"128.8.24.0/21\",\n",
    "    \"Port 3\": \"128.8.128.0/24\",\n",
    "    \"Port 4\": \"128.8.128.0/28\",\n",
    "}\n",
    "\n",
    "def get_best_port(ip):\n",
    "    ip = ipaddress.ip_address(ip)\n",
    "    best_port = None\n",
    "    best_net = None\n",
    "    \n",
    "    for port, net in dest.items():\n",
    "        net = ipaddress.ip_network(net)\n",
    "        if ip in net and (not best_net or net.prefixlen > best_net.prefixlen):\n",
    "            best_port = port\n",
    "            best_net = net\n",
    "            \n",
    "    return best_port\n",
    "    \n",
    "print(get_best_port(\"128.8.128.252\"))\n",
    "print(get_best_port(\"128.8.128.5\"))\n",
    "print(get_best_port(\"128.8.25.223\"))\n",
    "print(get_best_port(\"155.128.45.21\"))"
   ]
  },
  {
   "cell_type": "code",
   "execution_count": 11,
   "metadata": {},
   "outputs": [
    {
     "name": "stdout",
     "output_type": "stream",
     "text": [
      "(IPv4Address('12.1.0.0'), IPv4Address('12.1.127.255'))\n"
     ]
    }
   ],
   "source": [
    "ip = \"12.1.0.0/17\"\n",
    "\n",
    "def getIPRange(ip):\n",
    "    ip = ipaddress.ip_network(ip)\n",
    "    return (ip[0], ip[-1])\n",
    "    \n",
    "\n",
    "print(getIPRange(ip))"
   ]
  },
  {
   "cell_type": "code",
   "execution_count": 12,
   "metadata": {},
   "outputs": [
    {
     "name": "stdout",
     "output_type": "stream",
     "text": [
      "255.255.252.0\n"
     ]
    }
   ],
   "source": [
    "def mask(number):\n",
    "    return ipaddress.ip_address(2**32 - 2**(32-number))\n",
    "\n",
    "print(mask(22))"
   ]
  },
  {
   "cell_type": "code",
   "execution_count": 14,
   "metadata": {},
   "outputs": [
    {
     "name": "stdout",
     "output_type": "stream",
     "text": [
      "Sender:  110\n",
      "Receiver:  0\n",
      "Receiver:  0\n"
     ]
    }
   ],
   "source": [
    "def CRC_sender(D, G):\n",
    "    D = D << G.bit_length() - 1\n",
    "    while D.bit_length() >= G.bit_length():\n",
    "        D ^= G << D.bit_length() - G.bit_length()\n",
    "    return D\n",
    "\n",
    "def CRC_receiver(D, G, R):\n",
    "    D = D << (G.bit_length() - 1)\n",
    "    D ^= R\n",
    "    while D.bit_length() >= G.bit_length():\n",
    "        D ^= G << D.bit_length() - G.bit_length()\n",
    "    return D\n",
    "\n",
    "G = 0b1101\n",
    "D = 0b10101010\n",
    "R = CRC_sender(D, G)\n",
    "\n",
    "print(\"Sender: \", bin(R).replace('0b', ''))\n",
    "\n",
    "print('Receiver: ', bin(CRC_receiver(D, G, R)).replace('0b', ''))\n",
    "print('Receiver: ', bin(CRC_receiver(0b00101011, G, R)).replace('0b', ''))"
   ]
  }
 ],
 "metadata": {
  "kernelspec": {
   "display_name": "Python 3.9.6 64-bit",
   "language": "python",
   "name": "python3"
  },
  "language_info": {
   "codemirror_mode": {
    "name": "ipython",
    "version": 3
   },
   "file_extension": ".py",
   "mimetype": "text/x-python",
   "name": "python",
   "nbconvert_exporter": "python",
   "pygments_lexer": "ipython3",
   "version": "3.9.6"
  },
  "orig_nbformat": 4,
  "vscode": {
   "interpreter": {
    "hash": "8b40f805f061d321c04a8102d8acec11bee1c272ceac9cdfac525cc428e3c005"
   }
  }
 },
 "nbformat": 4,
 "nbformat_minor": 2
}
