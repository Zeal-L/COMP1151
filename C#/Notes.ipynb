{
 "cells": [
  {
   "cell_type": "markdown",
   "metadata": {},
   "source": [
    "## **值类型（Value types）**"
   ]
  },
  {
   "cell_type": "code",
   "execution_count": null,
   "metadata": {
    "dotnet_interactive": {
     "language": "csharp"
    },
    "vscode": {
     "languageId": "dotnet-interactive.csharp"
    }
   },
   "outputs": [],
   "source": [
    "// 在 C# 中没有全局变量的概念，所有变量必须由该类的实例进行操作，\n",
    "// 这样做提升了安全性，但是在某些情况下却显得力不从心。\n",
    "// 因此，我们在保存一些类的公共信息时，就会使用静态变量。\n",
    "\n",
    "static int data = 66;"
   ]
  },
  {
   "cell_type": "code",
   "execution_count": null,
   "metadata": {
    "dotnet_interactive": {
     "language": "csharp"
    },
    "vscode": {
     "languageId": "dotnet-interactive.csharp"
    }
   },
   "outputs": [],
   "source": [
    "// 静态常量（编译时常量）const 在编译时就确定了值，\n",
    "// 必须在声明时就进行初始化且之后不能进行更改，可在类和方法中定义\n",
    "const double pi = 3.1415926; \n",
    "\n",
    "// 动态常量（运行时常量）readonly在运行时确定值，\n",
    "// 只能在声明时或构造函数中初始化，只能在类中定义\n",
    "class Program\n",
    "{\n",
    "    public readonly int a = 1;  // 声明时初始化\n",
    "    public readonly int b;      // 构造函数中初始化\n",
    "    public Program()\n",
    "    {\n",
    "        b = 2;\n",
    "    }\n",
    "}\n",
    "\n",
    "Program p = new Program();\n",
    "Console.WriteLine(\"{0}, {1}\", p.a, p.b);\n",
    "\n",
    "// 在下面两种情况下：\n",
    "//  a、取值永久不变(比如圆周率、一天包含的小时数、地球的半径等)。\n",
    "//  b、对程序性能要求非常苛刻。\n",
    "// 可以使用 const 常量，除此之外的其他情况都应该优先采用 readonly 常量。"
   ]
  },
  {
   "cell_type": "code",
   "execution_count": null,
   "metadata": {
    "dotnet_interactive": {
     "language": "csharp"
    },
    "vscode": {
     "languageId": "dotnet-interactive.csharp"
    }
   },
   "outputs": [],
   "source": [
    "// 布尔值\n",
    "bool a;  // 默认值 False\n",
    "\n",
    "// 8 位无符号整数, 0 到 255\n",
    "byte b;  // 默认值 0\n",
    "\n",
    "// 8 位有符号整数类型, -128 到 127\n",
    "sbyte sb;  // 默认值 0\n",
    "\n",
    "// 16 位有符号整数类型, -32,768 到 32,767\n",
    "short i;  // 默认值 0\n",
    "\n",
    "// 16 位无符号整数类型, 0 到 65,535\n",
    "ushort us; // 默认值 0\n",
    "\n",
    "// 32 位有符号整数类型, -2,147,483,648 到 2,147,483,647\n",
    "int g;  // 默认值 0\n",
    "\n",
    "// 32 位无符号整数类型, 0 到 4,294,967,295\n",
    "uint ui;  // 默认值 0\n",
    "\n",
    "// 64 位有符号整数类型, -9,223,372,036,854,775,808 到 9,223,372,036,854,775,807\n",
    "long h;  // 默认值 0\n",
    "\n",
    "// 64 位无符号整数类型, 0 到 18,446,744,073,709,551,615\n",
    "ulong ul;  // 默认值 0\n",
    "\n",
    "// 128 位精确的十进制值，28-29 有效位数\n",
    "decimal d;  // 默认值 0.0m\n",
    "\n",
    "// 16 位 Unicode 字符, U +0000 到 U +ffff\n",
    "char c;  // 默认值 '\\0'\n",
    "\n",
    "// 32 位单精度浮点型\n",
    "float f;  // 默认值 0.0f\n",
    "\n",
    "// 64 位双精度浮点型\n",
    "double e;  // 默认值 0.0d\n",
    "\n",
    "Console.WriteLine(\"Type size:\\nbool:{0}, byte:{1}, sbyte:{2}, short:{3}, ushort:{4}, \\nint:{5}, uint:{6}, long:{7}, ulong:{8}, decimal:{9}, \\nchar:{10}, float:{11}, double:{12}\", \n",
    "        sizeof(bool), sizeof(byte), sizeof(sbyte), sizeof(short), sizeof(ushort), sizeof(int), sizeof(uint), sizeof(long), sizeof(ulong), sizeof(decimal), sizeof(char), sizeof(float), sizeof(double));"
   ]
  },
  {
   "cell_type": "code",
   "execution_count": null,
   "metadata": {
    "dotnet_interactive": {
     "language": "csharp"
    },
    "vscode": {
     "languageId": "dotnet-interactive.csharp"
    }
   },
   "outputs": [],
   "source": [
    "// 值类型，声明一个值类型的时候，是在“栈”中开辟一个内存空间来存放对应的值，\n",
    "// 当值类型的值发生改变的时候，则直接修改该内存空间所保存的值\n",
    "int n1 = 5;\n",
    "int n2 = n1;\n",
    "Console.WriteLine(n1 + \"  \"+ n2);    // 5  5\n",
    "n2 = 7;\n",
    "Console.WriteLine(n1 + \"  \" + n2)    // 5  7"
   ]
  },
  {
   "cell_type": "markdown",
   "metadata": {},
   "source": [
    "## **引用类型（Reference types)**"
   ]
  },
  {
   "cell_type": "code",
   "execution_count": null,
   "metadata": {
    "dotnet_interactive": {
     "language": "csharp"
    },
    "vscode": {
     "languageId": "dotnet-interactive.csharp"
    }
   },
   "outputs": [],
   "source": [
    "// 动态类型与对象类型相似，但是对象类型变量的类型检查是在编译时发生的，\n",
    "// 而动态类型变量的类型检查是在运行时发生的。\n",
    "\n",
    "// 对象（Object）类型\n",
    "int val = 8;\n",
    "object obj = val;   //先装箱\n",
    "int nval = (int) obj;   //再拆箱\n",
    "// object 只是复制了值出来然后对其操作而已。不会影响到原来的值。\n",
    "\n",
    "// 动态（Dynamic）类型\n",
    "// 您可以存储任何类型的值在动态数据类型变量中。这些变量的类型检查是在运行时发生的。\n",
    "int i = 0;\n",
    "dynamic d = i;\n",
    "Console.WriteLine(\"{0}，{1}\", i, d);\n",
    "\n",
    "// 字符串（String）类型\n",
    "// 字符串的前面可以加 @（称作\"逐字字符串\"）将转义字符（\\）当作普通字符对待\n",
    "string str1 = @\"C:\\Windows\";\n",
    "string str2 = @\"C:\\\\Windows\";\n",
    "Console.WriteLine(\"{0}\\n{1}\", str1, str2);\n",
    "\n",
    "// @ 字符串中可以任意换行，换行符及缩进空格都计算在字符串长度之内。\n",
    "string str = @\"<script type=\"\"text/javascript\"\">\n",
    "    <!--\n",
    "    -->\n",
    "</script>\";\n",
    "Console.WriteLine(str);"
   ]
  },
  {
   "cell_type": "code",
   "execution_count": null,
   "metadata": {
    "dotnet_interactive": {
     "language": "csharp"
    },
    "vscode": {
     "languageId": "dotnet-interactive.csharp"
    }
   },
   "outputs": [],
   "source": [
    "// 引用类型，声明一个引用类型的时候，首先是在“堆”中开辟一个内存空间来存放对应的值，\n",
    "// 然后在“栈”中开辟一个内存空间用于保存在“堆”中开辟的内存空间的地址。当系统调用引用类型的时候，\n",
    "// 首先去“栈”中获取到地址，然后根据地址在“堆”中找到对应的内存空间来获取到对应值。\n",
    "\n",
    "string[] a1 = { \"a\" , \"b\" , \"c\" };\n",
    "string[] a2 = a1;\n",
    "for (int i = 0; i < a2.Length; i++)\n",
    "{\n",
    "    Console.Write(a2[i] + \" \");    //a b c\n",
    "}\n",
    "a1[2] = \"d\";\n",
    "Console.WriteLine();            \n",
    "for (int i = 0; i < a2.Length; i++)\n",
    "{\n",
    "    Console.Write(a2[i] + \" \");    //a b d\n",
    "}\n",
    "Console.WriteLine(); "
   ]
  },
  {
   "cell_type": "markdown",
   "metadata": {},
   "source": [
    "## **指针类型（Pointer types）**"
   ]
  },
  {
   "cell_type": "code",
   "execution_count": null,
   "metadata": {
    "dotnet_interactive": {
     "language": "csharp"
    },
    "vscode": {
     "languageId": "dotnet-interactive.csharp"
    }
   },
   "outputs": [],
   "source": [
    "// 当一个代码块使用 unsafe 修饰符标记时，C# 允许在函数中使用指针变量。\n",
    "// 不安全代码或非托管代码是指使用了指针变量的代码块。\n",
    "using static System.Console;\n",
    "unsafe\n",
    "{\n",
    "    int var = 20;\n",
    "    int* p = &var;\n",
    "    WriteLine(\"Data is: {0} \",  var);\n",
    "    WriteLine(\"Data is: {0} \" , p->ToString());\n",
    "    WriteLine(\"Address is: {0:X2}\",  (int)p);\n",
    "}"
   ]
  },
  {
   "cell_type": "code",
   "execution_count": null,
   "metadata": {
    "dotnet_interactive": {
     "language": "csharp"
    },
    "vscode": {
     "languageId": "dotnet-interactive.csharp"
    }
   },
   "outputs": [],
   "source": [
    "// 传递指针作为函数/方法的参数\n",
    "using static System.Console;\n",
    "\n",
    "unsafe void swap(int* p, int* q)\n",
    "{\n",
    "    int temp = *p;\n",
    "    *p = *q;\n",
    "    *q = temp;\n",
    "}\n",
    "\n",
    "unsafe\n",
    "{\n",
    "    int var1 = 10;\n",
    "    int var2 = 20;\n",
    "    int* x = &var1;\n",
    "    int* y = &var2;\n",
    "\n",
    "    WriteLine(\"Before Swap: var1:{0}, var2: {1}\", var1, var2);\n",
    "    swap(x, y);\n",
    "    WriteLine(\"After Swap: var1:{0}, var2: {1}\", var1, var2);\n",
    "}"
   ]
  },
  {
   "cell_type": "code",
   "execution_count": null,
   "metadata": {
    "dotnet_interactive": {
     "language": "csharp"
    },
    "vscode": {
     "languageId": "dotnet-interactive.csharp"
    }
   },
   "outputs": [],
   "source": [
    "// 使用指针访问数组元素\n",
    "using static System.Console;\n",
    "unsafe\n",
    "{\n",
    "    int[] list = {10, 100, 200};\n",
    "    // 由于C#中声明的变量在内存中的存储受垃圾回收器管理；\n",
    "    // 因此一个变量（例如一个大数组）有可能在运行过程中被移动到内存中的其他位置。\n",
    "    // 如果一个变量的内存地址会变化，那么指针也就没有意义了。\n",
    "    // 解决方法就是使用fixed关键字来固定变量位置不移动。\n",
    "    fixed(int *ptr = list)\n",
    "\n",
    "    /* 显示指针中数组地址 */\n",
    "    for (int i = 0; i < list.Length; i++)\n",
    "    {\n",
    "        WriteLine(\"Value of list[{0}] = {1}\", i, *(ptr + i));\n",
    "        WriteLine(\"Address of list[{0}] = {1:X2}\", i, (int)(ptr + i));\n",
    "    }\n",
    "    WriteLine();\n",
    "    // 在unsafe不安全环境中，我们还可以通过stackalloc在堆栈上分配内存，\n",
    "    // 因为在堆栈上分配的内存不受内存管理器管理，因此其相应的指针不需要固定。\n",
    "    int *ptr2 = stackalloc int[3];\n",
    "    for (int i = 0; i < 3; i++)\n",
    "    {\n",
    "        WriteLine(\"Value of list[{0}] = {1}\", i, *(ptr2 + i));\n",
    "        WriteLine(\"Address of list[{0}] = {1:X2}\", i, (int)(ptr2 + i));\n",
    "    }\n",
    "}"
   ]
  },
  {
   "cell_type": "markdown",
   "metadata": {},
   "source": [
    "## **类型转换**\n",
    "**隐式类型转换** - 这些转换是 C# 默认的以安全方式进行的转换, 不会导致数据丢失。例如，从小的整数类型转换为大的整数类型，从派生类转换为基类。  \n",
    "\n",
    "**显式类型转换** - 显式类型转换，即强制类型转换。显式转换需要强制转换运算符，而且强制转换会造成数据丢失。  "
   ]
  },
  {
   "cell_type": "markdown",
   "metadata": {},
   "source": [
    "|  函数  |  描述  |\n",
    "|  ----  | ----  |\n",
    "|<font size=3 color=52ff70>**ToType( )**</font>|把类型转换为指定类型。|\n",
    "|<font size=3 color=52ff70>**ToBoolean( )**</font>|如果可能的话，把类型转换为布尔型。|\n",
    "|<font size=3 color=52ff70>**ToByte( )**</font>|把类型转换为字节类型。|\n",
    "|<font size=3 color=52ff70>**ToChar( )**</font>|如果可能的话，把类型转换为单个 Unicode 字符类型。|\n",
    "|<font size=3 color=52ff70>**ToDateTime( )**</font>|把类型（整数或字符串类型）转换为 日期-时间 结构。|\n",
    "|<font size=3 color=52ff70>**ToDecimal( )**</font>|把浮点型或整数类型转换为十进制类型。|\n",
    "|<font size=3 color=52ff70>**ToDouble( )**</font>|把类型转换为双精度浮点型。|\n",
    "|<font size=3 color=52ff70>**ToInt16( )**</font>|把类型转换为 16 位整数类型。|\n",
    "|<font size=3 color=52ff70>**ToInt32( )**</font>|把类型转换为 32 位整数类型。|\n",
    "|<font size=3 color=52ff70>**ToInt64( )**</font>|把类型转换为 64 位整数类型。|\n",
    "|<font size=3 color=52ff70>**ToSbyte( )**</font>|把类型转换为有符号字节类型。|\n",
    "|<font size=3 color=52ff70>**ToSingle( )**</font>|把类型转换为小浮点数类型。|\n",
    "|<font size=3 color=52ff70>**ToString( )**</font>|把类型转换为字符串类型。|\n",
    "|<font size=3 color=52ff70>**ToUInt16( )**</font>|把类型转换为 16 位无符号整数类型。|\n",
    "|<font size=3 color=52ff70>**ToUInt32( )**</font>|把类型转换为 32 位无符号整数类型。|\n",
    "|<font size=3 color=52ff70>**ToUInt64( )**</font>|把类型转换为 64 位无符号整数类型。|"
   ]
  },
  {
   "cell_type": "code",
   "execution_count": null,
   "metadata": {
    "dotnet_interactive": {
     "language": "csharp"
    },
    "vscode": {
     "languageId": "dotnet-interactive.csharp"
    }
   },
   "outputs": [],
   "source": [
    "// 把不同值的类型转换为字符串类型\n",
    "using static System.Console;\n",
    "int i = 75;\n",
    "float f = 53.005f;\n",
    "double d = 2345.7652d;\n",
    "bool b = true;\n",
    "\n",
    "Console.WriteLine(i.ToString());\n",
    "Console.WriteLine(f.ToString());\n",
    "Console.WriteLine(d.ToString());\n",
    "Console.WriteLine(b.ToString());"
   ]
  },
  {
   "cell_type": "code",
   "execution_count": null,
   "metadata": {
    "dotnet_interactive": {
     "language": "csharp"
    },
    "vscode": {
     "languageId": "dotnet-interactive.csharp"
    }
   },
   "outputs": [],
   "source": [
    "// 中对 double 类型的数据取整，可以使用 convert.ToInt32() 方法，\n",
    "// 也可使用 int 强制转换为整数，使用 int 时并不存在四舍五入的情况，而是直接将后面的小数位数丢掉\n",
    "using static System.Console;\n",
    "double a = 1.35;\n",
    "double b = 1.65;\n",
    "int a1 = Convert.ToInt32(a);\n",
    "int a2 = (int)(a);\n",
    "int b1 = Convert.ToInt32(b);\n",
    "int b2 = (int)(b);\n",
    "Console.WriteLine(\"{0}使用convert方法转化的结果为：{1}\",a,a1);\n",
    "Console.WriteLine(\"{0}使用int强制转换的结果为：{1}\",a,a2);\n",
    "Console.WriteLine(\"{0}使用convert方法转化的结果为：{1}\", b, b1);\n",
    "Console.WriteLine(\"{0}使用int强制转换的结果为：{1}\", b, b2);\n",
    "\n",
    "// Convert.ToInt32() 与 int.Parse() 的区别\n",
    "// Convert.ToInt32(null) 会返回 0 而不会产生任何异常\n",
    "// 但 int.Parse(null) 则会产生异常。int.Parse 只能转换数字类型的字符串。"
   ]
  },
  {
   "cell_type": "code",
   "execution_count": null,
   "metadata": {
    "dotnet_interactive": {
     "language": "csharp"
    },
    "vscode": {
     "languageId": "dotnet-interactive.csharp"
    }
   },
   "outputs": [],
   "source": [
    "// int.TryParse 与 int.Parse 又较为类似，但它不会产生异常，\n",
    "// 转换成功返回 true，转换失败返回 false。最后一个参数为输出值，如果转换失败，输出值为 0。\n",
    "using static System.Console;\n",
    "string s1 = \"abcd\";\n",
    "string s2 = \"1234\";\n",
    "int a, b;\n",
    "bool bo1 = int.TryParse(s1, out a);\n",
    "Console.WriteLine(s1 + \" \" + bo1 + \" \" + a);\n",
    "bool bo2 = int.TryParse(s2, out b);\n",
    "Console.WriteLine(s2 + \" \" + bo2 + \" \" + b);\n",
    "\n",
    "int m; \n",
    "// 返回true ,运行{}内，并给m赋值为2；\n",
    "if (int.TryParse(\"2\", out m))\n",
    "{\n",
    "    WriteLine(\"DO SOMETHING\");\n",
    "}\n",
    "WriteLine(m);\n",
    "// 返回false,不运行if{}内，并给m赋值为0；\n",
    "if (int.TryParse(\"ddd\", out m))\n",
    "{\n",
    "    // NOT EXECUTE\n",
    "}\n",
    "WriteLine(m);"
   ]
  },
  {
   "cell_type": "code",
   "execution_count": null,
   "metadata": {
    "dotnet_interactive": {
     "language": "csharp"
    },
    "vscode": {
     "languageId": "dotnet-interactive.csharp"
    }
   },
   "outputs": [],
   "source": [
    "// 为了保险，可以用try、catch来解决转换异常问题\n",
    "while(true)\n",
    "{\n",
    "    try\n",
    "    {\n",
    "        Console.WriteLine(\"输入数字，将计算出它加一的答案\");\n",
    "        int a = int.Parse(Console.ReadLine());   //有可能会抛出异常\n",
    "        Console.WriteLine(\"答案是{0}\",++a);   //如果没有异常，程序才会进入这一步\n",
    "    }\n",
    "    catch (Exception)\n",
    "    {\n",
    "        Console.WriteLine(\"无法转换\");  //如果捕获到异常，就说“无法转换”\n",
    "    }\n",
    "}"
   ]
  },
  {
   "cell_type": "markdown",
   "metadata": {},
   "source": [
    "## **foreach LOOP**"
   ]
  },
  {
   "cell_type": "code",
   "execution_count": null,
   "metadata": {
    "dotnet_interactive": {
     "language": "csharp"
    },
    "vscode": {
     "languageId": "dotnet-interactive.csharp"
    }
   },
   "outputs": [],
   "source": [
    "int[] fibarray = new int[] { 0, 1, 1, 2, 3, 5, 8, 13 };\n",
    "int count = 0;\n",
    "foreach (int element in fibarray)\n",
    "{\n",
    "    count += 1;\n",
    "    Console.WriteLine(\"Element #{0}: {1}\", count, element);\n",
    "}\n",
    "Console.WriteLine(\"Number of elements in the array: {0}\", count);"
   ]
  },
  {
   "cell_type": "markdown",
   "metadata": {},
   "source": [
    "## **方法**"
   ]
  },
  {
   "cell_type": "code",
   "execution_count": null,
   "metadata": {
    "dotnet_interactive": {
     "language": "csharp"
    },
    "vscode": {
     "languageId": "dotnet-interactive.csharp"
    }
   },
   "outputs": [],
   "source": [
    "// 按引用传递参数, 使用 ref 关键字声明引用参数\n",
    "void swap(ref int x, ref int y)\n",
    "{\n",
    "    int temp;\n",
    "\n",
    "    temp = x; /* 保存 x 的值 */\n",
    "    x = y;    /* 把 y 赋值给 x */\n",
    "    y = temp; /* 把 temp 赋值给 y */\n",
    "}\n",
    "\n",
    "int a = 111;\n",
    "int b = 222;\n",
    "\n",
    "Console.WriteLine(\"在交换之前，a 的值: {0}, 在交换之前，b 的值: {1}\", a, b);\n",
    "swap(ref a, ref b);\n",
    "Console.WriteLine(\"在交换之后，a 的值: {0}, 在交换之前，b 的值: {1}\", a, b);"
   ]
  },
  {
   "cell_type": "code",
   "execution_count": null,
   "metadata": {
    "dotnet_interactive": {
     "language": "csharp"
    },
    "vscode": {
     "languageId": "dotnet-interactive.csharp"
    }
   },
   "outputs": [],
   "source": [
    "// 按输出传递参数\n",
    "// return 语句可用于只从函数中返回一个值。但是，可以使用输出参数来从函数中返回多个值。\n",
    "// 输出参数会把方法输出的数据赋给自己，其他方面与引用参数相似。\n",
    "// out型数据在方法中必须要赋值，否则编译器会报错。\n",
    "int getValues(out int x, out int y, out int z)\n",
    "{\n",
    "    x = 10;\n",
    "    y = 20;\n",
    "    z = 30;\n",
    "    return 0;\n",
    "}\n",
    "\n",
    "int a , b, c;\n",
    "int r = getValues(out a, out b, out c);\n",
    "Console.WriteLine(\"在方法调用之后，a 的值: {0}\", a);\n",
    "Console.WriteLine(\"在方法调用之后，b 的值: {0}\", b);\n",
    "Console.WriteLine(\"在方法调用之后，b 的值: {0}\", c);\n",
    "Console.WriteLine(\"在方法调用之后，返回的值: {0}\", r);"
   ]
  },
  {
   "cell_type": "markdown",
   "metadata": {},
   "source": [
    "## **可空类型（Nullable）**"
   ]
  },
  {
   "cell_type": "code",
   "execution_count": null,
   "metadata": {
    "dotnet_interactive": {
     "language": "csharp"
    },
    "vscode": {
     "languageId": "dotnet-interactive.csharp"
    }
   },
   "outputs": [],
   "source": [
    "// ? 单问号用于对 int、double、bool 等无法直接赋值为 null 的数据类型进行 null 的赋值，\n",
    "// 意思是这个数据类型是 Nullable 类型的。\n",
    "// 可空类型可以表示其基础值类型正常范围内的值，再加上一个 null 值。\n",
    "// 默认值null\n",
    "int? i = 3; \n",
    "// 等同于：\n",
    "Nullable<int> ii = new Nullable<int>(3);\n",
    "i = null;\n",
    "Console.WriteLine(ii);"
   ]
  },
  {
   "cell_type": "code",
   "execution_count": null,
   "metadata": {
    "dotnet_interactive": {
     "language": "csharp"
    },
    "vscode": {
     "languageId": "dotnet-interactive.csharp"
    }
   },
   "outputs": [],
   "source": [
    "// Null 合并运算符（ ?? ）\n",
    "// 如果第一个操作数的值为 null，则运算符返回第二个操作数的值，否则返回第一个操作数的值。\n",
    "double? num1 = null;\n",
    "double? num2 = 3.14157;\n",
    "double num3;\n",
    "num3 = num1 ?? 5.34;\n",
    "Console.WriteLine(\"num3 的值: {0}\", num3);\n",
    "num3 = num2 ?? 5.34;\n",
    "Console.WriteLine(\"num3 的值: {0}\", num3);"
   ]
  },
  {
   "cell_type": "markdown",
   "metadata": {},
   "source": [
    "## **数组**"
   ]
  },
  {
   "cell_type": "code",
   "execution_count": null,
   "metadata": {
    "dotnet_interactive": {
     "language": "csharp"
    },
    "vscode": {
     "languageId": "dotnet-interactive.csharp"
    }
   },
   "outputs": [],
   "source": [
    "using static System.Console;\n",
    "// 初始化数组, new 关键字来创建数组的实例。 指定大小，也可以省略数组的大小\n",
    "int[] marks = new int[5]  { 99,  98, 92, 97, 95};\n",
    "foreach (int i in marks) Write(i + \" \");\n",
    "WriteLine();\n",
    "\n",
    "// 或者在声明数组的同时直接给数组赋值\n",
    "int[] balance = {1,2,3};\n",
    "foreach (int i in balance) Write(i + \" \");\n",
    "WriteLine();\n",
    "\n",
    "// 当您创建一个数组时，C# 编译器会根据数组类型隐式初始化每个数组元素为一个默认值。\n",
    "// 例如，int 数组的所有元素都会被初始化为 0。\n",
    "int[] _default = new int[5];\n",
    "foreach (int i in _default) Write(i + \" \");\n"
   ]
  },
  {
   "cell_type": "code",
   "execution_count": null,
   "metadata": {
    "dotnet_interactive": {
     "language": "csharp"
    },
    "vscode": {
     "languageId": "dotnet-interactive.csharp"
    }
   },
   "outputs": [],
   "source": [
    "// 矩形数组\n",
    "// 每一行元素数量都是一样的\n",
    "int [,] a = new int [3,4] {\n",
    "    {0, 1, 2, 3} ,\n",
    "    {4, 5, 6, 7} ,\n",
    "    {8, 9, 10, 11}\n",
    "};\n",
    "WriteLine(a[1,2]);\n",
    "foreach (int i in a) Write(i + \" \");"
   ]
  },
  {
   "cell_type": "code",
   "execution_count": null,
   "metadata": {
    "dotnet_interactive": {
     "language": "csharp"
    },
    "vscode": {
     "languageId": "dotnet-interactive.csharp"
    }
   },
   "outputs": [],
   "source": [
    "// 交错数组\n",
    "int[][] scores = new int[2][]{new int[]{92,93,94}, new int[]{85,66,87,88}};\n",
    "foreach(int[] i in scores)\n",
    "{\n",
    "    foreach(int j in i)\n",
    "    {\n",
    "        Write(j + \" \");\n",
    "    }\n",
    "    WriteLine();\n",
    "}"
   ]
  },
  {
   "cell_type": "code",
   "execution_count": null,
   "metadata": {
    "dotnet_interactive": {
     "language": "csharp"
    },
    "vscode": {
     "languageId": "dotnet-interactive.csharp"
    }
   },
   "outputs": [],
   "source": [
    "// 参数数组\n",
    "// 有时，当声明一个方法时，您不能确定要传递给函数作为参数的参数数目。\n",
    "// C# 参数数组解决了这个问题，参数数组通常用于传递未知数量的参数给函数。\n",
    "// 不允许和 ref、out 同时使用\n",
    "class ParamArray\n",
    "{\n",
    "    public int AddElements(params int[] arr)\n",
    "    {\n",
    "        int sum = 0;\n",
    "        foreach (int i in arr) sum += i;\n",
    "        return sum;\n",
    "    }\n",
    "}\n",
    "    \n",
    "ParamArray app = new ParamArray();\n",
    "int sum = app.AddElements(512, 720, 250, 567, 889);\n",
    "Console.WriteLine(\"总和是: {0}\", sum);"
   ]
  },
  {
   "cell_type": "code",
   "execution_count": null,
   "metadata": {
    "dotnet_interactive": {
     "language": "csharp"
    },
    "vscode": {
     "languageId": "dotnet-interactive.csharp"
    }
   },
   "outputs": [],
   "source": [
    "// 数组的常用函数\n",
    "using static System.Console;\n",
    "int[] list = { 34, 72, 13, 44, 25, 30, 10 };\n",
    "Write(\"原始数组: \");\n",
    "foreach (int i in list) Write(i + \" \");\n",
    "WriteLine();\n",
    "\n",
    "Array.Reverse(list);\n",
    "Write(\"逆转数组: \");\n",
    "foreach (int i in list) Write(i + \" \");\n",
    "WriteLine();\n",
    "\n",
    "// 仅支持一维数组。\n",
    "Array.Sort(list);\n",
    "Write(\"排序数组: \");\n",
    "foreach (int i in list) Write(i + \" \");\n",
    "WriteLine();"
   ]
  },
  {
   "cell_type": "markdown",
   "metadata": {},
   "source": [
    "## **字符串（String）**"
   ]
  },
  {
   "cell_type": "code",
   "execution_count": null,
   "metadata": {
    "dotnet_interactive": {
     "language": "csharp"
    },
    "vscode": {
     "languageId": "dotnet-interactive.csharp"
    }
   },
   "outputs": [],
   "source": [
    "// string.Format格式化日期\n",
    "DateTime dt = new DateTime(2017, 4, 1, 13, 16, 32, 108);\n",
    "string.Format(\"{0:y yy yyy yyyy}\", dt); //17 17 2017 2017\n",
    "string.Format(\"{0:M MM MMM MMMM}\", dt); //4  04 四月 四月\n",
    "string.Format(\"{0:d dd ddd dddd}\", dt); //1  01 周六 星期六\n",
    "string.Format(\"{0:t tt}\", dt);          //下 下午\n",
    "string.Format(\"{0:H HH}\", dt);          //13 13\n",
    "string.Format(\"{0:h hh}\", dt);          //1  01\n",
    "string.Format(\"{0:m mm}\", dt);          //16 16\n",
    "string.Format(\"{0:s ss}\", dt);          //32 32\n",
    "string.Format(\"{0:F FF FFF FFFF FFFFF FFFFFF FFFFFFF}\", dt);//1 1  108 108  108   108    108\n",
    "string.Format(\"{0:f ff fff ffff fffff ffffff fffffff}\", dt);//1 10 108 1080 10800 108000 1080000\n",
    "string.Format(\"{0:z zz zzz}\", dt);      //+8 +08 +08:00\n",
    "string.Format(\"{0:yyyy/MM/dd HH:mm:ss.fff}\",dt);   //2017/04/01 13:16:32.108\n",
    "string.Format(\"{0:yyyy/MM/dd dddd}\", dt);          //2017/04/01 星期六\n",
    "string.Format(\"{0:yyyy/MM/dd dddd tt hh:mm}\", dt); //2017/04/01 星期六 下午 01:16\n",
    "string.Format(\"{0:yyyyMMdd}\", dt);                 //20170401\n",
    "string.Format(\"{0:yyyy-MM-dd HH:mm:ss.fff}\", dt);  //2017-04-01 13:16:32.108\n",
    "\n",
    "// 除string.Format()可以对日期进行格式化之外，*.ToString()也可以实现相同的效果\n",
    "DateTime dt2 = new DateTime(2017,4,1,13,16,32,108);\n",
    "dt2.ToString(\"y yy yyy yyyy\");//17 17 2017 2017\n",
    "dt2.ToString(\"M MM MMM MMMM\");//4  04 四月 四月\n",
    "dt2.ToString(\"d dd ddd dddd\");//1  01 周六 星期六\n",
    "// 剩下的都是同上"
   ]
  },
  {
   "cell_type": "markdown",
   "metadata": {},
   "source": [
    "## **结构体（Struct）**"
   ]
  },
  {
   "cell_type": "code",
   "execution_count": null,
   "metadata": {
    "dotnet_interactive": {
     "language": "csharp"
    },
    "vscode": {
     "languageId": "dotnet-interactive.csharp"
    }
   },
   "outputs": [],
   "source": [
    "// 结构可带有方法、字段、索引、属性、运算符方法和事件。\n",
    "// 结构成员不能指定为 abstract、virtual 或 protected。\n",
    "struct Books\n",
    "{\n",
    "    public string title;\n",
    "    public string author;\n",
    "    public string subject;\n",
    "    public int    book_id;\n",
    "    public void setValues(string t, string a, string s, int id)\n",
    "    {\n",
    "        title   = t;\n",
    "        author  = a;\n",
    "        subject = s;\n",
    "        book_id = id;\n",
    "    }\n",
    "    public void display()\n",
    "    {\n",
    "        Console.WriteLine(\"Title   : {0}\", title);\n",
    "        Console.WriteLine(\"Author  : {0}\", author);\n",
    "        Console.WriteLine(\"Subject : {0}\", subject);\n",
    "        Console.WriteLine(\"Book_id : {0}\", book_id);\n",
    "    }\n",
    "}; \n",
    "\n",
    "Books Book1 = new Books(); \n",
    "Book1.setValues(\"C Programming\", \"Nuha Ali\", \"C Programming Tutorial\", 6495407);\n",
    "Book1.display();"
   ]
  },
  {
   "cell_type": "markdown",
   "metadata": {},
   "source": [
    "## **枚举（Enum）**"
   ]
  },
  {
   "cell_type": "code",
   "execution_count": null,
   "metadata": {
    "dotnet_interactive": {
     "language": "csharp"
    },
    "vscode": {
     "languageId": "dotnet-interactive.csharp"
    }
   },
   "outputs": [],
   "source": [
    "enum Day { Sun, Mon, Tue, Wed, Thu, Fri, Sat };\n",
    "int x = (int)Day.Sun;\n",
    "int y = (int)Day.Fri;\n",
    "Console.WriteLine(\"Sun = {0}\", x);\n",
    "Console.WriteLine(\"Fri = {0}\", y);"
   ]
  },
  {
   "cell_type": "code",
   "execution_count": null,
   "metadata": {
    "dotnet_interactive": {
     "language": "csharp"
    },
    "vscode": {
     "languageId": "dotnet-interactive.csharp"
    }
   },
   "outputs": [],
   "source": [
    "// 枚举体在给数组中具体标号位置给予含义是使用，可以使程序更容易读懂和修改。\n",
    "enum len { Length, width, height };\n",
    "int[] parameter = new int[3] {1,5,8};\n",
    "Console.WriteLine(\"Length: {0}\", parameter[(int)len.Length]);\n",
    "Console.WriteLine(\"width: {0}\", parameter[(int)len.width]);\n",
    "Console.WriteLine(\"height: {0}\", parameter[(int)len.height]);"
   ]
  },
  {
   "cell_type": "markdown",
   "metadata": {},
   "source": [
    "## **封装**\n",
    "访问修饰符 定义了一个类成员的范围和可见性。C# 支持的访问修饰符如下所示：  \n",
    "- **public**：所有对象都可以访问；\n",
    "- **private**：对象本身在对象内部可以访问；\n",
    "- **protected**：只有该类对象及其子类对象可以访问\n",
    "- **internal**：同一个程序集的对象可以访问；\n",
    "- **protected internal**：访问限于当前程序集或派生自包含类的类型。  \n",
    "\n",
    "如果没有指定访问修饰符，则使用类成员的默认访问修饰符，即为 private。"
   ]
  },
  {
   "cell_type": "markdown",
   "metadata": {},
   "source": [
    "<img src=\"https://www.runoob.com/wp-content/uploads/2014/04/csharp-public.png\" width=\"30%\">  "
   ]
  },
  {
   "cell_type": "markdown",
   "metadata": {},
   "source": [
    "## **类（Class）**"
   ]
  },
  {
   "cell_type": "code",
   "execution_count": null,
   "metadata": {
    "dotnet_interactive": {
     "language": "csharp"
    },
    "vscode": {
     "languageId": "dotnet-interactive.csharp"
    }
   },
   "outputs": [],
   "source": [
    "// 当你定义一个类时，你定义了一个数据类型的蓝图。这实际上并没有定义任何的数据，\n",
    "// 但它定义了类的名称意味着什么，也就是说，类的对象由什么组成及在这个对象上可执行什么操作。\n",
    "// 对象是类的实例。构成类的方法和变量称为类的成员。\n",
    "class Box\n",
    "{\n",
    "    private double length, breadth, height;\n",
    "    // 构造函数是类的一个特殊的成员函数，当创建类的新对象时执行。\n",
    "    // 构造函数的名称与类的名称完全相同，它没有任何返回类型。\n",
    "    public Box()\n",
    "    {\n",
    "        Console.WriteLine(\"新对象已创建\");\n",
    "        length = 1;\n",
    "        breadth = 1;\n",
    "        height = 1;\n",
    "    }\n",
    "    // 析构函数 是类的一个特殊的成员函数，当类的对象超出范围时执行。 因为有垃圾回收机制所以很少使用\n",
    "    // 析构函数的名称是在类的名称前加上一个波浪形（~）作为前缀，它不返回值，也不带任何参数。\n",
    "    // 析构函数用于在结束程序（比如关闭文件、释放内存等）之前释放资源。析构函数不能继承或重载。\n",
    "    ~Box() \n",
    "    {\n",
    "        Console.WriteLine(\"对象已删除\");\n",
    "    }\n",
    "    public void setValue( double len, double bre, double hei )\n",
    "    {\n",
    "        length = len;\n",
    "        breadth = bre;\n",
    "        height = hei;\n",
    "    }\n",
    "    public double getVolume()\n",
    "    {\n",
    "        return length * breadth * height;\n",
    "    }\n",
    "}\n",
    "\n",
    "Box Box1 = new Box();\n",
    "Console.WriteLine(\"Box1 的体积: {0}\" , Box1.getVolume());\n",
    "Box1.setValue(6.0, 7.0, 5.0);\n",
    "Console.WriteLine(\"Box1 的体积: {0}\" , Box1.getVolume());"
   ]
  },
  {
   "cell_type": "code",
   "execution_count": null,
   "metadata": {
    "dotnet_interactive": {
     "language": "csharp"
    },
    "vscode": {
     "languageId": "dotnet-interactive.csharp"
    }
   },
   "outputs": [],
   "source": [
    "// 我们可以使用 static 关键字把类成员定义为静态的。当我们声明一个类成员为静态时，\n",
    "// 意味着无论有多少个类的对象被创建，只会有一个该静态成员的副本。一般用于定义常量\n",
    "// 静态变量可在成员函数或类的定义外部进行初始化。你也可以在类的定义内部初始化静态变量。\n",
    "class StaticVar\n",
    "{\n",
    "    public static int num;\n",
    "    public void count()\n",
    "    {\n",
    "        num++;\n",
    "    }\n",
    "    public int getNum()\n",
    "    {\n",
    "        return num;\n",
    "    }\n",
    "}\n",
    "    \n",
    "StaticVar s1 = new StaticVar();\n",
    "StaticVar s2 = new StaticVar();\n",
    "s1.count();\n",
    "s1.count();\n",
    "s2.count();\n",
    "s2.count();\n",
    "Console.WriteLine(\"s1 的变量 num: {0}\", s1.getNum());\n",
    "Console.WriteLine(\"s2 的变量 num: {0}\", s2.getNum());"
   ]
  },
  {
   "cell_type": "code",
   "execution_count": null,
   "metadata": {
    "dotnet_interactive": {
     "language": "csharp"
    },
    "vscode": {
     "languageId": "dotnet-interactive.csharp"
    }
   },
   "outputs": [],
   "source": [
    "// 你也可以把一个成员函数声明为 static。这样的函数只能访问静态变量。\n",
    "// 静态函数在对象被创建之前就已经存在, 无需实例化即可调用类成员函数\n",
    "class StaticVar\n",
    "{\n",
    "    public static int num;\n",
    "    public void count()\n",
    "    {\n",
    "        num++;\n",
    "    }\n",
    "    public static int getNum()\n",
    "    {\n",
    "        return num;\n",
    "    }\n",
    "}\n",
    "\n",
    "StaticVar s = new StaticVar();\n",
    "s.count();\n",
    "s.count();                \n",
    "Console.WriteLine(\"变量 num: {0}\", StaticVar.getNum());"
   ]
  },
  {
   "cell_type": "markdown",
   "metadata": {},
   "source": [
    "## **继承**\n",
    "继承是面向对象程序设计中最重要的概念之一。继承允许我们根据一个类来定义另一个类，  \n",
    "这使得创建和维护应用程序变得更容易。同时也有利于重用代码和节省开发时间。  \n",
    "\n",
    "当创建一个类时，程序员不需要完全重新编写新的数据成员和成员函数，只需要设计一个新的类，  \n",
    "继承了已有的类的成员即可。这个已有的类被称为的基类，这个新的类被称为派生类。   \n",
    "\n",
    "继承的思想实现了 属于（IS-A）关系  "
   ]
  },
  {
   "cell_type": "code",
   "execution_count": null,
   "metadata": {
    "dotnet_interactive": {
     "language": "csharp"
    },
    "vscode": {
     "languageId": "dotnet-interactive.csharp"
    }
   },
   "outputs": [],
   "source": [
    "// 基类\n",
    "class Shape\n",
    "{\n",
    "    protected int width;\n",
    "    protected int height;\n",
    "    public void setWidthAndHeight(int w, int h)\n",
    "    {\n",
    "        width = w;\n",
    "        height = h;\n",
    "    }\n",
    "}\n",
    "// 派生类\n",
    "class Rectangle: Shape\n",
    "{\n",
    "    public int getArea()\n",
    "    {\n",
    "        return width * height;\n",
    "    }\n",
    "}\n",
    "\n",
    "Rectangle Rect = new Rectangle();\n",
    "Rect.setWidthAndHeight(5, 7);\n",
    "Console.WriteLine(\"总面积: {0}\", Rect.getArea());"
   ]
  },
  {
   "cell_type": "code",
   "execution_count": null,
   "metadata": {
    "dotnet_interactive": {
     "language": "csharp"
    },
    "vscode": {
     "languageId": "dotnet-interactive.csharp"
    }
   },
   "outputs": [],
   "source": [
    "// 基类的初始化\n",
    "// 派生类继承了基类的成员变量和成员方法。因此父类对象应在子类对象创建之前被创建。\n",
    "// 您可以在成员初始化列表中进行父类的初始化\n",
    "class Rectangle\n",
    "{\n",
    "    protected double length;\n",
    "    protected double width;\n",
    "    public Rectangle(double l, double w)\n",
    "    {\n",
    "        length = l;\n",
    "        width = w;\n",
    "    }\n",
    "    public double GetArea()\n",
    "    {\n",
    "        return length * width;\n",
    "    }\n",
    "    public void Display()\n",
    "    {\n",
    "        Console.WriteLine(\"长度: {0}\", length);\n",
    "        Console.WriteLine(\"宽度: {0}\", width);\n",
    "        Console.WriteLine(\"面积: {0}\", GetArea());\n",
    "    }\n",
    "}\n",
    "class Tabletop : Rectangle\n",
    "{\n",
    "    private double cost;\n",
    "    public Tabletop(double l, double w) : base(l, w)\n",
    "    { }\n",
    "    public double GetCost()\n",
    "    {\n",
    "        cost = GetArea() * 70;\n",
    "        return cost;\n",
    "    }\n",
    "    new public void Display()\n",
    "    {\n",
    "        base.Display();\n",
    "        Console.WriteLine(\"成本: {0}\", GetCost());\n",
    "    }\n",
    "}\n",
    "\n",
    "Tabletop t = new Tabletop(4.5, 7.5);\n",
    "t.Display();"
   ]
  },
  {
   "cell_type": "code",
   "execution_count": null,
   "metadata": {
    "dotnet_interactive": {
     "language": "csharp"
    },
    "vscode": {
     "languageId": "dotnet-interactive.csharp"
    }
   },
   "outputs": [],
   "source": [
    "// 多重继承\n",
    "// 多重继承指的是一个类别可以同时从多于一个父类继承行为与特征的功能\n",
    "// C# 不支持多重继承。但是，您可以使用接口来实现多重继承\n",
    "\n",
    "// Interface实际上就是一个虚函数列表指针，内部封装的只有函数和属性，\n",
    "// 而且Interface不能实例化只能通过派生(因为没有构造函数)才可以使用。\n",
    "// 这一点和抽象类很类似，可是抽象类是个类，他有方法的实现，\n",
    "// 它所描述的对象是一个无法在现实中具现的对象，但它本身是个类型对象。而接口实际上是一种标准。\n",
    "// 接口是一种约定, 是抽象成员的集合, 接口是引用类型,比抽象更为抽象, 接口里的内容必须实现\n",
    "// 接口没有字段 可以有方法、属性等\n",
    "// 接口本身并不实现任何功能，它只是和声明实现该接口的对象订立一个必须实现哪些行为的契约。\n",
    "class Shape // 基类\n",
    "{\n",
    "    protected int width;\n",
    "    protected int height;\n",
    "    public void setWidthAndHeight(int w, int h)\n",
    "    {\n",
    "        width = w;\n",
    "        height = h;\n",
    "    }\n",
    "}\n",
    "// 通常接口命令以 I 字母开头\n",
    "interface IPaintCost // 接口\n",
    "{\n",
    "    int getCost(int area);\n",
    "}\n",
    "// 派生类\n",
    "class Rectangle : Shape, IPaintCost\n",
    "{\n",
    "    public int getArea()\n",
    "    {\n",
    "        return (width * height);\n",
    "    }\n",
    "    public int getCost(int area)\n",
    "    {\n",
    "        return area * 70;\n",
    "    }\n",
    "}\n",
    "\n",
    "Rectangle Rect = new Rectangle();\n",
    "Rect.setWidthAndHeight(5, 7);\n",
    "int area = Rect.getArea();\n",
    "Console.WriteLine(\"总面积: {0}\", area);\n",
    "Console.WriteLine(\"油漆总成本: ${0}\" , Rect.getCost(area));"
   ]
  },
  {
   "cell_type": "markdown",
   "metadata": {},
   "source": [
    "## **多态性**\n",
    "### **静态多态性**\n",
    "编译时发生函数响应（调用）；  \n",
    "同一个事件发生在不同的对象上会产生不同的结果。  \n",
    "在编译时，函数和对象的连接机制被称为早期绑定，也被称为静态绑定。C# 提供了两种技术来实现**静态多态性**。  \n",
    "分别为：\n",
    "- **函数重载** \n",
    "- **运算符重载**"
   ]
  },
  {
   "cell_type": "markdown",
   "metadata": {},
   "source": [
    "#### **函数重载**"
   ]
  },
  {
   "cell_type": "code",
   "execution_count": null,
   "metadata": {
    "dotnet_interactive": {
     "language": "csharp"
    },
    "vscode": {
     "languageId": "dotnet-interactive.csharp"
    }
   },
   "outputs": [],
   "source": [
    "// 您可以在同一个范围内对相同的函数名有多个定义。函数的定义必须彼此不同, \n",
    "// 不能重载只有返回类型不同的函数声明\n",
    "// 下面的实例演示了几个相同的函数 Add()，用于对不同个数参数进行相加处理：\n",
    "public class TestData  \n",
    "{  \n",
    "    public int Add(int a, int b, int c)  \n",
    "    {  \n",
    "        return a + b + c;  \n",
    "    }  \n",
    "    public int Add(int a, int b)  \n",
    "    {  \n",
    "        return a + b;  \n",
    "    }  \n",
    "}  \n",
    "TestData dataClass = new TestData();\n",
    "int add1 = dataClass.Add(1, 2);  \n",
    "int add2 = dataClass.Add(1, 2, 3);\n",
    "Console.WriteLine(\"add1 :\" + add1);\n",
    "Console.WriteLine(\"add2 :\" + add2);  \n",
    "\n",
    "// 下面的实例演示了几个相同的函数 print()，用于打印不同的数据类型：\n",
    "public class Printdata\n",
    "{\n",
    "    public void print(int i)\n",
    "    {\n",
    "        Console.WriteLine(\"输出整型: {0}\", i );\n",
    "    }\n",
    "    public void print(double f)\n",
    "    {\n",
    "        Console.WriteLine(\"输出浮点型: {0}\" , f);\n",
    "    }\n",
    "    public void print(string s)\n",
    "    {\n",
    "        Console.WriteLine(\"输出字符串: {0}\", s);\n",
    "    }\n",
    "}\n",
    "Printdata p = new Printdata();\n",
    "// 调用 print 来打印整数\n",
    "p.print(1);\n",
    "// 调用 print 来打印浮点数\n",
    "p.print(1.23);\n",
    "// 调用 print 来打印字符串\n",
    "p.print(\"Hello Runoob\");"
   ]
  },
  {
   "cell_type": "markdown",
   "metadata": {},
   "source": [
    "#### **运算符重载**\n",
    "- 重载运算符是具有特殊名称的函数，是通过关键字 operator 后跟运算符的符号来定义的。  \n",
    "- 与其他函数一样，重载运算符有返回类型和参数列表。  \n",
    "- 运算符重载只能采用值参数，不能采用 ref 或 out 参数"
   ]
  },
  {
   "cell_type": "code",
   "execution_count": null,
   "metadata": {
    "dotnet_interactive": {
     "language": "csharp"
    },
    "vscode": {
     "languageId": "dotnet-interactive.csharp"
    }
   },
   "outputs": [],
   "source": [
    "using static System.Console;\n",
    "// 为用户自定义的类 Box 实现了加法运算符（+）。\n",
    "// 它把两个 Box 对象的属性相加，并返回相加后的 Box 对象。\n",
    "class Box\n",
    "{\n",
    "    private double length;      // 长度\n",
    "    private double breadth;     // 宽度\n",
    "    private double height;      // 高度\n",
    "    public double getVolume() { return length * breadth * height; }\n",
    "    public void setLength(double len) { length = len;}\n",
    "    public void setBreadth(double bre) { breadth = bre; }\n",
    "    public void setHeight(double hei) { height = hei; }\n",
    "    public override bool Equals(object obj) {\n",
    "        return this.Equals(obj);\n",
    "    }\n",
    "    public override int GetHashCode() {\n",
    "        return this.GetHashCode();\n",
    "    }\n",
    "    // 重载 + 运算符来把两个 Box 对象相加\n",
    "    public static Box operator + (Box a, Box b)\n",
    "    {\n",
    "        Box box = new Box();\n",
    "        box.length = a.length + b.length;\n",
    "        box.breadth = a.breadth + b.breadth;\n",
    "        box.height = a.height + b.height;\n",
    "        return box;\n",
    "    }\n",
    "    public static bool operator == (Box lhs, Box rhs)\n",
    "    {\n",
    "        bool status = false;\n",
    "        if (lhs.length == rhs.length && lhs.height == rhs.height\n",
    "            && lhs.breadth == rhs.breadth)\n",
    "            status = true;\n",
    "        return status;\n",
    "    }\n",
    "    public static bool operator != (Box lhs, Box rhs)\n",
    "    {\n",
    "        bool status = false;\n",
    "        if (lhs.length != rhs.length || lhs.height != rhs.height\n",
    "            || lhs.breadth != rhs.breadth)\n",
    "            status = true;\n",
    "        return status;\n",
    "    }\n",
    "    public static bool operator < (Box lhs, Box rhs)\n",
    "    {\n",
    "        bool status = false;\n",
    "        if (lhs.length < rhs.length && lhs.height\n",
    "            < rhs.height && lhs.breadth < rhs.breadth)\n",
    "            status = true;\n",
    "        return status;\n",
    "    }\n",
    "    public static bool operator > (Box lhs, Box rhs)\n",
    "    {\n",
    "        bool status = false;\n",
    "        if (lhs.length > rhs.length && lhs.height\n",
    "            > rhs.height && lhs.breadth > rhs.breadth)\n",
    "            status = true;\n",
    "        return status;\n",
    "    }\n",
    "    public static bool operator <= (Box lhs, Box rhs)\n",
    "    {\n",
    "        bool status = false;\n",
    "        if (lhs.length <= rhs.length && lhs.height\n",
    "            <= rhs.height && lhs.breadth <= rhs.breadth)\n",
    "            status = true;\n",
    "        return status;\n",
    "    }\n",
    "    public static bool operator >= (Box lhs, Box rhs)\n",
    "    {\n",
    "        bool status = false;\n",
    "        if (lhs.length >= rhs.length && lhs.height\n",
    "            >= rhs.height && lhs.breadth >= rhs.breadth)\n",
    "            status = true;\n",
    "        return status;\n",
    "    }\n",
    "    public override string ToString()\n",
    "    {\n",
    "        return String.Format(\"({0}, {1}, {2})\", length, breadth, height);\n",
    "    }\n",
    "}\n",
    "Box Box1 = new Box();\n",
    "Box Box2 = new Box();\n",
    "Box Box3 = new Box();\n",
    "Box Box4 = new Box();\n",
    "double volume = 0.0;   \n",
    "Box1.setLength(6.0);\n",
    "Box1.setBreadth(7.0);\n",
    "Box1.setHeight(5.0);\n",
    "Box2.setLength(12.0);\n",
    "Box2.setBreadth(13.0);\n",
    "Box2.setHeight(10.0);\n",
    "\n",
    "// 使用重载的 ToString() 显示两个盒子\n",
    "WriteLine(\"Box1: {0}\", Box1.ToString());\n",
    "WriteLine(\"Box2: {0}\", Box2.ToString());\n",
    "\n",
    "\n",
    "WriteLine(\"Box1 的体积: {0}\", Box1.getVolume());\n",
    "WriteLine(\"Box2 的体积: {0}\", Box2.getVolume());\n",
    "\n",
    "Box3 = Box1 + Box2;\n",
    "WriteLine(\"Box3: {0}\", Box3.ToString());\n",
    "volume = Box3.getVolume();\n",
    "WriteLine(\"Box3 的体积: {0}\", volume);\n",
    "\n",
    "//comparing the boxes\n",
    "if (Box1 > Box2)\n",
    "    WriteLine(\"Box1 大于 Box2\");\n",
    "else\n",
    "    WriteLine(\"Box1 不大于 Box2\");\n",
    "if (Box1 < Box2)\n",
    "    WriteLine(\"Box1 小于 Box2\");\n",
    "else\n",
    "    WriteLine(\"Box1 不小于 Box2\");\n",
    "if (Box1 >= Box2)\n",
    "    WriteLine(\"Box1 大于等于 Box2\");\n",
    "else\n",
    "    WriteLine(\"Box1 不大于等于 Box2\");\n",
    "if (Box1 <= Box2)\n",
    "    WriteLine(\"Box1 小于等于 Box2\");\n",
    "else\n",
    "    WriteLine(\"Box1 不小于等于 Box2\");\n",
    "if (Box1 != Box2)\n",
    "    WriteLine(\"Box1 不等于 Box2\");\n",
    "else\n",
    "    WriteLine(\"Box1 等于 Box2\");\n",
    "Box4 = Box3;\n",
    "if (Box3 == Box4)\n",
    "    WriteLine(\"Box3 等于 Box4\");\n",
    "else\n",
    "    WriteLine(\"Box3 不等于 Box4\");"
   ]
  },
  {
   "cell_type": "markdown",
   "metadata": {},
   "source": [
    "### **动态多态性**\n",
    "运行时发生函数响应。  \n",
    "动态多态性是通过 抽象类 和 虚方法 实现的。"
   ]
  },
  {
   "cell_type": "markdown",
   "metadata": {},
   "source": [
    "#### **抽象类**\n",
    "C# 允许您使用关键字 **`abstract`** 创建抽象类，用于提供接口的部分类的实现。当一个派生类继承自该抽象类时，  \n",
    "实现即完成。抽象类包含抽象方法，抽象方法可被派生类实现。派生类具有更专业的功能。  \n",
    "\n",
    "请注意，下面是有关抽象类的一些规则：  \n",
    "\n",
    "- 您不能创建一个抽象类的实例。\n",
    "- 您不能在一个抽象类外部声明一个抽象方法。\n",
    "- 通过在类定义前面放置关键字 **`sealed`**，可以将类声明为密封类。它不能被继承。抽象类不能被声明为 **`sealed`**。\n",
    "***\n",
    "在C#中 **`INTERFACE`** 与 **`ABSTRACT CLASS`**  的区别  \n",
    "- 一个类可以实现多个 **`interface`** ，但一个类只能继承一个 **`abstract class`**\n",
    "- **`interface`** 强调特定功能的实现，而 **`abstract class`** 强调所属关系。\n",
    "- 尽管 **`interface`** 实现类及 **`abstrct class`** 的子类都必须要实现相应的抽象方法，但实现的形式不同。**`interface`** 中的每一个方法都是抽象方法，都只是声明的(declaration, 没有方法体)，实现类必须要实现。而 **`abstract class`** 的子类可以有选择地实现。这个选择有两点含义：\n",
    "  - 一是 **`Abastract class`** 中并非所有的方法都是抽象的，只有那些冠有 **`abstract`** 的方法才是抽象的，子类必须实现。那些没有 **`abstract`** 的方法，在 **`Abstrct class`** 中必须定义方法体。\n",
    "  - 二是 **`abstract class`** 的子类在继承它时，对非抽象方法既可以直接继承，也可以覆盖；而对抽象方法，可以选择实现，也可以通过再次声明其方法为抽象的方式，无需实现，留给其子类来实现，但此类必须也声明为抽象类。既是抽象类，当然也不能实例化。\n",
    "- **`abstract class`** 在 **`interface`** 及Class中起到了承上启下的作用。一方面，**`abstract class`** 是抽象的，可以声明抽象方法，以规范子类必须实现的功能；另一方面，它又可以定义缺省的方法体，供子类直接使用或覆盖。另外，它还可以定义自己的实例变量，以供子类通过继承来使用。\n",
    "***\n",
    "- **`interface`** 的应用场合\n",
    "  - A. 类与类之前需要特定的接口进行协调，而不在乎其如何实现。\n",
    "  - B. 作为能够实现特定功能的标识存在，也可以是什么接口方法都没有的纯粹标识。\n",
    "  - C. 需要将一组类视为单一的类，而调用者只通过接口来与这组类发生联系。\n",
    "  - D. 需要实现特定的多项功能，而这些功能之间可能完全没有任何联系。\n",
    "- **`abstract class`** 的应用场合  \n",
    "一句话，在既需要统一的接口，又需要实例变量或缺省的方法的情况下，就可以使用它。最常见的有：\n",
    "  - A. 定义了一组接口，但又不想强迫每个实现类都必须实现所有的接口。可以用 **`abstract class`** 定义一组方法体，甚至可以是空方法体，然后由子类选择自己所感兴趣的方法来覆盖。\n",
    "  - B. 某些场合下，只靠纯粹的接口不能满足类与类之间的协调，还必需类中表示状态的变量来区别不同的关系。**`abstract`** 的中介作用可以很好地满足这一点。\n",
    "  - C. 规范了一组相互协调的方法，其中一些方法是共同的，与状态无关的，可以共享的，无需子类分别实现；而另一些方法却需要各个子类根据自己特定的状态来实现特定的功能。"
   ]
  },
  {
   "cell_type": "code",
   "execution_count": null,
   "metadata": {
    "dotnet_interactive": {
     "language": "csharp"
    },
    "vscode": {
     "languageId": "dotnet-interactive.csharp"
    }
   },
   "outputs": [],
   "source": [
    "// 动态多态性抽象类实例\n",
    "abstract class Shape\n",
    "{\n",
    "    abstract public int area();\n",
    "}\n",
    "class Rectangle:  Shape\n",
    "{\n",
    "    private int length;\n",
    "    private int width;\n",
    "    public Rectangle( int a=0, int b=0)\n",
    "    {\n",
    "        length = a;\n",
    "        width = b;\n",
    "    }\n",
    "    public override int area ()\n",
    "    {\n",
    "        Console.WriteLine(\"Rectangle 类的面积:\");\n",
    "        return (width * length);\n",
    "    }\n",
    "}\n",
    "\n",
    "Rectangle r = new Rectangle(10, 7);\n",
    "double a = r.area();\n",
    "Console.WriteLine(\"面积: {0}\",a);"
   ]
  },
  {
   "cell_type": "markdown",
   "metadata": {},
   "source": [
    "#### **虚方法**\n",
    "当有一个定义在类中的函数需要在继承类中实现时，可以使用虚方法。  \n",
    "虚方法是使用关键字 virtual 声明的。  \n",
    "虚方法可以在不同的继承类中有不同的实现。  \n",
    "对虚方法的调用是在运行时发生的。  \n",
    "***\n",
    "抽象方法和虚方法的区别  \n",
    "\n",
    "- 1.虚方法必须有实现部分，抽象方法没有提供实现部分，抽象方法是一种强制派生类覆盖的方法，否则派生类将不能被实例化。\n",
    "- 2.抽象方法只能在抽象类中声明，虚方法不是。如果类包含抽象方法，那么该类也是抽象的，也必须声明类是抽象的。\n",
    "- 3.抽象方法必须在派生类中重写，这一点和接口类似，虚方法不需要再派生类中重写。\n",
    "简单说，抽象方法是需要子类去实现的。虚方法是已经实现了的，可以被子类覆盖，也可以不覆盖，取决于需求。\n",
    "\n",
    "抽象方法和虚方法都可以供派生类重写。  "
   ]
  },
  {
   "cell_type": "code",
   "execution_count": null,
   "metadata": {
    "dotnet_interactive": {
     "language": "csharp"
    },
    "vscode": {
     "languageId": "dotnet-interactive.csharp"
    }
   },
   "outputs": [],
   "source": [
    "// 以下实例创建了 Shape 基类，并创建派生类 Circle、 Rectangle、Triangle， Shape 类\n",
    "// 提供一个名为 Draw 的虚拟方法，在每个派生类中重写该方法以绘制该类的指定形状。\n",
    "public class Shape\n",
    "{\n",
    "    // 通过get和set关键字进行了封装，get和set分别对应的是可读和可写, 用法：\n",
    "    // 一则是隐藏组件或类内部的真是成员；\n",
    "    // 二是用来建立约束的，比如，实现“有我没你”这种约束；\n",
    "    // 三是用来响应属性变化事件，当属性变化是做某事，只要写在set方法里就行;\n",
    "    public int X { get; private set; }\n",
    "    public int Y { get; private set; }\n",
    "    public int Height { get; set; }\n",
    "    public int Width { get; set; }\n",
    "    \n",
    "    // 虚方法\n",
    "    public virtual void Draw()\n",
    "    {\n",
    "        Console.WriteLine(\"执行基类的画图任务\");\n",
    "    }\n",
    "}\n",
    "class Circle : Shape\n",
    "{\n",
    "    public override void Draw()\n",
    "    {\n",
    "        Console.WriteLine(\"画一个圆形\");\n",
    "        base.Draw();\n",
    "    }\n",
    "}\n",
    "class Rectangle : Shape\n",
    "{\n",
    "    public override void Draw()\n",
    "    {\n",
    "        Console.WriteLine(\"画一个长方形\");\n",
    "        base.Draw();\n",
    "    }\n",
    "}\n",
    "class Triangle : Shape\n",
    "{\n",
    "    public override void Draw()\n",
    "    {\n",
    "        Console.WriteLine(\"画一个三角形\");\n",
    "        base.Draw();\n",
    "    }\n",
    "}\n",
    "// 创建一个 List<Shape> 对象，并向该对象添加 Circle、Triangle 和 Rectangle\n",
    "var shapes = new List<Shape>\n",
    "{\n",
    "    new Rectangle(),\n",
    "    new Triangle(),\n",
    "    new Circle()\n",
    "};\n",
    "// 使用 foreach 循环对该列表的派生类进行循环访问，并对其中的每个 Shape 对象调用 Draw 方法\n",
    "foreach (var shape in shapes) shape.Draw();"
   ]
  },
  {
   "cell_type": "markdown",
   "metadata": {},
   "source": [
    "## **预处理器指令**\n",
    "- 预处理器指令指导编译器在实际编译开始之前对信息进行预处理。\n",
    "- 所有的预处理器指令都是以 # 开始\n",
    "- 与 C 和 C++ 不同的是，它们不是用来创建宏\n",
    "- 在程序调试和运行上有重要的作用。比如预处理器指令可以禁止编译器编译代码的某一部分，如果计划发布两个版本的代码，即基本版本和有更多功能的企业版本，就可以使用这些预处理器指令来控制。在编译软件的基本版本时，使用预处理器指令还可以禁止编译器编译于额外功能相关的代码。另外，在编写提供调试信息的代码时，也可以使用预处理器指令进行控制。总的来说和普通的控制语句（if等）功能类似，方便在于预处理器指令包含的未执行部分是不需要编译的。"
   ]
  },
  {
   "cell_type": "code",
   "execution_count": null,
   "metadata": {
    "dotnet_interactive": {
     "language": "csharp"
    },
    "vscode": {
     "languageId": "dotnet-interactive.csharp"
    }
   },
   "outputs": [],
   "source": [
    "// define 允许您定义一个符号，通过使用符号作为传递给 #if 指令的表达式，表达式将返回 true。\n",
    "#define PI\n",
    "#if (PI)\n",
    "    Console.WriteLine(\"PI is defined\");\n",
    "#else\n",
    "    Console.WriteLine(\"PI is not defined\");\n",
    "#endif"
   ]
  },
  {
   "cell_type": "code",
   "execution_count": null,
   "metadata": {
    "dotnet_interactive": {
     "language": "csharp"
    },
    "vscode": {
     "languageId": "dotnet-interactive.csharp"
    }
   },
   "outputs": [],
   "source": [
    "// 您也可以用括号把符号和运算符进行分组。条件指令用于在调试版本或编译指定配置时编译代码。\n",
    "// 一个以 #if 指令开始的条件指令，必须显示地以一个 #endif 指令终止。\n",
    "#define DEBUG\n",
    "#define VC_V10\n",
    "#if (DEBUG && !VC_V10)\n",
    "    Console.WriteLine(\"DEBUG is defined\");\n",
    "#elif (!DEBUG && VC_V10)\n",
    "    Console.WriteLine(\"VC_V10 is defined\");\n",
    "#elif (DEBUG && VC_V10)\n",
    "    Console.WriteLine(\"DEBUG and VC_V10 are defined\");\n",
    "#else\n",
    "    Console.WriteLine(\"DEBUG and VC_V10 are not defined\");\n",
    "#endif"
   ]
  },
  {
   "cell_type": "markdown",
   "metadata": {
    "dotnet_interactive": {
     "language": "csharp"
    }
   },
   "source": [
    "#warning 和 #error：\n",
    "当编译器遇到它们时，会分别产生警告或错误。如果编译器遇到 #warning 指令，  \n",
    "会给用户显示 #warning 指令后面的文本，之后编译继续进行。如果编译器遇到 #error 指令，  \n",
    "就会给用户显示后面的文本，作为一条编译错误消息，然后会立即退出编译。  \n",
    "使用这两条指令可以检查 #define 语句是不是做错了什么事，  \n",
    "使用 #warning 语句可以提醒自己执行某个操作  "
   ]
  },
  {
   "cell_type": "code",
   "execution_count": null,
   "metadata": {
    "dotnet_interactive": {
     "language": "csharp"
    },
    "vscode": {
     "languageId": "dotnet-interactive.csharp"
    }
   },
   "outputs": [],
   "source": [
    "#pragma warning disable \n",
    "#define DEBUG\n",
    "// #define RELEASE\n",
    "#if DEBUG && RELEASE  \n",
    "    #error \"You've defined DEBUG and RELEASE simultaneously!\"  \n",
    "#endif  \n",
    "#warning \"Don't forget to remove this line before the boss tests the code!\"  \n",
    "Console.WriteLine(\"*I hate this job.*\");\n",
    "#pragma warning restore"
   ]
  },
  {
   "cell_type": "code",
   "execution_count": null,
   "metadata": {
    "dotnet_interactive": {
     "language": "csharp"
    },
    "vscode": {
     "languageId": "dotnet-interactive.csharp"
    }
   },
   "outputs": [],
   "source": [
    "// #pragma 指令可以抑制或还原指定的编译警告。与命令行选项不同，\n",
    "// #pragma 指令可以在类或方法级别执行，对抑制警告的内容和抑制的时间进行更精细的控制\n",
    "#pragma warning disable 169    // 取消编号 169 的警告（字段未使用的警告）\n",
    "public class MyClass\n",
    "{\n",
    "    int neverUsedField;       // 编译整个 MyClass 类时不会发出警告\n",
    "}\n",
    "#pragma warning restore 169   // 恢复编号 169 的警告"
   ]
  },
  {
   "cell_type": "markdown",
   "metadata": {},
   "source": [
    "## **异常处理**\n",
    "C# 异常是使用类来表示的。\n",
    "- C# 中的异常类主要是直接或间接地派生于 System.Exception 类。\n",
    "- System.ApplicationException 和 System.SystemException 类是派生于 System.Exception 类的异常类。\n",
    "\n",
    "- System.ApplicationException 类支持由应用程序生成的异常。所以程序员定义的异常都应派生自该类。\n",
    "\n",
    "- System.SystemException 类是所有预定义的系统异常的基类。\n",
    "\n",
    "下表列出了一些派生自 System.SystemException 类的预定义的异常类：\n",
    "\n",
    "|异常类|描述|\n",
    "|----|----|\n",
    "|**IO.IOException**\t|处理 I/O 错误。|\n",
    "|**IndexOutOfRangeException**\t|处理当方法指向超出范围的数组索引时生成的错误。|\n",
    "|**ArrayTypeMismatchException**\t|处理当数组类型不匹配时生成的错误。|\n",
    "|**NullReferenceException**\t|处理当依从一个空对象时生成的错误。|\n",
    "|**DivideByZeroException**\t|处理当除以零时生成的错误。|\n",
    "|**InvalidCastException**\t|处理在类型转换期间生成的错误。|\n",
    "|**OutOfMemoryException**\t|处理空闲内存不足生成的错误。|\n",
    "|**StackOverflowException**\t|处理栈溢出生成的错误。|"
   ]
  },
  {
   "cell_type": "code",
   "execution_count": null,
   "metadata": {
    "dotnet_interactive": {
     "language": "csharp"
    },
    "vscode": {
     "languageId": "dotnet-interactive.csharp"
    }
   },
   "outputs": [],
   "source": [
    "public class DivNumbers\n",
    "{\n",
    "    int result;\n",
    "    public DivNumbers()\n",
    "    {\n",
    "        result = 0;\n",
    "    }\n",
    "    public void division(int num1, int num2)\n",
    "    {\n",
    "        try\n",
    "        {\n",
    "            result = num1 / num2;\n",
    "        }\n",
    "        catch (DivideByZeroException e)\n",
    "        {\n",
    "            Console.WriteLine(\"Exception caught: {0}\", e);\n",
    "            // 可以再次抛出\n",
    "            // throw e;\n",
    "        }\n",
    "        finally\n",
    "        {\n",
    "            Console.WriteLine(\"Result: {0}\", result);\n",
    "        }\n",
    "    }\n",
    "}\n",
    "DivNumbers d = new DivNumbers();\n",
    "d.division(25, 0);"
   ]
  },
  {
   "cell_type": "code",
   "execution_count": null,
   "metadata": {
    "dotnet_interactive": {
     "language": "csharp"
    },
    "vscode": {
     "languageId": "dotnet-interactive.csharp"
    }
   },
   "outputs": [],
   "source": [
    "// 您也可以定义自己的异常。用户自定义的异常类是派生自 ApplicationException 类。\n",
    "public class TempIsZeroException: ApplicationException\n",
    "{\n",
    "    public TempIsZeroException(string message): base(message)\n",
    "    {\n",
    "    }\n",
    "}\n",
    "public class Temperature\n",
    "{\n",
    "    int temperature = 0;\n",
    "    public void showTemp(int temp)\n",
    "    {\n",
    "        temperature = temp;\n",
    "        if(temperature == 0)\n",
    "        {\n",
    "            throw (new TempIsZeroException(\"Zero Temperature found\"));\n",
    "        }\n",
    "        else\n",
    "        {\n",
    "            Console.WriteLine(\"Temperature: {0}\", temperature);\n",
    "        }\n",
    "    }\n",
    "}\n",
    "Temperature temp = new Temperature();\n",
    "temp.showTemp(1);\n",
    "try\n",
    "{\n",
    "    temp.showTemp(0);\n",
    "}\n",
    "catch(TempIsZeroException e)\n",
    "{\n",
    "    Console.WriteLine(\"TempIsZeroException: {0}\", e.Message);\n",
    "}"
   ]
  },
  {
   "cell_type": "markdown",
   "metadata": {},
   "source": [
    "## **文件的输入与输出**\n",
    "[FileStream 类](https://www.runoob.com/csharp/csharp-file-io.html)  \n",
    "[文本文件的读写](https://www.runoob.com/csharp/csharp-text-files.html)  \n",
    "[Windows 文件系统的操作](https://www.runoob.com/csharp/csharp-windows-file-system.html)\n"
   ]
  },
  {
   "cell_type": "code",
   "execution_count": null,
   "metadata": {
    "dotnet_interactive": {
     "language": "csharp"
    },
    "vscode": {
     "languageId": "dotnet-interactive.csharp"
    }
   },
   "outputs": [],
   "source": [
    "using System;\n",
    "using System.IO;\n",
    "\n",
    "FileStream F = new FileStream(\"test.dat\",\n",
    "FileMode.OpenOrCreate, FileAccess.ReadWrite, FileShare.Delete);\n",
    "\n",
    "for (int i = 1; i <= 20; i++)\n",
    "{\n",
    "    F.WriteByte((byte)i);\n",
    "}\n",
    "\n",
    "F.Position = 0;\n",
    "\n",
    "for (int i = 0; i <= 20; i++)\n",
    "{\n",
    "    Console.Write(F.ReadByte() + \" \");\n",
    "}\n",
    "try\n",
    "{\n",
    "    File.Delete(\"test.dat\");\n",
    "}\n",
    "catch (System.IO.IOException e)\n",
    "{\n",
    "    Console.WriteLine(e.Message);\n",
    "}\n",
    "F.Close();"
   ]
  },
  {
   "cell_type": "code",
   "execution_count": null,
   "metadata": {
    "dotnet_interactive": {
     "language": "csharp"
    },
    "vscode": {
     "languageId": "dotnet-interactive.csharp"
    }
   },
   "outputs": [],
   "source": [
    "using System;\n",
    "using System.IO;\n",
    "string[] names = {\"Zara Ali\", \"Nuha Ali\"};\n",
    "// using 语句也能关闭 StreamReader\n",
    "using (StreamWriter sw = new StreamWriter(\"names.txt\"))\n",
    "{\n",
    "    foreach (string s in names)\n",
    "    {\n",
    "        sw.WriteLine(s);\n",
    "\n",
    "    }\n",
    "}\n",
    "// 从文件中读取并显示每行\n",
    "string line = \"\";\n",
    "using (StreamReader sr = new StreamReader(\"names.txt\"))\n",
    "{\n",
    "    while ((line = sr.ReadLine()) != null)\n",
    "    {\n",
    "        Console.WriteLine(line);\n",
    "    }\n",
    "}\n",
    "try\n",
    "{\n",
    "    File.Delete(\"names.txt\");\n",
    "}\n",
    "catch (System.IO.IOException e)\n",
    "{\n",
    "    Console.WriteLine(e.Message);\n",
    "}"
   ]
  },
  {
   "cell_type": "code",
   "execution_count": null,
   "metadata": {
    "dotnet_interactive": {
     "language": "csharp"
    },
    "vscode": {
     "languageId": "dotnet-interactive.csharp"
    }
   },
   "outputs": [],
   "source": [
    "using System;\n",
    "using System.IO;\n",
    "// 创建一个 DirectoryInfo 对象\n",
    "DirectoryInfo mydir = new DirectoryInfo(@\"C:\\Users\\Zeal\\Desktop\\COMP\\C#\");\n",
    "\n",
    "// 获取目录中的文件以及它们的名称和大小\n",
    "FileInfo [] f = mydir.GetFiles();\n",
    "foreach (FileInfo file in f)\n",
    "{\n",
    "    Console.WriteLine(\"File Name: {0} Size: {1}\",\n",
    "        file.Name, file.Length);\n",
    "}"
   ]
  },
  {
   "cell_type": "markdown",
   "metadata": {},
   "source": [
    "## **特性（Attribute）**\n",
    "- 特性（Attribute）是用于在运行时传递程序中各种元素（比如类、方法、结构、枚举、组件等）的行为信息的声明性标签。您可以通过使用特性向程序添加声明性信息。一个声明性标签是通过放置在它所应用的元素前面的方括号（[ ]）来描述的\n",
    "- 为什么需要特性呢？某些情况下需要给类或者方法添加一些标签信息，比如我们在调试的时候为方法注明调试事件，调试人等等信息。根据定义方式的不同，特性分为系统提供的特性以及自定义的特性。"
   ]
  },
  {
   "cell_type": "markdown",
   "metadata": {},
   "source": [
    "### **Conditional**\n",
    "- 这个预定义特性标记了一个条件方法，其执行依赖于指定的预处理标识符。它会引起方法调用的条件编译，取决于指定的值，比如 Debug 或 Trace。例如，当调试代码时显示变量的值。"
   ]
  },
  {
   "cell_type": "code",
   "execution_count": null,
   "metadata": {
    "dotnet_interactive": {
     "language": "csharp"
    },
    "vscode": {
     "languageId": "dotnet-interactive.csharp"
    }
   },
   "outputs": [],
   "source": [
    "// 没有这个预处理标识符被标记的方法就不会被执行\n",
    "#define DEBUG\n",
    "using System;\n",
    "using System.Diagnostics;\n",
    "public class Myclass\n",
    "{\n",
    "    // 这个预定义特性标记了一个条件方法，其执行依赖于指定的预处理标识符\n",
    "    [Conditional(\"DEBUG\")]\n",
    "    public static void Message(string msg)\n",
    "    {\n",
    "        Console.WriteLine(msg);\n",
    "    }\n",
    "}\n",
    "public class Test\n",
    "{\n",
    "    public void function1()\n",
    "    {\n",
    "        Myclass.Message(\"In Function 1.\");\n",
    "        function2();\n",
    "    }\n",
    "    public void function2()\n",
    "    {\n",
    "        Myclass.Message(\"In Function 2.\");\n",
    "    }\n",
    "}\n",
    "Myclass.Message(\"In Main function.\");\n",
    "Test t = new Test();\n",
    "t.function1();"
   ]
  },
  {
   "cell_type": "markdown",
   "metadata": {},
   "source": [
    "### **Obsolete**\n",
    "- 这个预定义特性标记了不应被使用的程序实体。它可以让您通知编译器丢弃某个特定的目标元素。例如，当一个新方法被用在一个类中，但是您仍然想要保持类中的旧方法，您可以通过显示一个应该使用新方法，而不是旧方法的消息，来把它标记为 obsolete（过时的）。"
   ]
  },
  {
   "cell_type": "code",
   "execution_count": null,
   "metadata": {
    "dotnet_interactive": {
     "language": "csharp"
    },
    "vscode": {
     "languageId": "dotnet-interactive.csharp"
    }
   },
   "outputs": [],
   "source": [
    "using System;\n",
    "public class MyClass\n",
    "{\n",
    "    // 如果该值为 true，编译器应把该项目的使用当作一个错误。默认值是 false（编译器生成一个警告）\n",
    "    [Obsolete(\"Don't use OldMethod, use NewMethod instead\", true)]\n",
    "    public void OldMethod()\n",
    "    {\n",
    "        Console.WriteLine(\"It is the old method\");\n",
    "    }\n",
    "    public void NewMethod()\n",
    "    {\n",
    "        Console.WriteLine(\"It is the new method\");\n",
    "    }\n",
    "}\n",
    "MyClass m = new MyClass();\n",
    "// m.OldMethod();"
   ]
  },
  {
   "cell_type": "markdown",
   "metadata": {},
   "source": [
    "## **反射（Reflection）**\n",
    "- 反射指程序可以访问、检测和修改它本身状态或行为的一种能力。\n",
    "- 程序集包含模块，而模块包含类型，类型又包含成员。反射则提供了封装程序集、模块和类型的对象。\n",
    "- 您可以使用反射动态地创建类型的实例，将类型绑定到现有对象，或从现有对象中获取类型。然后，可以调用类型的方法或访问其字段和属性。\n",
    "***\n",
    "- 优点：  \n",
    "    - 1、反射提高了程序的灵活性和扩展性。\n",
    "    - 2、降低耦合性，提高自适应能力。\n",
    "    - 3、它允许程序创建和控制任何类的对象，无需提前硬编码目标类。\n",
    "- 缺点：  \n",
    "    - 1、性能问题：使用反射基本上是一种解释操作，用于字段和方法接入时要远慢于直接代码。因此反射机制主要应用在对灵活性和拓展性要求很高的系统框架上，普通程序不建议使用。\n",
    "    - 2、使用反射会模糊程序内部逻辑；程序员希望在源代码中看到程序的逻辑，反射却绕过了源代码的技术，因而会带来维护的问题，反射代码比相应的直接代码更复杂。\n",
    "***\n",
    "**反射（Reflection）的用途**\n",
    "- 它允许在运行时查看特性（attribute）信息。\n",
    "- 它允许审查集合中的各种类型，以及实例化这些类型。\n",
    "- 它允许延迟绑定的方法和属性（property）。\n",
    "- 它允许在运行时创建新类型，然后使用这些类型执行一些任务。"
   ]
  },
  {
   "cell_type": "markdown",
   "metadata": {},
   "source": [
    "## **索引器（Indexer）**"
   ]
  },
  {
   "cell_type": "markdown",
   "metadata": {},
   "source": [
    "## **委托（Delegate）**"
   ]
  }
 ],
 "metadata": {
  "interpreter": {
   "hash": "cd16ce05d8d2d333506cf1fdbd6b254acc9c24c9b688dcbf29a42ebe0275277c"
  },
  "kernelspec": {
   "display_name": ".NET (C#)",
   "language": "C#",
   "name": ".net-csharp"
  },
  "language_info": {
   "file_extension": ".cs",
   "mimetype": "text/x-csharp",
   "name": "C#",
   "pygments_lexer": "csharp",
   "version": "9.0"
  }
 },
 "nbformat": 4,
 "nbformat_minor": 2
}
