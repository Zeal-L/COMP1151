{
 "cells": [
  {
   "cell_type": "markdown",
   "metadata": {},
   "source": [
    "## **值类型（Value types）**"
   ]
  },
  {
   "cell_type": "code",
   "execution_count": null,
   "metadata": {
    "dotnet_interactive": {
     "language": "csharp"
    }
   },
   "outputs": [],
   "source": [
    "// 在 C# 中没有全局变量的概念，所有变量必须由该类的实例进行操作，\n",
    "// 这样做提升了安全性，但是在某些情况下却显得力不从心。\n",
    "// 因此，我们在保存一些类的公共信息时，就会使用静态变量。\n",
    "\n",
    "static int data = 66;"
   ]
  },
  {
   "cell_type": "code",
   "execution_count": null,
   "metadata": {
    "dotnet_interactive": {
     "language": "csharp"
    }
   },
   "outputs": [],
   "source": [
    "// 静态常量（编译时常量）const 在编译时就确定了值，\n",
    "// 必须在声明时就进行初始化且之后不能进行更改，可在类和方法中定义\n",
    "const double pi = 3.1415926; \n",
    "\n",
    "// 动态常量（运行时常量）readonly在运行时确定值，\n",
    "// 只能在声明时或构造函数中初始化，只能在类中定义\n",
    "class Program\n",
    "{\n",
    "    public readonly int a = 1;  // 声明时初始化\n",
    "    public readonly int b;      // 构造函数中初始化\n",
    "    public Program()\n",
    "    {\n",
    "        b = 2;\n",
    "    }\n",
    "}\n",
    "\n",
    "Program p = new Program();\n",
    "Console.WriteLine(\"{0}, {1}\", p.a, p.b);\n",
    "\n",
    "// 在下面两种情况下：\n",
    "//  a、取值永久不变(比如圆周率、一天包含的小时数、地球的半径等)。\n",
    "//  b、对程序性能要求非常苛刻。\n",
    "// 可以使用 const 常量，除此之外的其他情况都应该优先采用 readonly 常量。"
   ]
  },
  {
   "cell_type": "code",
   "execution_count": null,
   "metadata": {
    "dotnet_interactive": {
     "language": "csharp"
    }
   },
   "outputs": [],
   "source": [
    "// 布尔值\n",
    "bool a;  // 默认值 False\n",
    "\n",
    "// 8 位无符号整数, 0 到 255\n",
    "byte b;  // 默认值 0\n",
    "\n",
    "// 8 位有符号整数类型, -128 到 127\n",
    "sbyte sb;  // 默认值 0\n",
    "\n",
    "// 16 位有符号整数类型, -32,768 到 32,767\n",
    "short i;  // 默认值 0\n",
    "\n",
    "// 16 位无符号整数类型, 0 到 65,535\n",
    "ushort us; // 默认值 0\n",
    "\n",
    "// 32 位有符号整数类型, -2,147,483,648 到 2,147,483,647\n",
    "int g;  // 默认值 0\n",
    "\n",
    "// 32 位无符号整数类型, 0 到 4,294,967,295\n",
    "uint ui;  // 默认值 0\n",
    "\n",
    "// 64 位有符号整数类型, -9,223,372,036,854,775,808 到 9,223,372,036,854,775,807\n",
    "long h;  // 默认值 0\n",
    "\n",
    "// 64 位无符号整数类型, 0 到 18,446,744,073,709,551,615\n",
    "ulong ul;  // 默认值 0\n",
    "\n",
    "// 128 位精确的十进制值，28-29 有效位数\n",
    "decimal d;  // 默认值 0.0m\n",
    "\n",
    "// 16 位 Unicode 字符, U +0000 到 U +ffff\n",
    "char c;  // 默认值 '\\0'\n",
    "\n",
    "// 32 位单精度浮点型\n",
    "float f;  // 默认值 0.0f\n",
    "\n",
    "// 64 位双精度浮点型\n",
    "double e;  // 默认值 0.0d\n",
    "\n",
    "Console.WriteLine(\"Type size:\\nbool:{0}, byte:{1}, sbyte:{2}, short:{3}, ushort:{4}, \\nint:{5}, uint:{6}, long:{7}, ulong:{8}, decimal:{9}, \\nchar:{10}, float:{11}, double:{12}\", \n",
    "        sizeof(bool), sizeof(byte), sizeof(sbyte), sizeof(short), sizeof(ushort), sizeof(int), sizeof(uint), sizeof(long), sizeof(ulong), sizeof(decimal), sizeof(char), sizeof(float), sizeof(double));"
   ]
  },
  {
   "cell_type": "code",
   "execution_count": null,
   "metadata": {
    "dotnet_interactive": {
     "language": "csharp"
    }
   },
   "outputs": [],
   "source": [
    "// 值类型，声明一个值类型的时候，是在“栈”中开辟一个内存空间来存放对应的值，\n",
    "// 当值类型的值发生改变的时候，则直接修改该内存空间所保存的值\n",
    "int n1 = 5;\n",
    "int n2 = n1;\n",
    "Console.WriteLine(n1 + \"  \"+ n2);    // 5  5\n",
    "n2 = 7;\n",
    "Console.WriteLine(n1 + \"  \" + n2)    // 5  7"
   ]
  },
  {
   "cell_type": "markdown",
   "metadata": {},
   "source": [
    "## **引用类型（Reference types)**"
   ]
  },
  {
   "cell_type": "code",
   "execution_count": null,
   "metadata": {
    "dotnet_interactive": {
     "language": "csharp"
    }
   },
   "outputs": [],
   "source": [
    "// 动态类型与对象类型相似，但是对象类型变量的类型检查是在编译时发生的，\n",
    "// 而动态类型变量的类型检查是在运行时发生的。\n",
    "\n",
    "// 对象（Object）类型\n",
    "int val = 8;\n",
    "object obj = val;   //先装箱\n",
    "int nval = (int) obj;   //再拆箱\n",
    "// object 只是复制了值出来然后对其操作而已。不会影响到原来的值。\n",
    "\n",
    "// 动态（Dynamic）类型\n",
    "// 您可以存储任何类型的值在动态数据类型变量中。这些变量的类型检查是在运行时发生的。\n",
    "int i = 0;\n",
    "dynamic d = i;\n",
    "Console.WriteLine(\"{0}，{1}\", i, d);\n",
    "\n",
    "// 字符串（String）类型\n",
    "// 字符串的前面可以加 @（称作\"逐字字符串\"）将转义字符（\\）当作普通字符对待\n",
    "string str1 = @\"C:\\Windows\";\n",
    "string str2 = @\"C:\\\\Windows\";\n",
    "Console.WriteLine(\"{0}\\n{1}\", str1, str2);\n",
    "\n",
    "// @ 字符串中可以任意换行，换行符及缩进空格都计算在字符串长度之内。\n",
    "string str = @\"<script type=\"\"text/javascript\"\">\n",
    "    <!--\n",
    "    -->\n",
    "</script>\";\n",
    "Console.WriteLine(str);"
   ]
  },
  {
   "cell_type": "code",
   "execution_count": null,
   "metadata": {
    "dotnet_interactive": {
     "language": "csharp"
    }
   },
   "outputs": [],
   "source": [
    "// 引用类型，声明一个引用类型的时候，首先是在“堆”中开辟一个内存空间来存放对应的值，\n",
    "// 然后在“栈”中开辟一个内存空间用于保存在“堆”中开辟的内存空间的地址。当系统调用引用类型的时候，\n",
    "// 首先去“栈”中获取到地址，然后根据地址在“堆”中找到对应的内存空间来获取到对应值。\n",
    "\n",
    "string[] a1 = new string[]{ \"a\" , \"b\" , \"c\" };\n",
    "string[] a2 = a1;\n",
    "for (int i = 0; i < a2.Length; i++)\n",
    "{\n",
    "    Console.Write(a2[i] + \" \");    //a b c\n",
    "}\n",
    "a1[2] = \"d\";\n",
    "Console.WriteLine();            \n",
    "for (int i = 0; i < a2.Length; i++)\n",
    "{\n",
    "    Console.Write(a2[i] + \" \");    //a b d\n",
    "}\n",
    "Console.WriteLine(); "
   ]
  },
  {
   "cell_type": "markdown",
   "metadata": {},
   "source": [
    "## **指针类型（Pointer types）**"
   ]
  },
  {
   "cell_type": "code",
   "execution_count": null,
   "metadata": {
    "dotnet_interactive": {
     "language": "csharp"
    }
   },
   "outputs": [],
   "source": [
    "// 当一个代码块使用 unsafe 修饰符标记时，C# 允许在函数中使用指针变量。\n",
    "// 不安全代码或非托管代码是指使用了指针变量的代码块。\n",
    "using static System.Console;\n",
    "unsafe\n",
    "{\n",
    "    int var = 20;\n",
    "    int* p = &var;\n",
    "    WriteLine(\"Data is: {0} \",  var);\n",
    "    WriteLine(\"Data is: {0} \" , p->ToString());\n",
    "    WriteLine(\"Address is: {0:X2}\",  (int)p);\n",
    "}"
   ]
  },
  {
   "cell_type": "code",
   "execution_count": null,
   "metadata": {
    "dotnet_interactive": {
     "language": "csharp"
    }
   },
   "outputs": [],
   "source": [
    "// 传递指针作为函数/方法的参数\n",
    "using static System.Console;\n",
    "\n",
    "unsafe void swap(int* p, int* q)\n",
    "{\n",
    "    int temp = *p;\n",
    "    *p = *q;\n",
    "    *q = temp;\n",
    "}\n",
    "\n",
    "unsafe\n",
    "{\n",
    "    int var1 = 10;\n",
    "    int var2 = 20;\n",
    "    int* x = &var1;\n",
    "    int* y = &var2;\n",
    "\n",
    "    WriteLine(\"Before Swap: var1:{0}, var2: {1}\", var1, var2);\n",
    "    swap(x, y);\n",
    "    WriteLine(\"After Swap: var1:{0}, var2: {1}\", var1, var2);\n",
    "}\n"
   ]
  },
  {
   "cell_type": "code",
   "execution_count": null,
   "metadata": {
    "dotnet_interactive": {
     "language": "csharp"
    }
   },
   "outputs": [],
   "source": [
    "// 使用指针访问数组元素\n",
    "using static System.Console;\n",
    "unsafe\n",
    "{\n",
    "    int[]  list = {10, 100, 200};\n",
    "    // 由于C#中声明的变量在内存中的存储受垃圾回收器管理；\n",
    "    // 因此一个变量（例如一个大数组）有可能在运行过程中被移动到内存中的其他位置。\n",
    "    // 如果一个变量的内存地址会变化，那么指针也就没有意义了。\n",
    "    // 解决方法就是使用fixed关键字来固定变量位置不移动。\n",
    "    fixed(int *ptr = list)\n",
    "\n",
    "    /* 显示指针中数组地址 */\n",
    "    for ( int i = 0; i < list.Length; i++)\n",
    "    {\n",
    "        WriteLine(\"Value of list[{0}] = {1}\", i, *(ptr + i));\n",
    "        WriteLine(\"Address of list[{0}] = {1:X2}\", i, (int)(ptr + i));\n",
    "    }\n",
    "\n",
    "    // 在unsafe不安全环境中，我们还可以通过stackalloc在堆栈上分配内存，\n",
    "    // 因为在堆栈上分配的内存不受内存管理器管理，因此其相应的指针不需要固定。\n",
    "    int *ptr2 = stackalloc int[10] ;\n",
    "}"
   ]
  },
  {
   "cell_type": "markdown",
   "metadata": {},
   "source": [
    "## **类型转换**\n",
    "**隐式类型转换** - 这些转换是 C# 默认的以安全方式进行的转换, 不会导致数据丢失。例如，从小的整数类型转换为大的整数类型，从派生类转换为基类。  \n",
    "**显式类型转换** - 显式类型转换，即强制类型转换。显式转换需要强制转换运算符，而且强制转换会造成数据丢失。  "
   ]
  },
  {
   "cell_type": "markdown",
   "metadata": {},
   "source": [
    "|  函数  |  描述  |\n",
    "|  ----  | ----  |\n",
    "|<font size=3 color=52ff70>**ToType( )**</font>|把类型转换为指定类型。|\n",
    "|<font size=3 color=52ff70>**ToBoolean( )**</font>|如果可能的话，把类型转换为布尔型。|\n",
    "|<font size=3 color=52ff70>**ToByte( )**</font>|把类型转换为字节类型。|\n",
    "|<font size=3 color=52ff70>**ToChar( )**</font>|如果可能的话，把类型转换为单个 Unicode 字符类型。|\n",
    "|<font size=3 color=52ff70>**ToDateTime( )**</font>|把类型（整数或字符串类型）转换为 日期-时间 结构。|\n",
    "|<font size=3 color=52ff70>**ToDecimal( )**</font>|把浮点型或整数类型转换为十进制类型。|\n",
    "|<font size=3 color=52ff70>**ToDouble( )**</font>|把类型转换为双精度浮点型。|\n",
    "|<font size=3 color=52ff70>**ToInt16( )**</font>|把类型转换为 16 位整数类型。|\n",
    "|<font size=3 color=52ff70>**ToInt32( )**</font>|把类型转换为 32 位整数类型。|\n",
    "|<font size=3 color=52ff70>**ToInt64( )**</font>|把类型转换为 64 位整数类型。|\n",
    "|<font size=3 color=52ff70>**ToSbyte( )**</font>|把类型转换为有符号字节类型。|\n",
    "|<font size=3 color=52ff70>**ToSingle( )**</font>|把类型转换为小浮点数类型。|\n",
    "|<font size=3 color=52ff70>**ToString( )**</font>|把类型转换为字符串类型。|\n",
    "|<font size=3 color=52ff70>**ToUInt16( )**</font>|把类型转换为 16 位无符号整数类型。|\n",
    "|<font size=3 color=52ff70>**ToUInt32( )**</font>|把类型转换为 32 位无符号整数类型。|\n",
    "|<font size=3 color=52ff70>**ToUInt64( )**</font>|把类型转换为 64 位无符号整数类型。|"
   ]
  },
  {
   "cell_type": "code",
   "execution_count": null,
   "metadata": {
    "dotnet_interactive": {
     "language": "csharp"
    }
   },
   "outputs": [],
   "source": [
    "// 把不同值的类型转换为字符串类型\n",
    "using static System.Console;\n",
    "int i = 75;\n",
    "float f = 53.005f;\n",
    "double d = 2345.7652;\n",
    "bool b = true;\n",
    "\n",
    "Console.WriteLine(i.ToString());\n",
    "Console.WriteLine(f.ToString());\n",
    "Console.WriteLine(d.ToString());\n",
    "Console.WriteLine(b.ToString());"
   ]
  },
  {
   "cell_type": "code",
   "execution_count": null,
   "metadata": {
    "dotnet_interactive": {
     "language": "csharp"
    }
   },
   "outputs": [],
   "source": [
    "// 中对 double 类型的数据取整，可以使用 convert.toint32() 方法，\n",
    "// 也可使用 int 强制转换为整数，使用 int 时并不存在四舍五入的情况，而是直接将后面的小数位数丢掉\n",
    "using static System.Console;\n",
    "double a = 1.35;\n",
    "double b = 1.65;\n",
    "int a1 = Convert.ToInt32(a);\n",
    "int a2 = (int)(a);\n",
    "int b1 = Convert.ToInt32(b);\n",
    "int b2 = (int)(b);\n",
    "Console.WriteLine(\"{0}使用convert方法转化的结果为：{1}\",a,a1);\n",
    "Console.WriteLine(\"{0}使用int强制转换的结果为：{1}\",a,a2);\n",
    "Console.WriteLine(\"{0}使用convert方法转化的结果为：{1}\", b, b1);\n",
    "Console.WriteLine(\"{0}使用int强制转换的结果为：{1}\", b, b2);\n",
    "\n",
    "// Convert.ToInt32() 与 int.Parse() 的区别\n",
    "// Convert.ToInt32(null) 会返回 0 而不会产生任何异常\n",
    "// 但 int.Parse(null) 则会产生异常。int.Parse 只能转换数字类型的字符串。"
   ]
  },
  {
   "cell_type": "code",
   "execution_count": null,
   "metadata": {
    "dotnet_interactive": {
     "language": "csharp"
    }
   },
   "outputs": [],
   "source": [
    "// int.TryParse 与 int.Parse 又较为类似，但它不会产生异常，\n",
    "// 转换成功返回 true，转换失败返回 false。最后一个参数为输出值，如果转换失败，输出值为 0。\n",
    "using static System.Console;\n",
    "string s1=\"abcd\";\n",
    "string s2=\"1234\";\n",
    "int a, b;\n",
    "bool bo1=int.TryParse(s1, out a);\n",
    "Console.WriteLine(s1+\" \"+bo1+\" \"+a);\n",
    "bool bo2=int.TryParse(s2, out b);\n",
    "Console.WriteLine(s2+\" \"+bo2+\" \"+b);\n",
    "\n",
    "int m; \n",
    "// 返回true ,运行{}内，并给m赋值为2；\n",
    "if (int.TryParse(\"2\", out m))\n",
    "{\n",
    "    WriteLine(\"DO SOMETHING\");\n",
    "}\n",
    "WriteLine(m);\n",
    "// 返回false,不运行if{}内，并给m赋值为0；\n",
    "if (int.TryParse(\"ddd\", out m))\n",
    "{\n",
    "    // NOT EXECUTE\n",
    "}\n",
    "WriteLine(m);"
   ]
  },
  {
   "cell_type": "code",
   "execution_count": null,
   "metadata": {
    "dotnet_interactive": {
     "language": "csharp"
    }
   },
   "outputs": [],
   "source": [
    "// 为了保险，可以用try、catch来解决转换异常问题\n",
    "while(true)\n",
    "{\n",
    "    try\n",
    "    {\n",
    "        Console.WriteLine(\"输入数字，将计算出它加一的答案\");\n",
    "        int a = int.Parse(Console.ReadLine());   //有可能会抛出异常\n",
    "        Console.WriteLine(\"答案是{0}\",++a);   //如果没有异常，程序才会进入这一步\n",
    "    }\n",
    "    catch (Exception)\n",
    "    {\n",
    "        Console.WriteLine(\"无法转换\");  //如果捕获到异常，就说“无法转换”\n",
    "    }\n",
    "}"
   ]
  },
  {
   "cell_type": "markdown",
   "metadata": {},
   "source": [
    "## **常量**"
   ]
  }
 ],
 "metadata": {
  "interpreter": {
   "hash": "cd16ce05d8d2d333506cf1fdbd6b254acc9c24c9b688dcbf29a42ebe0275277c"
  },
  "kernelspec": {
   "display_name": ".NET (C#)",
   "language": "C#",
   "name": ".net-csharp"
  },
  "language_info": {
   "file_extension": ".cs",
   "mimetype": "text/x-csharp",
   "name": "C#",
   "pygments_lexer": "csharp",
   "version": "9.0"
  }
 },
 "nbformat": 4,
 "nbformat_minor": 2
}
