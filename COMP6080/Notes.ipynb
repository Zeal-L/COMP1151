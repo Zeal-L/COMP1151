{
 "cells": [
  {
   "cell_type": "markdown",
   "metadata": {},
   "source": [
    "# Yarn\n",
    "- `yarn init`\n",
    "- `yarn add [package]`\n",
    "- `yarn upgrade [package]`\n",
    "- `yarn remove [package]`\n",
    "- `yarn info [package]`\n",
    "- `yarn cache list` // 列出已缓存的每个包\n",
    "- `yarn cache dir` // 返回全局缓存位置\n",
    "- `yarn cache clean` // 清除缓存"
   ]
  },
  {
   "cell_type": "markdown",
   "metadata": {},
   "source": [
    "- `Alt+.` 关闭所有未关闭的tag\n",
    "- `ctrl+i` 添加一个标签包装选中代码\n",
    "- `ctrl+alt+h` HTML Preview"
   ]
  },
  {
   "cell_type": "markdown",
   "metadata": {
    "vscode": {
     "languageId": "html"
    }
   },
   "source": [
    "# HTML\n",
    "\n",
    "<div></div> <!-- A generic \"box grouping\" element -->\n",
    "<span></span> <!-- A generic \"grouping\" element -->\n",
    "<p></p> <!-- A paragraph -->\n",
    "<h1></h1> <!-- 1st biggest header -->\n",
    "<h6></h6> <!-- 6th biggest header (also h2, h3, h4, h5) -->\n",
    "<ul><li></li><li></li></ul> <!-- A unordered list of items -->\n",
    "<ol><li></li><li></li></ol> <!-- A ordered list of items -->\n",
    "<table></table> <!-- A table of information -->\n",
    "<b></b> <!-- Bold text -->\n",
    "<i></i> <!-- Italic -->\n",
    "<u></u> <!-- Underlined text -->\n",
    "<a href=\"https://en.wikipedia.org\" title=\"Open wikipedia page\" target=\"_blank\">Wikipedia</a>\n",
    "<img src=\"cat.jpg\" alt=\"Image of the cat\" width=\"300\" height=\"600\" />\n",
    "<br />"
   ]
  },
  {
   "cell_type": "markdown",
   "metadata": {},
   "source": [
    "<!-- There are more input types -->\n",
    "<input type=\"text\" placeholder=\"text\" />\n",
    "<input type=\"email\" placeholder=\"email\" />\n",
    "<input type=\"password\" placeholder=\"password\" />\n",
    "<input type=\"number\" placeholder=\"number\" />\n",
    "<input type=\"radio\" id=\"yes\" name=\"answer\" value=\"yes\" checked />\n",
    "<input type=\"radio\" id=\"no\" name=\"answer\" value=\"no\" />\n",
    "<input type=\"checkbox\" id=\"no\" name=\"answer\" value=\"no\" checked />\n",
    "<input type=\"checkbox\" id=\"yes\" name=\"answer\" value=\"yes\" />\n",
    "<input type=\"hidden\" name=\"messageID\" value=\"message123\" />\n",
    "\n",
    "<textarea rows=\"5\" cols=\"40\" placeholder=\"Write here\"></textarea>\n",
    "\n",
    "<select name=\"animal\">\n",
    " <option value=\"\" selected>Select your favourite animal</option>\n",
    " <option value=\"dog\">Dog</optio>\n",
    " <option value=\"cat\">Cat</option>\n",
    "</select>\n",
    "\n",
    "<label for=\"dog\">I am a dog</label>\n",
    "<input type=\"checkbox\" value=\"dog\" id=\"dog\" />"
   ]
  },
  {
   "cell_type": "markdown",
   "metadata": {},
   "source": [
    "<button>This is a general button</button>\n",
    "<input type=\"submit\" value=\"This is a submit button\" />"
   ]
  },
  {
   "cell_type": "markdown",
   "metadata": {},
   "source": [
    "<!-- iframes allow us to include a \"view\" to another webpage in our own -->\n",
    "<iframe src=\"https://google.com\" width=\"400\" height=\"400\"></iframe>\n",
    "\n",
    "<embed src=\"https://youtube.com/embed/RmG5rKtGWz0\" width=\"400\" height=\"400\"></embed>\n",
    "\n",
    "<!-- HTML5 brought with it a number of other interesting features.\n",
    "These include the ability to render the playing of audio, and video -->\n",
    "<audio src=\"music.mp3\" controls>\n",
    " Browser does not support audio\n",
    "</audio>\n",
    "<video src=\"movie.mp4\" type=\"video/mp4\" controls>\n",
    " Browser does not support video\n",
    "</video>"
   ]
  },
  {
   "cell_type": "markdown",
   "metadata": {},
   "source": [
    "# Selector\n",
    "\n",
    "<style>\n",
    "    * { color: blue; }          /* Universal selector */\n",
    "    span { color: blue; }       /* Type selector */\n",
    "    .text { margin-top: 10px; } /* Class selector */\n",
    "    #error { color: blue; }     /* ID selector */\n",
    "\n",
    "    /* selector[attr=value] - Selects all the elements with\n",
    "    the given attribute pair - name/value */\n",
    "    input[type=\"radio\"] { \n",
    "        margin: 0 10px;\n",
    "    }\n",
    "\n",
    "    .A .B   {}  /* B inside A */\n",
    "    .A > .B {}  /* B are direct childs of A */\n",
    "    .A + .B {}  /* B follows immediately after A */\n",
    "    .A ~ .B {}  /* All sibling B after A */\n",
    "\n",
    "    /* selector:pseudo-class - Selectes the elements with a special state */\n",
    "    .hi { color: green; }\n",
    "    .close:hover { cursor: pointer; }\n",
    "    .hi:active { color: yellow; }\n",
    "    .hi:focus { color: yellow; }\n",
    "    .hi:disabled { color: yellow; }\n",
    "    a:visited\n",
    "    \n",
    "    /* selector::pseudo-element - Used to create cosmetic content \n",
    "    for the element or allows to style a specific part of the element */\n",
    "    .text::first-letter { color: red; }\n",
    "    .text::after {\n",
    "        content: \".\";\n",
    "        color: red;\n",
    "    }\n",
    "    \n",
    "    /* Overrides any other declarations */\n",
    "    .class1 { color: green !important; }\n",
    "</style>\n",
    "\n",
    "<!-- 如果一个元素有多个具有相同属性的规则，为了决定应该使用什么值，\n",
    "旁边的级联浏览器将查看每个选择器的特异性，并选择最高的一个。 -->\n",
    "Specificity calculated by the number of each selector type:\n",
    "X-0-0-0 : inline styles have more specificity than any selectors\n",
    "0-N-0-0 : number of id selectors\n",
    "0-0-N-0 : number of class selectors\n",
    "0-0-0-N : number of type selectors"
   ]
  },
  {
   "cell_type": "markdown",
   "metadata": {},
   "source": [
    "<pre><code>\n",
    "    # include <stdio.h>\n",
    "    int main(void) {\n",
    "        return 0;\n",
    "    }\n",
    "</code></pre>\n"
   ]
  },
  {
   "cell_type": "markdown",
   "metadata": {},
   "source": [
    "# Flexbox\n",
    "<style type=\"text/css\">\n",
    "    .container {\n",
    "        display: flex;\n",
    "        flex-direction: column;\n",
    "        align-items: center;\n",
    "        justify-content: center;\n",
    "        flex-wrap: wrap;\n",
    "        flex-flow: column wrap; /* flex-direction + flex-wrap */\n",
    "        align-content: flex-start;\n",
    "        gap: 10px;\n",
    "    }\n",
    "    .item {\n",
    "        align-self: flex-end;\n",
    "    }\n",
    "</style>"
   ]
  },
  {
   "cell_type": "markdown",
   "metadata": {},
   "source": [
    "# Media queries\n",
    "<style type=\"text/css\">\n",
    "    .article {\n",
    "        padding: 5px 10px;\n",
    "    }\n",
    "    @media (min-width: 600px) {\n",
    "        .article {\n",
    "            padding: 10px 20px;\n",
    "        }\n",
    "    }\n",
    "\n",
    "    /* All the devices */\n",
    "    @media all { ... }\n",
    "    /* Print mode */\n",
    "    @media print { ... }\n",
    "    /* Screen devices */\n",
    "    @media screen { ... }\n",
    "    /* Speech synthesizers */\n",
    "    @media speech { ... }\n",
    "    \n",
    "    /* Multiple criteria */\n",
    "    @media screen\n",
    "        and (min-width: 320px)\n",
    "        and (orientation: portrait) { ... }\n",
    "\n",
    "    /* Negate query */\n",
    "    @media not screen\n",
    "        and (min-width: 320px)\n",
    "        and (orientation: portrait) { ... }\n",
    "    \n",
    "    /* Combine queries\n",
    "    // Applied to both print mode\n",
    "    // and screen with width >= 320 */\n",
    "    @media print, screen\n",
    "        and (min-width: 320px) { ... }\n",
    "\n",
    "</style>"
   ]
  },
  {
   "cell_type": "markdown",
   "metadata": {},
   "source": [
    "# Grid\n",
    "\n",
    "<style>\n",
    "    .container {\n",
    "        display: grid;\n",
    "        grid-template-columns: 100px 1fr 1fr;\n",
    "        grid-template-rows: 80px 1fr 50px;\n",
    "        grid-template-areas:\n",
    "            \"header header header\"\n",
    "            \"sidebar main main\"\n",
    "            \"footer footer footer\";\n",
    "    }\n",
    "    .header {\n",
    "        grid-area: header;\n",
    "    }\n",
    "</style>"
   ]
  },
  {
   "cell_type": "code",
   "execution_count": 7,
   "metadata": {
    "vscode": {
     "languageId": "javascript"
    }
   },
   "outputs": [
    {
     "name": "stdout",
     "output_type": "stream",
     "text": [
      "number\n",
      "true\n",
      "false\n"
     ]
    }
   ],
   "source": [
    "%%script node\n",
    "let val = 10;\n",
    "let val2 = \"10\";\n",
    "console.log(typeof +\"65\");\n",
    "console.log(\"111\" == 111);\n",
    "console.log(\"111\" === 111);\n",
    "\n",
    "function add(a, b) {\n",
    "    return a + b;\n",
    "}\n",
    "\n",
    "let print = (str) => {\n",
    "    console.log(str);\n",
    "}\n",
    "\n"
   ]
  }
 ],
 "metadata": {
  "kernelspec": {
   "display_name": "Python 3.9.6 64-bit",
   "language": "python",
   "name": "python3"
  },
  "language_info": {
   "codemirror_mode": {
    "name": "ipython",
    "version": 3
   },
   "file_extension": ".py",
   "mimetype": "text/x-python",
   "name": "python",
   "nbconvert_exporter": "python",
   "pygments_lexer": "ipython3",
   "version": "3.9.6"
  },
  "orig_nbformat": 4,
  "vscode": {
   "interpreter": {
    "hash": "8b40f805f061d321c04a8102d8acec11bee1c272ceac9cdfac525cc428e3c005"
   }
  }
 },
 "nbformat": 4,
 "nbformat_minor": 2
}
