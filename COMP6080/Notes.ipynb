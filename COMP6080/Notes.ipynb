{
 "cells": [
  {
   "cell_type": "markdown",
   "metadata": {},
   "source": [
    "# Yarn\n",
    "- `yarn init`\n",
    "- `yarn add [package]`\n",
    "- `yarn upgrade [package]`\n",
    "- `yarn remove [package]`\n",
    "- `yarn info [package]`\n",
    "- `yarn cache list` // 列出已缓存的每个包\n",
    "- `yarn cache dir` // 返回全局缓存位置\n",
    "- `yarn cache clean` // 清除缓存\n"
   ]
  }
 ],
 "metadata": {
  "kernelspec": {
   "display_name": "Python 3.9.6 64-bit",
   "language": "python",
   "name": "python3"
  },
  "language_info": {
   "name": "python",
   "version": "3.9.6"
  },
  "orig_nbformat": 4,
  "vscode": {
   "interpreter": {
    "hash": "8b40f805f061d321c04a8102d8acec11bee1c272ceac9cdfac525cc428e3c005"
   }
  }
 },
 "nbformat": 4,
 "nbformat_minor": 2
}
