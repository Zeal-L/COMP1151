{
 "cells": [
  {
   "cell_type": "markdown",
   "metadata": {},
   "source": [
    "### **Hello World**"
   ]
  },
  {
   "cell_type": "code",
   "execution_count": null,
   "metadata": {
    "dotnet_interactive": {
     "language": "csharp"
    }
   },
   "outputs": [],
   "source": [
    "public class Test {\n",
    "    // String[] args还有一种等价的写法： String... args\n",
    "    // 前者为数组形式, 后者为可变参数形式。\n",
    "    public static void main(String[] args) {\n",
    "        System.out.println(\"Hello World\");\n",
    "        System.out.println(args[0]);\n",
    "    }\n",
    "}\n",
    "// 如果遇到编码问题，可以使用 -encoding 选项设置 utf-8 来编译：\n",
    "// javac -encoding UTF-8 HelloWorld.java \n",
    "// java HelloWorld "
   ]
  },
  {
   "cell_type": "markdown",
   "metadata": {},
   "source": [
    "<style>\n",
    "img{\n",
    "    width: 70%;\n",
    "    padding-left: 13%;\n",
    "}\n",
    "</style>\n",
    "![](https://www.runoob.com/wp-content/uploads/2013/12/662E827A-FA32-4464-B0BD-40087F429E98.jpg)"
   ]
  },
  {
   "cell_type": "markdown",
   "metadata": {},
   "source": [
    "### **枚举**\n",
    "Java 5.0引入了枚举，枚举限制变量只能是预先设定好的值。使用枚举可以减少代码中的 bug。\n",
    "\n",
    "例如，我们为果汁店设计一个程序，它将限制果汁为小杯、中杯、大杯。这就意味着它不允许顾客点除了这三种尺寸外的果汁"
   ]
  },
  {
   "cell_type": "code",
   "execution_count": null,
   "metadata": {
    "dotnet_interactive": {
     "language": "csharp"
    }
   },
   "outputs": [],
   "source": [
    "class FreshJuice {\n",
    "    enum FreshJuiceSize {\n",
    "        SMALL, MEDIUM, LARGE\n",
    "    }\n",
    "    FreshJuiceSize size;\n",
    "}\n",
    "FreshJuice juice = new FreshJuice();\n",
    "juice.size = FreshJuice.FreshJuiceSize.MEDIUM;\n",
    "System.out.println(juice.size + \"\\n\");\n",
    "for (FreshJuice.FreshJuiceSize x : FreshJuice.FreshJuiceSize.values()) {\n",
    "    System.out.println(x);\n",
    "}"
   ]
  },
  {
   "cell_type": "markdown",
   "metadata": {},
   "source": [
    "### **对象和类**"
   ]
  },
  {
   "cell_type": "code",
   "execution_count": null,
   "metadata": {
    "dotnet_interactive": {
     "language": "csharp"
    }
   },
   "outputs": [],
   "source": [
    "// 一个源文件中只能有一个 public 类\n",
    "// 一个源文件可以有多个非 public 类\n",
    "// 源文件的名称应该和 public 类的类名保持一致\n",
    "// 先写package 语句，然后再写 import 语句，最后再写 public 类\n",
    "public class Puppy {\n",
    "    int puppyAge;\n",
    "    public Puppy(String name) {\n",
    "        // 这个构造器仅有一个参数：name\n",
    "        System.out.println(\"小狗的名字是 : \" + name);\n",
    "    }\n",
    "    public void setAge(int age) {\n",
    "        puppyAge = age;\n",
    "    }\n",
    "    public int getAge() {\n",
    "        System.out.println(\"小狗的年龄为 : \" + puppyAge);\n",
    "        return puppyAge;\n",
    "    }    \n",
    "}\n",
    "/* 创建对象 */\n",
    "Puppy myPuppy = new Puppy(\"tommy\");\n",
    "/* 通过方法来设定age */\n",
    "myPuppy.setAge(2);\n",
    "/* 调用另一个方法获取age */\n",
    "myPuppy.getAge();\n",
    "/* 你也可以像下面这样访问成员变量 */\n",
    "System.out.println(\"变量值 : \" + myPuppy.puppyAge);"
   ]
  },
  {
   "cell_type": "markdown",
   "metadata": {},
   "source": [
    "### **For-Each 循环**"
   ]
  },
  {
   "cell_type": "code",
   "execution_count": null,
   "metadata": {
    "dotnet_interactive": {
     "language": "csharp"
    }
   },
   "outputs": [],
   "source": [
    "int [] numbers = {10, 20, 30, 40, 50};\n",
    "for(int x : numbers ){\n",
    "    System.out.print( x );\n",
    "    System.out.print(\",\");\n",
    "}\n",
    "System.out.print(\"\\n\");\n",
    "String [] names ={\"James\", \"Larry\", \"Tom\", \"Lacy\"};\n",
    "for( String name : names ) {\n",
    "    System.out.print( name );\n",
    "    System.out.print(\",\");\n",
    "}"
   ]
  },
  {
   "cell_type": "markdown",
   "metadata": {},
   "source": [
    "### **从控制台读取字符串输入**"
   ]
  },
  {
   "cell_type": "code",
   "execution_count": null,
   "metadata": {
    "dotnet_interactive": {
     "language": "csharp"
    }
   },
   "outputs": [],
   "source": [
    "// 使用 System.in 创建 BufferedReader\n",
    "BufferedReader br = new BufferedReader(new InputStreamReader(System.in));\n",
    "String str;\n",
    "System.out.println(\"Enter lines of text.\");\n",
    "System.out.println(\"Enter 'end' to quit.\");\n",
    "do {\n",
    "    str = br.readLine();\n",
    "    System.out.println(str);\n",
    "} while (!str.equals(\"end\"));"
   ]
  },
  {
   "cell_type": "code",
   "execution_count": null,
   "metadata": {
    "dotnet_interactive": {
     "language": "javascript"
    }
   },
   "outputs": [],
   "source": [
    "// 从键盘接收数据\n",
    "Scanner scan = new Scanner(System.in);\n",
    "// nextLine方式接收字符串\n",
    "System.out.println(\"nextLine方式接收：\");\n",
    "// 判断是否还有输入\n",
    "if (scan.hasNextLine()) {\n",
    "    String str = scan.nextLine();\n",
    "    System.out.println(\"输入的数据为：\" + str);\n",
    "}\n",
    "scan.close();"
   ]
  },
  {
   "cell_type": "markdown",
   "metadata": {},
   "source": [
    "### **接口**"
   ]
  },
  {
   "cell_type": "code",
   "execution_count": null,
   "metadata": {
    "dotnet_interactive": {
     "language": "csharp"
    }
   },
   "outputs": [],
   "source": [
    "// 接口中每一个方法也是隐式抽象的,接口中的方法会被隐式的指定为 public abstract\n",
    "interface Animal {\n",
    "    void eat();\n",
    "    void travel();\n",
    "}\n",
    "public class MammalInt implements Animal {\n",
    "    public void eat() {\n",
    "        System.out.println(\"Mammal eats\");\n",
    "    }\n",
    "    public void travel() {\n",
    "        System.out.println(\"Mammal travels\");\n",
    "    } \n",
    "    public int noOfLegs() {\n",
    "        return 0;\n",
    "    }\n",
    "}\n",
    "MammalInt m = new MammalInt();\n",
    "m.eat();\n",
    "m.travel();"
   ]
  },
  {
   "cell_type": "markdown",
   "metadata": {},
   "source": [
    "### **Behavioural Patterns**"
   ]
  },
  {
   "cell_type": "markdown",
   "metadata": {},
   "source": [
    "- <font color=#ff0000 size=4>**Strategy Pattern**</font>\n",
    "  - 动机\n",
    "    - 需要一种方法在运行时调整算法的行为\n",
    "  - 意图\n",
    "    - 定义一个算法系列，封装每个算法，并使它们可以互换。\n",
    "    - 策略模式是一种行为设计模式，可以让算法独立于使用它的环境类而变化。\n",
    "  - 适用性\n",
    "    - 许多相关的类在其行为上有所不同\n",
    "    - 一个上下文类可以从一个算法的不同变体中获益\n",
    "    - 一个类定义了许多行为，这些行为以多个条件语句的形式出现（例如，if或switch）。相反，将每个条件分支移到它们自己的具体策略类中去\n",
    "  - 好处\n",
    "    - 在继承的基础上使用组合，允许行为和使用该行为的上下文类之间更好地解耦。\n",
    "  - 缺点\n",
    "    - 增加了对象的数量\n",
    "    - 客户端必须了解不同的策略\n",
    "  - 例子\n",
    "    - 对列表进行排序（quicksort, bubble sort, merge-sort）\n",
    "      - 将每种排序算法封装成一个具体的策略类\n",
    "      - Context类在运行时决定需要哪种排序行为\n",
    "    - 搜索（二进制搜索、DFS、BFS、A*）\n",
    "\n",
    "- <font color=#ff0000 size=4>**State Pattern**</font>\n",
    "  - 状态模式允许一个对象拥有许多基于其内部状态的不同行为。\n",
    "  - 与程序性状态机不同，状态模式将状态表现为一个完整的类。\n",
    "  - Context通过委托给它所组成的当前状态对象来获得其行为。\n",
    "  - 通过将每个状态封装成一个类，我们将需要进行的任何改变都本地化。\n",
    "  - 状态模式和策略模式有相同的类图，但它们的意图不同。\n",
    "  - 策略模式通常用一种行为或算法来配置Context类。\n",
    "  - 状态模式允许Context随着Context状态的变化而改变其行为。\n",
    "  - 状态转换可以由状态类控制，也可以由Context类控制。\n",
    "  - 使用状态模式通常会导致你的设计中出现更多的类。\n",
    "  - 状态类可以在Context实例之间共享。\n",
    "\n",
    "- <font color=#ff0000 size=4>**Observer Pattern**</font>\n",
    "  - 观察者模式被用来实现分布式事件处理系统\n",
    "  - \"事件驱动\" 编程\n",
    "  - 一个被称为主体（或可观察者或发布者）的对象，维护一个被称为观察者（或订阅者）的依赖者列表，并在主体的任何状态变化中自动通知观察者，通常是通过调用他们的方法。\n",
    "  - 许多编程语言支持观察者模式，图形用户界面库广泛使用观察者模式。\n",
    "  - 观察者模式在对象之间定义了一个一对多的依赖关系，因此当一个对象（主体）改变状态时，其所有的依赖者（观察者）都会被通知并自动更新。\n",
    "  - 对象（主体）能够动态地添加和删除观察者\n",
    "  - 主打的就是一个一对多的关系，一个主体可以有一堆观察者，然后主体变化可以通知所有观察者们，可以是主动通知，push，或者是被动通知，观察者pull。就比如一个共享的数据，不需要每个人都写个查看，然后定时更新的方法了、直接让那个数据成为一个主播，我们订阅它就行\n",
    "  - 就跟你父类一个公共变量，然后子类实例们大家都可以读取差不多，不过这个更加松散，用接口方式实现，所以不同类的观察者也可以有个公共变量了\n",
    "  - 优点:\n",
    "    - 避免了主体与观察者之间的紧密耦合。\n",
    "    - 这允许主体和它的观察者在系统中处于不同的抽象层次。\n",
    "    - 松散耦合的对象更容易维护和重用。\n",
    "    - 允许动态注册和取消注册。\n",
    "  - 要小心:\n",
    "    - 主体的变化可能会导致其观察者的一连串更新，进而导致其附属对象的更新--导致复杂的更新行为。\n",
    "    - 需要适当地管理这种依赖关系。\n",
    "\n",
    "- <font color=#ff0000 size=4>**Template Method**</font>\n",
    "  - 模板方法模式是一种行为设计模式， 它在超类中定义了一个算法的框架， 允许子类在不修改结构的情况下重写算法的特定步骤。\n",
    "  - 模板方法模式建议将算法分解为一系列步骤， 然后将这些步骤改写为方法， 最后在 “模板方法” 中依次调用这些方法。 步骤可以是 抽象的， 也可以有一些默认的实现。 为了能够使用算法， 客户端需要自行提供子类并实现所有的抽象步骤。\n",
    "  - 首先， 我们将所有步骤声明为 抽象类型， 强制要求子类自行实现这些方法。 在我们的例子中， 子类中已有所有必要的实现， 因此我们只需调整这些方法的签名， 使之与超类的方法匹配即可。\n",
    "  - 当你只希望客户端扩展某个特定算法步骤， 而不是整个算法或其结构时， 可使用模板方法模式。\n",
    "    - 模板方法将整个算法转换为一系列独立的步骤， 以便子类能对其进行扩展， 同时还可让超类中所定义的结构保持完整。\n",
    "  - 当多个类的算法除一些细微不同之外几乎完全一样时， 你可使用该模式。 但其后果就是， 只要算法发生变化， 你就可能需要修改所有的类。\n",
    "    - 在将算法转换为模板方法时， 你可将相似的实现步骤提取到超类中以去除重复代码。 子类间各不同的代码可继续保留在子类中。\n",
    "  - 实现方式\n",
    "    1. 分析目标算法， 确定能否将其分解为多个步骤。 从所有子类的角度出发， 考虑哪些步骤能够通用， 哪些步骤各不相同。\n",
    "    2. 创建抽象基类并声明一个模板方法和代表算法步骤的一系列抽象方法。 在模板方法中根据算法结构依次调用相应步骤。 可用 final最终修饰模板方法以防止子类对其进行重写。\n",
    "    3. 虽然可将所有步骤全都设为抽象类型， 但默认实现可能会给部分步骤带来好处， 因为子类无需实现那些方法。\n",
    "    4. 可考虑在算法的关键步骤之间添加钩子。\n",
    "    5. 为每个算法变体新建一个具体子类， 它必须实现所有的抽象步骤， 也可以重写部分可选步骤。\n",
    "  - 工厂方法模式是模板方法模式的一种特殊形式。 同时， 工厂方法可以作为一个大型模板方法中的一个步骤。\n",
    "  - 模板方法基于继承机制： 它允许你通过扩展子类中的部分内容来改变部分算法。 策略模式基于组合机制： 你可以通过对相应行为提供不同的策略来改变对象的部分行为。 模板方法在类层次上运作， 因此它是静态的。 策略在对象层次上运作， 因此允许在运行时切换行为。 \n",
    "\n",
    "- <font color=#ff0000 size=4>**Visitor Method**</font>\n",
    "  - 访问者模式是一种行为设计模式， 它能将算法与其所作用的对象隔离开来。为现有的对象增加了新的操作/行为而不需要修改它们。\n",
    "  - 如果你需要对一个复杂对象结构 （例如对象树） 中的所有元素执行某些操作， 可使用访问者模式。\n",
    "    - 访问者模式通过在访问者对象中为多个目标类提供相同操作的变体， 让你能在属于不同类的一组对象上执行同一操作。\n",
    "  - 可使用访问者模式来清理辅助行为的业务逻辑\n",
    "    - 该模式会将所有非主要的行为抽取到一组访问者类中， 使得程序的主要类能更专注于主要的工作。\n",
    "  - 当某个行为仅在类层次结构中的一些类中有意义， 而在其他类中没有意义时， 可使用该模式。\n",
    "    - 你可将该行为抽取到单独的访问者类中， 只需实现接收相关类的对象作为参数的访问者方法并将其他方法留空即可。\n",
    "\n",
    "- <font color=#ff0000 size=4>**Command Pattern**</font>\n",
    "  - 命令模式允许你将动作的请求者与实际执行动作的对象脱钩。\n",
    "  - 一个命令对象封装了对一个特定对象（例如，客厅的灯光对象）的请求（例如，开灯）\n",
    "  - 一个命令对象与一个调用者（例如一个按钮）相关联。\n",
    "  - 一个调用者在一个命令对象上执行一个预定义的方法，然后按照相关的请求执行动作。\n",
    "  - 一个调用者（比如一个按钮）与原始请求（开灯）是脱钩的。\n",
    "  - 我们可以很容易地改变/替换一个命令对象，从而产生不同的动作。\n",
    "  - 命令模式是一种行为模式，它将一个请求转化为一个对象，允许它作为方法参数被传递、被序列化、被记录、被排队延迟执行等。\n",
    "\n"
   ]
  },
  {
   "cell_type": "markdown",
   "metadata": {},
   "source": [
    "### **Structural Patterns**"
   ]
  },
  {
   "cell_type": "markdown",
   "metadata": {},
   "source": [
    "- <font color=#ff0000 size=4>**Composite Pattern**</font>\n",
    "  -  复合模式提供了一个结构来容纳单个对象和复合体。目的是能够像操纵一组对象一样操纵单个对象的实例。\n",
    "  - 比如说。\n",
    "    - 调整一组形状的大小的操作应该与调整单个形状的大小相同。\n",
    "    - 计算一个文件的大小应该和计算一个目录一样。\n",
    "    - 单一和复合对象之间没有区别。\n",
    "  - 如果我们对单个对象和一组对象进行区分。代码将变得更加复杂，因此，更容易出错。\n",
    "  - 客户端可以忽略对象的组合和单个对象之间的差异，这大大简化了复杂层次结构的客户端，使其更容易实现、改变、测试和重用。\n",
    "  - 在实现Composite时，有许多设计上的权衡。你需要根据你的需求平衡统一性和类型安全。\n",
    "  - 实现方式\n",
    "    1. 在访问者接口中声明一组 “访问” 方法， 分别对应程序中的每个具体元素类。\n",
    "    2. 声明元素接口。 如果程序中已有元素类层次接口， 可在层次结构基类中添加抽象的 “接收” 方法。 该方法必须接受访问者对象作为参数。\n",
    "    3. 在所有具体元素类中实现接收方法。 这些方法必须将调用重定向到当前元素对应的访问者对象中的访问者方法上。\n",
    "    4. 元素类只能通过访问者接口与访问者进行交互。 不过访问者必须知晓所有的具体元素类， 因为这些类在访问者方法中都被作为参数类型引用。\n",
    "    5. 为每个无法在元素层次结构中实现的行为创建一个具体访问者类并实现所有的访问者方法。\n",
    "    6. 你可能会遇到访问者需要访问元素类的部分私有成员变量的情况。 在这种情况下， 你要么将这些变量或方法设为公有， 这将破坏元素的封装； 要么将访问者类嵌入到元素类中。 后一种方式只有在支持嵌套类的编程语言中才可能实现。\n",
    "    7. 客户端必须创建访问者对象并通过 “接收” 方法将其传递给元素。\n",
    "\n",
    "\n",
    "- <font color=#ff0000 size=4>**Decorator Pattern**</font>\n",
    "  - 装饰模式是一种结构型设计模式， 允许你通过将对象放入包含行为的特殊封装对象中来为原对象绑定新的行为\n",
    "  - 装饰器设计模式允许我们在运行时有选择地给一个对象（而不是类）添加功能。\n",
    "  - 原有的类不被改变（Open-Closed原则）。\n",
    "  - 继承在编译时扩展了行为，额外的功能被绑定到该类的所有实例的生命周期中。\n",
    "  - 装饰者设计模式更倾向于组合而不是继承。它是一种结构模式，为现有的类提供一个包装。\n",
    "  - 由于这种设计模式所涉及的递归，对象可以以不同的顺序被多次装饰。\n",
    "  - 不需要在一个（复杂的）类中实现所有可能的功能。\n",
    "\n",
    "- <font color=#ff0000 size=4>**Adapter Pattern**</font>\n",
    "  - 将一个类的接口转换成客户期望的另一个接口, 适配器让那些因接口不兼容而无法一起工作的类一起工作\n",
    "  - 适配器模式经常被用来使现有的类（API）与客户类一起工作而不需要修改它们的源代码\n",
    "  - 适配器类映射/连接了两种不同类型/接口的功能\n",
    "  - 适配器模式为现有的有用的类提供一个包装，这样客户类就可以使用现有类的功能\n",
    "  - 适配器模式不提供额外的功能\n",
    "\n",
    "- <font color=#ff0000 size=4>**Façade Pattern**</font>\n",
    "  - 提供一个简化的接口来隐藏一个或多个类的所有复杂性\n",
    "  - 适配器模式与Façade模式的区别：\n",
    "    - 适配器模式。将一个接口转换为另一个接口（客户期待的接口）。\n",
    "    - Façade模式。使复杂类(子系统)的接口更简单\n",
    "  - Facades提供了一个简化的接口给底层的类/类。\n",
    "  - 重要的是，facades并没有 \"封装 \"子系统的类。\n",
    "  - 底层的子系统类和它们的方法仍然可以供客户直接使用。例如，在家庭影院的例子中，投影仪、扩音器等的方法"
   ]
  },
  {
   "cell_type": "markdown",
   "metadata": {},
   "source": [
    "### **Creational Patterns**\n",
    "创建模式提供了各种对象的创建机制，这增加了灵活性和对现有代码的重用。"
   ]
  },
  {
   "cell_type": "markdown",
   "metadata": {},
   "source": [
    "- <font color=#ff0000 size=4>**Factory Method Pattern**</font>\n",
    "  - 工厂方法提供了一个在超类中创建对象的接口，但允许子类改变将被创建的对象的类型。\n",
    "  - 定义一个单独的操作（工厂方法）来创建一个对象。\n",
    "  - 通过调用一个工厂方法来创建一个对象。\n",
    "  - 这使得编写子类可以改变创建对象的方式（重新定义哪个类的实例化）。\n",
    "\n",
    "\n",
    "- <font color=#ff0000 size=4>**Abstract Factory Pattern**</font>\n",
    "  - 让用户产生相关对象的系列,而不需要指定它们的具体类别。\n",
    "  - 抽象工厂允许你在不指定具体类的情况下产生相关对象的系列。\n",
    "  - 抽象产品为一组不同但相关的产品声明接口，这些产品构成了一个产品系列。\n",
    "  - 具体产品是抽象产品的各种实现，按变体分组。每个抽象产品（椅子/沙发）必须在所有给定的变体（维多利亚式/现代式）中实现。\n",
    "  - 抽象工厂接口声明了一套用于创建每个抽象产品的方法。\n",
    "  - 具体工厂实现抽象工厂的创建方法。每个具体工厂对应于一个特定的产品变体，并且只创建这些产品变体。\n",
    "    - 客户端可以与任何具体工厂/产品变体一起工作，只要它通过抽象接口与它们的对象进行通信。\n",
    "\n",
    "- <font color=#ff0000 size=4>**Builder Pattern**</font>\n",
    "  - 让用户一步一步地构建复杂的对象。该模式允许用户使用相同的构造代码产生不同类型和表现形式的对象。\n",
    "\n",
    "\n",
    "- <font color=#ff0000 size=4>**Singleton Pattern**</font>\n",
    "  - 让用户确保一个类只有一个实例，同时为这个实例提供一个全局访问点。\n",
    "  - 保证一个类只有一个实例。 为什么会有人想要控制一个类所拥有的实例数量？ 最常见的原因是控制某些共享资源 （例如数据库或文件） 的访问权限。\n",
    "  - 所有单例的实现都包含以下两个相同的步骤：\n",
    "    - 将默认构造函数设为私有， 防止其他对象使用单例类的 new运算符。\n",
    "    - 新建一个静态构建方法作为构造函数。 该函数会 “偷偷” 调用私有构造函数来创建对象， 并将其保存在一个静态成员变量中。 此后所有对于该函数的调用都将返回这一缓存对象。\n",
    "  - 如果程序中的某个类对于所有客户端只有一个可用的实例， 可以使用单例模式。\n",
    "  - 如果你需要更加严格地控制全局变量， 可以使用单例模式。\n",
    "  - 该模式在多线程环境下需要进行特殊处理， 避免多个线程多次创建单例对象。\n"
   ]
  },
  {
   "cell_type": "markdown",
   "metadata": {},
   "source": [
    "gradle test  \n",
    "build/reports/jacoco/test/html/index.html  \n",
    "\n",
    "xml.destination file(\"$buildDir/jacoco/cov.xml\")  \n",
    "html.destination file(\"$buildDir/jacoco/html\")  "
   ]
  },
  {
   "cell_type": "code",
   "execution_count": null,
   "metadata": {},
   "outputs": [],
   "source": [
    "// 函数式编程 in Java\n",
    "\n",
    "import java.util.function.Function;\n",
    "import java.util.function.Supplier;\n",
    "import java.util.function.Consumer;\n",
    "\n",
    "public static Supplier<Integer> doubleFunc2(int x) {\n",
    "    return () -> x * 2;\n",
    "}\n",
    "System.out.println(doubleFunc2(4).get());\n",
    "\n",
    "\n",
    "Function<Integer, Integer> doubleFunc = x -> x * 2;\n",
    "\n",
    "Supplier<Function<Integer, Integer>> supplier = () -> doubleFunc;\n",
    "\n",
    "Consumer<Function<Integer, Integer>> consumer = x -> System.out.println(x.apply(2));\n",
    "\n",
    "System.out.println(doubleFunc.apply(2));\n",
    "\n",
    "System.out.println(supplier.get().apply(2));\n",
    "\n",
    "consumer.accept(supplier.get());\n"
   ]
  },
  {
   "cell_type": "code",
   "execution_count": null,
   "metadata": {},
   "outputs": [],
   "source": []
  }
 ],
 "metadata": {
  "kernelspec": {
   "display_name": "Java",
   "language": "java",
   "name": "java"
  },
  "language_info": {
   "codemirror_mode": "java",
   "file_extension": ".jshell",
   "mimetype": "text/x-java-source",
   "name": "java",
   "pygments_lexer": "java",
   "version": "17.0.3.1+2-LTS-6"
  },
  "orig_nbformat": 4,
  "vscode": {
   "interpreter": {
    "hash": "8b40f805f061d321c04a8102d8acec11bee1c272ceac9cdfac525cc428e3c005"
   }
  }
 },
 "nbformat": 4,
 "nbformat_minor": 2
}
