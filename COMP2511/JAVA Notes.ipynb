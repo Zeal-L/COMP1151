{
 "cells": [
  {
   "cell_type": "markdown",
   "metadata": {},
   "source": [
    "### **Hello World**"
   ]
  },
  {
   "cell_type": "code",
   "execution_count": null,
   "metadata": {},
   "outputs": [],
   "source": [
    "public class Test {\n",
    "    // String[] args还有一种等价的写法： String... args\n",
    "    // 前者为数组形式, 后者为可变参数形式。\n",
    "    public static void main(String[] args) {\n",
    "        System.out.println(\"Hello World\");\n",
    "        System.out.println(args[0]);\n",
    "    }\n",
    "}\n",
    "// 如果遇到编码问题，可以使用 -encoding 选项设置 utf-8 来编译：\n",
    "// javac -encoding UTF-8 HelloWorld.java \n",
    "// java HelloWorld "
   ]
  },
  {
   "cell_type": "markdown",
   "metadata": {},
   "source": [
    "<style>\n",
    "img{\n",
    "    width: 70%;\n",
    "    padding-left: 13%;\n",
    "}\n",
    "</style>\n",
    "![](https://www.runoob.com/wp-content/uploads/2013/12/662E827A-FA32-4464-B0BD-40087F429E98.jpg)"
   ]
  },
  {
   "cell_type": "markdown",
   "metadata": {},
   "source": [
    "### **枚举**\n",
    "Java 5.0引入了枚举，枚举限制变量只能是预先设定好的值。使用枚举可以减少代码中的 bug。\n",
    "\n",
    "例如，我们为果汁店设计一个程序，它将限制果汁为小杯、中杯、大杯。这就意味着它不允许顾客点除了这三种尺寸外的果汁"
   ]
  },
  {
   "cell_type": "code",
   "execution_count": null,
   "metadata": {},
   "outputs": [],
   "source": [
    "class FreshJuice {\n",
    "    enum FreshJuiceSize {\n",
    "        SMALL, MEDIUM, LARGE\n",
    "    }\n",
    "    FreshJuiceSize size;\n",
    "}\n",
    "FreshJuice juice = new FreshJuice();\n",
    "juice.size = FreshJuice.FreshJuiceSize.MEDIUM;\n",
    "System.out.println(juice.size + \"\\n\");\n",
    "for (FreshJuice.FreshJuiceSize x : FreshJuice.FreshJuiceSize.values()) {\n",
    "    System.out.println(x);\n",
    "}"
   ]
  },
  {
   "cell_type": "markdown",
   "metadata": {},
   "source": [
    "### **对象和类**"
   ]
  },
  {
   "cell_type": "code",
   "execution_count": null,
   "metadata": {},
   "outputs": [],
   "source": [
    "// 一个源文件中只能有一个 public 类\n",
    "// 一个源文件可以有多个非 public 类\n",
    "// 源文件的名称应该和 public 类的类名保持一致\n",
    "// 先写package 语句，然后再写 import 语句，最后再写 public 类\n",
    "public class Puppy {\n",
    "    int puppyAge;\n",
    "    public Puppy(String name) {\n",
    "        // 这个构造器仅有一个参数：name\n",
    "        System.out.println(\"小狗的名字是 : \" + name);\n",
    "    }\n",
    "    public void setAge(int age) {\n",
    "        puppyAge = age;\n",
    "    }\n",
    "    public int getAge() {\n",
    "        System.out.println(\"小狗的年龄为 : \" + puppyAge);\n",
    "        return puppyAge;\n",
    "    }    \n",
    "}\n",
    "/* 创建对象 */\n",
    "Puppy myPuppy = new Puppy(\"tommy\");\n",
    "/* 通过方法来设定age */\n",
    "myPuppy.setAge(2);\n",
    "/* 调用另一个方法获取age */\n",
    "myPuppy.getAge();\n",
    "/* 你也可以像下面这样访问成员变量 */\n",
    "System.out.println(\"变量值 : \" + myPuppy.puppyAge);"
   ]
  },
  {
   "cell_type": "markdown",
   "metadata": {},
   "source": [
    "### **For-Each 循环**"
   ]
  },
  {
   "cell_type": "code",
   "execution_count": null,
   "metadata": {},
   "outputs": [],
   "source": [
    "int [] numbers = {10, 20, 30, 40, 50};\n",
    "for(int x : numbers ){\n",
    "    System.out.print( x );\n",
    "    System.out.print(\",\");\n",
    "}\n",
    "System.out.print(\"\\n\");\n",
    "String [] names ={\"James\", \"Larry\", \"Tom\", \"Lacy\"};\n",
    "for( String name : names ) {\n",
    "    System.out.print( name );\n",
    "    System.out.print(\",\");\n",
    "}"
   ]
  },
  {
   "cell_type": "markdown",
   "metadata": {},
   "source": [
    "### **从控制台读取字符串输入**"
   ]
  },
  {
   "cell_type": "code",
   "execution_count": null,
   "metadata": {},
   "outputs": [],
   "source": [
    "// 使用 System.in 创建 BufferedReader\n",
    "BufferedReader br = new BufferedReader(new InputStreamReader(System.in));\n",
    "String str;\n",
    "System.out.println(\"Enter lines of text.\");\n",
    "System.out.println(\"Enter 'end' to quit.\");\n",
    "do {\n",
    "    str = br.readLine();\n",
    "    System.out.println(str);\n",
    "} while (!str.equals(\"end\"));"
   ]
  },
  {
   "cell_type": "code",
   "execution_count": null,
   "metadata": {},
   "outputs": [],
   "source": [
    "// 从键盘接收数据\n",
    "Scanner scan = new Scanner(System.in);\n",
    "// nextLine方式接收字符串\n",
    "System.out.println(\"nextLine方式接收：\");\n",
    "// 判断是否还有输入\n",
    "if (scan.hasNextLine()) {\n",
    "    String str = scan.nextLine();\n",
    "    System.out.println(\"输入的数据为：\" + str);\n",
    "}\n",
    "scan.close();"
   ]
  },
  {
   "cell_type": "markdown",
   "metadata": {},
   "source": [
    "### **接口**"
   ]
  },
  {
   "cell_type": "code",
   "execution_count": null,
   "metadata": {},
   "outputs": [],
   "source": [
    "// 接口中每一个方法也是隐式抽象的,接口中的方法会被隐式的指定为 public abstract\n",
    "interface Animal {\n",
    "    void eat();\n",
    "    void travel();\n",
    "}\n",
    "public class MammalInt implements Animal {\n",
    "    public void eat() {\n",
    "        System.out.println(\"Mammal eats\");\n",
    "    }\n",
    "    public void travel() {\n",
    "        System.out.println(\"Mammal travels\");\n",
    "    } \n",
    "    public int noOfLegs() {\n",
    "        return 0;\n",
    "    }\n",
    "}\n",
    "MammalInt m = new MammalInt();\n",
    "m.eat();\n",
    "m.travel();"
   ]
  },
  {
   "cell_type": "markdown",
   "metadata": {},
   "source": [
    "### **Design Patterns Categories**\n",
    "#### **Behavioural Patterns**\n",
    "- <font color=#ff0000 size=4>**Strategy Pattern**</font>\n",
    "  - 动机\n",
    "    - 需要一种方法在运行时调整算法的行为\n",
    "  - 意图\n",
    "    - 定义一个算法系列，封装每个算法，并使它们可以互换。\n",
    "    - 策略模式是一种行为设计模式，可以让算法独立于使用它的环境类而变化。\n",
    "  - 适用性\n",
    "    - 许多相关的类在其行为上有所不同\n",
    "    - 一个上下文类可以从一个算法的不同变体中获益\n",
    "    - 一个类定义了许多行为，这些行为以多个条件语句的形式出现（例如，if或switch）。相反，将每个条件分支移到它们自己的具体策略类中去\n",
    "  - 好处\n",
    "    - 在继承的基础上使用组合，允许行为和使用该行为的上下文类之间更好地解耦。\n",
    "  - 缺点\n",
    "    - 增加了对象的数量\n",
    "    - 客户端必须了解不同的策略\n",
    "  - 例子\n",
    "    - 对列表进行排序（quicksort, bubble sort, merge-sort）\n",
    "      - 将每种排序算法封装成一个具体的策略类\n",
    "      - Context类在运行时决定需要哪种排序行为\n",
    "    - 搜索（二进制搜索、DFS、BFS、A*）\n",
    "- <font color=#ff0000 size=4>**State Pattern**</font>\n",
    "  - 状态模式允许一个对象拥有许多基于其内部状态的不同行为。\n",
    "  - 与程序性状态机不同，状态模式将状态表现为一个完整的类。\n",
    "  - Context通过委托给它所组成的当前状态对象来获得其行为。\n",
    "  - 通过将每个状态封装成一个类，我们将需要进行的任何改变都本地化。\n",
    "  - 状态模式和策略模式有相同的类图，但它们的意图不同。\n",
    "  - 策略模式通常用一种行为或算法来配置Context类。\n",
    "  - 状态模式允许Context随着Context状态的变化而改变其行为。\n",
    "  - 状态转换可以由状态类控制，也可以由Context类控制。\n",
    "  - 使用状态模式通常会导致你的设计中出现更多的类。\n",
    "  - 状态类可以在Context实例之间共享。\n",
    "- <font color=#ff0000 size=4>**Observer Pattern**</font>\n",
    "  - 观察者模式被用来实现分布式事件处理系统\n",
    "  - \"事件驱动\" 编程\n",
    "  - 一个被称为主体（或可观察者或发布者）的对象，维护一个被称为观察者（或订阅者）的依赖者列表，并在主体的任何状态变化中自动通知观察者，通常是通过调用他们的方法。\n",
    "  - 许多编程语言支持观察者模式，图形用户界面库广泛使用观察者模式。\n",
    "  - 观察者模式在对象之间定义了一个一对多的依赖关系，因此当一个对象（主体）改变状态时，其所有的依赖者（观察者）都会被通知并自动更新。\n",
    "  - 对象（主体）能够动态地添加和删除观察者\n",
    "  - 主打的就是一个一对多的关系，一个主体可以有一堆观察者，然后主体变化可以通知所有观察者们，可以是主动通知，push，或者是被动通知，观察者pull。就比如一个共享的数据，不需要每个人都写个查看，然后定时更新的方法了、直接让那个数据成为一个主播，我们订阅它就行\n",
    "  - 就跟你父类一个公共变量，然后子类实例们大家都可以读取差不多，不过这个更加松散，用接口方式实现，所以不同类的观察者也可以有个公共变量了\n",
    "  - 优点:\n",
    "    - 避免了主体与观察者之间的紧密耦合。\n",
    "    - 这允许主体和它的观察者在系统中处于不同的抽象层次。\n",
    "    - 松散耦合的对象更容易维护和重用。\n",
    "    - 允许动态注册和取消注册。\n",
    "  - 要小心:\n",
    "    - 主体的变化可能会导致其观察者的一连串更新，进而导致其附属对象的更新--导致复杂的更新行为。\n",
    "    - 需要适当地管理这种依赖关系。\n",
    "\n",
    "#### **Structural Patterns**\n",
    "- <font color=#ff0000 size=4>**Composite Pattern**</font>\n",
    "  -  复合模式提供了一个结构来容纳单个对象和复合体。目的是能够像操纵一组对象一样操纵单个对象的实例。\n",
    "  - 比如说。\n",
    "    - 调整一组形状的大小的操作应该与调整单个形状的大小相同。\n",
    "    - 计算一个文件的大小应该和计算一个目录一样。\n",
    "    - 单一和复合对象之间没有区别。\n",
    "  - 如果我们对单个对象和一组对象进行区分。代码将变得更加复杂，因此，更容易出错。\n",
    "  - 客户端可以忽略对象的组合和单个对象之间的差异，这大大简化了复杂层次结构的客户端，使其更容易实现、改变、测试和重用。\n",
    "  - 在实现Composite时，有许多设计上的权衡。你需要根据你的需求平衡统一性和类型安全。\n",
    "#### **Creational Patterns**"
   ]
  },
  {
   "cell_type": "markdown",
   "metadata": {},
   "source": [
    "gradle test"
   ]
  }
 ],
 "metadata": {
  "interpreter": {
   "hash": "8b40f805f061d321c04a8102d8acec11bee1c272ceac9cdfac525cc428e3c005"
  },
  "kernelspec": {
   "display_name": "Java",
   "language": "java",
   "name": "java"
  },
  "language_info": {
   "codemirror_mode": "java",
   "file_extension": ".jshell",
   "mimetype": "text/x-java-source",
   "name": "java",
   "pygments_lexer": "java",
   "version": "17.0.3.1+2-LTS-6"
  },
  "orig_nbformat": 4
 },
 "nbformat": 4,
 "nbformat_minor": 2
}
