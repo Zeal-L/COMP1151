{
 "cells": [
  {
   "cell_type": "markdown",
   "metadata": {},
   "source": [
    "### **Hello World**"
   ]
  },
  {
   "cell_type": "code",
   "execution_count": null,
   "metadata": {},
   "outputs": [],
   "source": [
    "public class Test {\n",
    "    // String[] args还有一种等价的写法： String... args\n",
    "    // 前者为数组形式, 后者为可变参数形式。\n",
    "    public static void main(String[] args) {\n",
    "        System.out.println(\"Hello World\");\n",
    "        System.out.println(args[0]);\n",
    "    }\n",
    "}\n",
    "// 如果遇到编码问题，可以使用 -encoding 选项设置 utf-8 来编译：\n",
    "// javac -encoding UTF-8 HelloWorld.java \n",
    "// java HelloWorld "
   ]
  },
  {
   "cell_type": "markdown",
   "metadata": {},
   "source": [
    "<style>\n",
    "img{\n",
    "    width: 70%;\n",
    "    padding-left: 13%;\n",
    "}\n",
    "</style>\n",
    "![](https://www.runoob.com/wp-content/uploads/2013/12/662E827A-FA32-4464-B0BD-40087F429E98.jpg)"
   ]
  },
  {
   "cell_type": "markdown",
   "metadata": {},
   "source": [
    "### **枚举**\n",
    "Java 5.0引入了枚举，枚举限制变量只能是预先设定好的值。使用枚举可以减少代码中的 bug。\n",
    "\n",
    "例如，我们为果汁店设计一个程序，它将限制果汁为小杯、中杯、大杯。这就意味着它不允许顾客点除了这三种尺寸外的果汁"
   ]
  },
  {
   "cell_type": "code",
   "execution_count": null,
   "metadata": {},
   "outputs": [],
   "source": [
    "class FreshJuice {\n",
    "    enum FreshJuiceSize {\n",
    "        SMALL, MEDIUM, LARGE\n",
    "    }\n",
    "    FreshJuiceSize size;\n",
    "}\n",
    "FreshJuice juice = new FreshJuice();\n",
    "juice.size = FreshJuice.FreshJuiceSize.MEDIUM;\n",
    "System.out.println(juice.size + \"\\n\");\n",
    "for (FreshJuice.FreshJuiceSize x : FreshJuice.FreshJuiceSize.values()) {\n",
    "    System.out.println(x);\n",
    "}"
   ]
  },
  {
   "cell_type": "markdown",
   "metadata": {},
   "source": [
    "### **对象和类**"
   ]
  },
  {
   "cell_type": "code",
   "execution_count": null,
   "metadata": {},
   "outputs": [],
   "source": [
    "// 一个源文件中只能有一个 public 类\n",
    "// 一个源文件可以有多个非 public 类\n",
    "// 源文件的名称应该和 public 类的类名保持一致\n",
    "// 先写package 语句，然后再写 import 语句，最后再写 public 类\n",
    "public class Puppy {\n",
    "    int puppyAge;\n",
    "    public Puppy(String name) {\n",
    "        // 这个构造器仅有一个参数：name\n",
    "        System.out.println(\"小狗的名字是 : \" + name);\n",
    "    }\n",
    "    public void setAge(int age) {\n",
    "        puppyAge = age;\n",
    "    }\n",
    "    public int getAge() {\n",
    "        System.out.println(\"小狗的年龄为 : \" + puppyAge);\n",
    "        return puppyAge;\n",
    "    }    \n",
    "}\n",
    "/* 创建对象 */\n",
    "Puppy myPuppy = new Puppy(\"tommy\");\n",
    "/* 通过方法来设定age */\n",
    "myPuppy.setAge(2);\n",
    "/* 调用另一个方法获取age */\n",
    "myPuppy.getAge();\n",
    "/* 你也可以像下面这样访问成员变量 */\n",
    "System.out.println(\"变量值 : \" + myPuppy.puppyAge);"
   ]
  },
  {
   "cell_type": "markdown",
   "metadata": {},
   "source": [
    "### **For-Each 循环**"
   ]
  },
  {
   "cell_type": "code",
   "execution_count": null,
   "metadata": {},
   "outputs": [],
   "source": [
    "int [] numbers = {10, 20, 30, 40, 50};\n",
    "for(int x : numbers ){\n",
    "    System.out.print( x );\n",
    "    System.out.print(\",\");\n",
    "}\n",
    "System.out.print(\"\\n\");\n",
    "String [] names ={\"James\", \"Larry\", \"Tom\", \"Lacy\"};\n",
    "for( String name : names ) {\n",
    "    System.out.print( name );\n",
    "    System.out.print(\",\");\n",
    "}"
   ]
  },
  {
   "cell_type": "markdown",
   "metadata": {},
   "source": [
    "### **从控制台读取字符串输入**"
   ]
  },
  {
   "cell_type": "code",
   "execution_count": null,
   "metadata": {},
   "outputs": [],
   "source": [
    "// 使用 System.in 创建 BufferedReader\n",
    "BufferedReader br = new BufferedReader(new InputStreamReader(System.in));\n",
    "String str;\n",
    "System.out.println(\"Enter lines of text.\");\n",
    "System.out.println(\"Enter 'end' to quit.\");\n",
    "do {\n",
    "    str = br.readLine();\n",
    "    System.out.println(str);\n",
    "} while (!str.equals(\"end\"));"
   ]
  },
  {
   "cell_type": "code",
   "execution_count": null,
   "metadata": {},
   "outputs": [],
   "source": [
    "// 从键盘接收数据\n",
    "Scanner scan = new Scanner(System.in);\n",
    "// nextLine方式接收字符串\n",
    "System.out.println(\"nextLine方式接收：\");\n",
    "// 判断是否还有输入\n",
    "if (scan.hasNextLine()) {\n",
    "    String str = scan.nextLine();\n",
    "    System.out.println(\"输入的数据为：\" + str);\n",
    "}\n",
    "scan.close();"
   ]
  },
  {
   "cell_type": "markdown",
   "metadata": {},
   "source": [
    "### **接口**"
   ]
  },
  {
   "cell_type": "code",
   "execution_count": null,
   "metadata": {},
   "outputs": [],
   "source": [
    "// 接口中每一个方法也是隐式抽象的,接口中的方法会被隐式的指定为 public abstract\n",
    "interface Animal {\n",
    "    void eat();\n",
    "    void travel();\n",
    "}\n",
    "public class MammalInt implements Animal {\n",
    "    public void eat() {\n",
    "        System.out.println(\"Mammal eats\");\n",
    "    }\n",
    "    public void travel() {\n",
    "        System.out.println(\"Mammal travels\");\n",
    "    } \n",
    "    public int noOfLegs() {\n",
    "        return 0;\n",
    "    }\n",
    "}\n",
    "MammalInt m = new MammalInt();\n",
    "m.eat();\n",
    "m.travel();"
   ]
  }
 ],
 "metadata": {
  "interpreter": {
   "hash": "8b40f805f061d321c04a8102d8acec11bee1c272ceac9cdfac525cc428e3c005"
  },
  "kernelspec": {
   "display_name": "Java",
   "language": "java",
   "name": "java"
  },
  "language_info": {
   "codemirror_mode": "java",
   "file_extension": ".jshell",
   "mimetype": "text/x-java-source",
   "name": "java",
   "pygments_lexer": "java",
   "version": "17.0.3.1+2-LTS-6"
  },
  "orig_nbformat": 4
 },
 "nbformat": 4,
 "nbformat_minor": 2
}
